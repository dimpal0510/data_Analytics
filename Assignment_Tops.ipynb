{
 "cells": [
  {
   "cell_type": "code",
   "execution_count": 3,
   "id": "f5ec5c2a-8b61-4426-b3ae-d60f727f66f5",
   "metadata": {},
   "outputs": [
    {
     "name": "stdout",
     "output_type": "stream",
     "text": [
      "Hello , World!\n"
     ]
    }
   ],
   "source": [
    "#1. write A Python Program to Print “Hello, World!”\n",
    "\n",
    "print(\"Hello , World!\")\n"
   ]
  },
  {
   "cell_type": "code",
   "execution_count": 5,
   "id": "39960df0-69cb-4c83-8fe3-eb7b23df02e6",
   "metadata": {},
   "outputs": [
    {
     "name": "stdout",
     "output_type": "stream",
     "text": [
      "30\n"
     ]
    }
   ],
   "source": [
    "#2. Python Program to Add Two Integers.\n",
    "\n",
    "a = 10\n",
    "b = 20\n",
    "\n",
    "print(a+b)"
   ]
  },
  {
   "cell_type": "code",
   "execution_count": 1,
   "id": "cf2b7fd9-a1c4-4e3a-b8ab-547507af6de2",
   "metadata": {},
   "outputs": [
    {
     "name": "stdout",
     "output_type": "stream",
     "text": [
      "20\n",
      "10\n"
     ]
    }
   ],
   "source": [
    "#3.Python Program to Swap Values of Two Variables.\n",
    "a = 10\n",
    "b = 20\n",
    "\n",
    "a,b = b,a\n",
    "print(a)\n",
    "print(b)\n"
   ]
  },
  {
   "cell_type": "code",
   "execution_count": 11,
   "id": "450b6884-8551-4114-a927-6ae07acfc248",
   "metadata": {},
   "outputs": [
    {
     "name": "stdout",
     "output_type": "stream",
     "text": [
      "multiplication of two floating number is 14.82\n"
     ]
    }
   ],
   "source": [
    "#4. Python Program to Multiply two Floating Point Numbers\n",
    "\n",
    "a = 2.6\n",
    "b = 5.7\n",
    "\n",
    "c = a * b\n",
    "\n",
    "print(f\"multiplication of two floating number is {c}\")"
   ]
  },
  {
   "cell_type": "code",
   "execution_count": 13,
   "id": "47ffdc98-25a1-4458-a991-59cdf62be1a6",
   "metadata": {},
   "outputs": [
    {
     "name": "stdout",
     "output_type": "stream",
     "text": [
      "30\n",
      "10\n",
      "200\n",
      "2.0\n",
      "0\n"
     ]
    }
   ],
   "source": [
    "#5. Python Program to perform all arithmetic operations\n",
    "\n",
    "a = 10\n",
    "b = 20\n",
    "\n",
    "c = a + b\n",
    "d = b - a\n",
    "e = a * b\n",
    "f = b/a\n",
    "g = b%a\n",
    "\n",
    "print(c)\n",
    "print(d)\n",
    "print(e)\n",
    "print(f)\n",
    "print(g)\n"
   ]
  },
  {
   "cell_type": "code",
   "execution_count": 21,
   "id": "c1b1bb52-fa70-425d-b534-10a99bc5c5f1",
   "metadata": {},
   "outputs": [
    {
     "name": "stdout",
     "output_type": "stream",
     "text": [
      "99\n"
     ]
    }
   ],
   "source": [
    "#7. Python Program to Print ASCII Value\n",
    "print(ord(\"c\"))"
   ]
  },
  {
   "cell_type": "code",
   "execution_count": 1,
   "id": "bfd0db8c-dc06-4a98-8346-d58a3ed3f420",
   "metadata": {},
   "outputs": [
    {
     "name": "stdin",
     "output_type": "stream",
     "text": [
      "Enter the value u want to convert in feet 10\n"
     ]
    },
    {
     "name": "stdout",
     "output_type": "stream",
     "text": [
      "10 feet is equal to 3.048 meters\n"
     ]
    }
   ],
   "source": [
    "#8. Python Program to convert feet to meter\n",
    "def feet_to_meters(feet):\n",
    "    # feet = 0.3048 meter\n",
    "    conversion_formula = 0.3048 \n",
    "    meters = feet * conversion_formula\n",
    "    return meters \n",
    "\n",
    "feet_value = int(input(\"Enter the value u want to convert in feet\"))\n",
    "meters_result = feet_to_meters(feet_value)\n",
    "print(f\"{feet_value} feet is equal to {meters_result} meters\")"
   ]
  },
  {
   "cell_type": "code",
   "execution_count": 13,
   "id": "a949519b-171b-4571-90ad-be5ab540d28e",
   "metadata": {},
   "outputs": [
    {
     "name": "stdin",
     "output_type": "stream",
     "text": [
      "Enter the value u want to convert in farenheit : 10\n"
     ]
    },
    {
     "name": "stdout",
     "output_type": "stream",
     "text": [
      "10.0 degree celsius is equals to 37.5 degree farenheit\n"
     ]
    }
   ],
   "source": [
    "#9. Python Program to convert celcius to farenheit\n",
    "\n",
    "#Formula\t(1°C * 9/5) + 32 = 33.8°F\n",
    "\n",
    "cel = float(input(\"Enter the value u want to convert in farenheit :\"))\n",
    "fer = (0.55 * cel) + 32\n",
    "print(f\"{cel} degree celsius is equals to {fer} degree farenheit\") "
   ]
  },
  {
   "cell_type": "code",
   "execution_count": 15,
   "id": "0ff1ee27-2de6-4ddb-ba47-23313a62ba59",
   "metadata": {},
   "outputs": [
    {
     "name": "stdin",
     "output_type": "stream",
     "text": [
      "Enter the value you want to convert in celcius : 32\n"
     ]
    },
    {
     "name": "stdout",
     "output_type": "stream",
     "text": [
      "32.0degree fahrenheit is equals to 0.0 degrees celsius\n"
     ]
    }
   ],
   "source": [
    "# 10. Python Program to convert farenheit to celcius\n",
    "\n",
    "#Formula celsius = (1f - 32) * 5/9\n",
    "\n",
    "a = float(input(\"Enter the value you want to convert in celcius :\"))\n",
    "b = (a - 32) * (0.55)\n",
    "\n",
    "print(f\"{a}degree fahrenheit is equals to {b} degrees celsius\") \n"
   ]
  },
  {
   "cell_type": "code",
   "execution_count": 77,
   "id": "9415bf96-e31f-4218-ac0f-ad99a9a91430",
   "metadata": {},
   "outputs": [
    {
     "name": "stdout",
     "output_type": "stream",
     "text": [
      "Area of circle is: 50.26548245743669\n"
     ]
    }
   ],
   "source": [
    "# 11. python Program to find the Size of data types ram to Calculate Area of Circle\n",
    "\n",
    "# Formula A=πr2\n",
    "\n",
    "import math\n",
    "\n",
    "def area(radiance):\n",
    "  area = math.pi * pow(radiance,2)\n",
    "  return print(\"Area of circle is:\" ,area)\n",
    "area(4)"
   ]
  },
  {
   "cell_type": "code",
   "execution_count": 8,
   "id": "0f7062d1-78fa-40a8-99f3-a2e19381cbed",
   "metadata": {},
   "outputs": [
    {
     "name": "stdin",
     "output_type": "stream",
     "text": [
      "Enter the sides  3.5\n"
     ]
    },
    {
     "name": "stdout",
     "output_type": "stream",
     "text": [
      "The area of square is 12.25\n"
     ]
    }
   ],
   "source": [
    "#12. Python Program to Calculate Area of Square\n",
    "\n",
    "square = float(input(\"Enter the sides \"))\n",
    "area_of_square = square * square\n",
    "\n",
    "print(f\"The area of square is {area_of_square}\")\n"
   ]
  },
  {
   "cell_type": "code",
   "execution_count": 16,
   "id": "43dcb85a-88c7-4bd3-bc86-74b61e8eb76b",
   "metadata": {},
   "outputs": [
    {
     "name": "stdin",
     "output_type": "stream",
     "text": [
      "Enter the length of the ractangle :  3\n",
      "Enter the width of the ractangle :  6\n"
     ]
    },
    {
     "name": "stdout",
     "output_type": "stream",
     "text": [
      "The are of Ractangle is 18.0\n"
     ]
    }
   ],
   "source": [
    "#13. Python Program to Calculate Area of Rectangle\n",
    "\n",
    "length = float(input(\"Enter the length of the ractangle : \"))\n",
    "width = float(input(\"Enter the width of the ractangle : \"))\n",
    "\n",
    "area_of_ractangle = length * width\n",
    "\n",
    "print(f\"The are of Ractangle is {area_of_ractangle}\")"
   ]
  },
  {
   "cell_type": "code",
   "execution_count": 1,
   "id": "d72808e9-e98b-4715-b85c-afe92e1508f9",
   "metadata": {},
   "outputs": [
    {
     "name": "stdout",
     "output_type": "stream",
     "text": [
      "Years =  1  \n",
      "Week =  19.857142857142858 \n",
      "Days =  6\n"
     ]
    }
   ],
   "source": [
    "#14. Python Program to convert days to years, weeks and days\n",
    "\n",
    "days_in_week = 7\n",
    "\n",
    "def find(number_of_days):\n",
    "    year = int(number_of_days / 365)\n",
    "    week = int(number_of_days % 365)/ days_in_week\n",
    "    days = int(number_of_days % 365) % days_in_week\n",
    "\n",
    "    print(\"Years = \", year ,\" \\nWeek = \", week, \"\\nDays = \", days)\n",
    "\n",
    "number_of_days = 504\n",
    "find(number_of_days)\n",
    "    \n"
   ]
  },
  {
   "cell_type": "code",
   "execution_count": 1,
   "id": "d033078c-6676-4d4a-a37d-b36a109134cf",
   "metadata": {},
   "outputs": [
    {
     "name": "stdout",
     "output_type": "stream",
     "text": [
      "Patel Dimple\n"
     ]
    }
   ],
   "source": [
    "# Python program to concatenate two strings\n",
    "\n",
    "name = \"Dimple\"\n",
    "sname = \"Patel\"\n",
    "\n",
    "name, sname = sname, name\n",
    "print(name, sname)"
   ]
  },
  {
   "cell_type": "code",
   "execution_count": 3,
   "id": "4afcce7a-eb14-461f-bf2f-7d8d478044a6",
   "metadata": {},
   "outputs": [
    {
     "name": "stdout",
     "output_type": "stream",
     "text": [
      "12\n"
     ]
    }
   ],
   "source": [
    "# Python program to find string length\n",
    "\n",
    "name = \"Dimple Patel\"\n",
    "print(len(name))"
   ]
  },
  {
   "cell_type": "code",
   "execution_count": 7,
   "id": "67eb5896-1492-41de-a769-e977df85b298",
   "metadata": {},
   "outputs": [
    {
     "data": {
      "text/plain": [
       "'dimple patel'"
      ]
     },
     "execution_count": 7,
     "metadata": {},
     "output_type": "execute_result"
    }
   ],
   "source": [
    "# Python program to convert a string to lower case\n",
    "\n",
    "name = \"DIMPLE PATEL\"\n",
    "\n",
    "name.lower()"
   ]
  },
  {
   "cell_type": "code",
   "execution_count": 9,
   "id": "f9f29358-d407-4062-8913-3b8a81d697a8",
   "metadata": {},
   "outputs": [
    {
     "data": {
      "text/plain": [
       "'DIMPLE PATEL'"
      ]
     },
     "execution_count": 9,
     "metadata": {},
     "output_type": "execute_result"
    }
   ],
   "source": [
    "# Python program to convert a string to upper case\n",
    "\n",
    "name = \"dimple patel\"\n",
    "name.upper()"
   ]
  },
  {
   "cell_type": "code",
   "execution_count": 1,
   "id": "6eed5aec-80ef-44cd-9c91-2103f88e01b9",
   "metadata": {},
   "outputs": [],
   "source": [
    "#Python program to change string to upper case without strupr\n"
   ]
  },
  {
   "cell_type": "code",
   "execution_count": 13,
   "id": "920c133a-1ac8-4aea-bf25-7f19e2ddd40c",
   "metadata": {},
   "outputs": [
    {
     "name": "stdin",
     "output_type": "stream",
     "text": [
      "Enter the number u want to calculate factorial : 5\n"
     ]
    },
    {
     "name": "stdout",
     "output_type": "stream",
     "text": [
      "120\n"
     ]
    }
   ],
   "source": [
    "#Write a Python function to calculate the factorial of a number (a nonnegative integer) \n",
    "\n",
    "def fact(n):\n",
    "    if n == 0:\n",
    "       return 1\n",
    "    else:\n",
    "       return n * fact(n - 1)\n",
    "\n",
    "n = int(input(\"Enter the number u want to calculate factorial :\"))\n",
    "\n",
    "print(fact(n))\n"
   ]
  },
  {
   "cell_type": "code",
   "execution_count": 1,
   "id": "0056cbd9-768c-46ae-a2e9-2de7246e462b",
   "metadata": {},
   "outputs": [
    {
     "name": "stdin",
     "output_type": "stream",
     "text": [
      "Enter the Number 5\n"
     ]
    },
    {
     "name": "stdout",
     "output_type": "stream",
     "text": [
      "Factorial value of 5 is :  120\n"
     ]
    }
   ],
   "source": [
    "import math as mt\n",
    "num = int(input(\"Enter the Number\"))\n",
    "fact1 = mt.factorial(num)\n",
    "print(f\"Factorial value of {num} is : \", fact1)\n"
   ]
  },
  {
   "cell_type": "code",
   "execution_count": null,
   "id": "1e709811-a26e-4c0f-9c49-77fbaca5b969",
   "metadata": {},
   "outputs": [],
   "source": []
  }
 ],
 "metadata": {
  "kernelspec": {
   "display_name": "Python [conda env:base] *",
   "language": "python",
   "name": "conda-base-py"
  },
  "language_info": {
   "codemirror_mode": {
    "name": "ipython",
    "version": 3
   },
   "file_extension": ".py",
   "mimetype": "text/x-python",
   "name": "python",
   "nbconvert_exporter": "python",
   "pygments_lexer": "ipython3",
   "version": "3.12.7"
  }
 },
 "nbformat": 4,
 "nbformat_minor": 5
}
