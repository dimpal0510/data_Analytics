{
 "cells": [
  {
   "cell_type": "code",
   "execution_count": 1,
   "id": "b2e6f769-ac7a-42e1-8cf2-dfd30eed4588",
   "metadata": {},
   "outputs": [],
   "source": [
    "import random"
   ]
  },
  {
   "cell_type": "code",
   "execution_count": 15,
   "id": "bb0f1c64-bc54-4d7d-8c3a-025ba2fcf3fd",
   "metadata": {},
   "outputs": [
    {
     "name": "stdin",
     "output_type": "stream",
     "text": [
      "Enter the first Number : 15\n",
      "Enter the second Number : 36\n",
      "Enter your choice : 25\n"
     ]
    },
    {
     "name": "stdout",
     "output_type": "stream",
     "text": [
      "wrong choice\n",
      "the right choice is 22\n"
     ]
    }
   ],
   "source": [
    "a = int(input(\"Enter the first Number :\"))\n",
    "b = int(input(\"Enter the second Number :\"))\n",
    "\n",
    "c = random.randint(a , b)\n",
    "\n",
    "d = int(input(\"Enter your choice :\"))\n",
    "\n",
    "if c == d:\n",
    "    print(\"you have right choice \")\n",
    "\n",
    "else:\n",
    "    print(\"wrong choice\")\n",
    "    print(f\"the right choice is {c}\")"
   ]
  },
  {
   "cell_type": "code",
   "execution_count": 31,
   "id": "b5a71292-2736-4185-b71d-f3b8a595bf3d",
   "metadata": {},
   "outputs": [
    {
     "name": "stdout",
     "output_type": "stream",
     "text": [
      "2 4 6 8 10 12 14 16 18 20 "
     ]
    }
   ],
   "source": [
    "i = 2\n",
    "\n",
    "while(i <=20):\n",
    "    if(i%2==0):\n",
    "        print(i, end=\" \")\n",
    "    i = i+1"
   ]
  },
  {
   "cell_type": "code",
   "execution_count": 37,
   "id": "82727f28-265e-46ac-b0e4-5688612de12c",
   "metadata": {},
   "outputs": [
    {
     "name": "stdin",
     "output_type": "stream",
     "text": [
      "Enter yoyr favourite number : 5\n"
     ]
    },
    {
     "name": "stdout",
     "output_type": "stream",
     "text": [
      "your number is in list\n"
     ]
    }
   ],
   "source": [
    "ls = [2,3,4,5,6,7,8,9]\n",
    "\n",
    "ls1 = int(input(\"Enter yoyr favourite number :\"))\n",
    "\n",
    "if ls1 in ls:\n",
    "    print(\"your number is in list\")\n",
    "\n",
    "else:\n",
    "    print(\"try again\")"
   ]
  },
  {
   "cell_type": "code",
   "execution_count": 45,
   "id": "1e35eefd-ef1d-4da3-bfce-15c5975a14ae",
   "metadata": {},
   "outputs": [
    {
     "name": "stdin",
     "output_type": "stream",
     "text": [
      "guess a number between 1 and 10:  5\n"
     ]
    },
    {
     "name": "stdout",
     "output_type": "stream",
     "text": [
      "nope, sorry. try again!\n"
     ]
    },
    {
     "name": "stdin",
     "output_type": "stream",
     "text": [
      "guess a number between 1 and 10:  53\n"
     ]
    },
    {
     "name": "stdout",
     "output_type": "stream",
     "text": [
      "nope, sorry. try again!\n"
     ]
    },
    {
     "name": "stdin",
     "output_type": "stream",
     "text": [
      "guess a number between 1 and 10:  10\n"
     ]
    },
    {
     "name": "stdout",
     "output_type": "stream",
     "text": [
      "nope, sorry. try again!\n"
     ]
    },
    {
     "name": "stdin",
     "output_type": "stream",
     "text": [
      "guess a number between 1 and 10:  1\n"
     ]
    },
    {
     "name": "stdout",
     "output_type": "stream",
     "text": [
      "nope, sorry. try again!\n"
     ]
    },
    {
     "name": "stdin",
     "output_type": "stream",
     "text": [
      "guess a number between 1 and 10:  2\n"
     ]
    },
    {
     "name": "stdout",
     "output_type": "stream",
     "text": [
      "nope, sorry. try again!\n"
     ]
    },
    {
     "name": "stdin",
     "output_type": "stream",
     "text": [
      "guess a number between 1 and 10:  3\n"
     ]
    },
    {
     "name": "stdout",
     "output_type": "stream",
     "text": [
      "nope, sorry. try again!\n"
     ]
    },
    {
     "name": "stdin",
     "output_type": "stream",
     "text": [
      "guess a number between 1 and 10:  4\n"
     ]
    },
    {
     "name": "stdout",
     "output_type": "stream",
     "text": [
      "nope, sorry. try again!\n"
     ]
    },
    {
     "name": "stdin",
     "output_type": "stream",
     "text": [
      "guess a number between 1 and 10:  5\n"
     ]
    },
    {
     "name": "stdout",
     "output_type": "stream",
     "text": [
      "nope, sorry. try again!\n"
     ]
    },
    {
     "name": "stdin",
     "output_type": "stream",
     "text": [
      "guess a number between 1 and 10:  6\n"
     ]
    },
    {
     "name": "stdout",
     "output_type": "stream",
     "text": [
      "nope, sorry. try again!\n"
     ]
    },
    {
     "name": "stdin",
     "output_type": "stream",
     "text": [
      "guess a number between 1 and 10:  7\n"
     ]
    },
    {
     "name": "stdout",
     "output_type": "stream",
     "text": [
      "nope, sorry. try again!\n"
     ]
    },
    {
     "name": "stdin",
     "output_type": "stream",
     "text": [
      "guess a number between 1 and 10:  8\n"
     ]
    },
    {
     "name": "stdout",
     "output_type": "stream",
     "text": [
      "nope, sorry. try again!\n"
     ]
    },
    {
     "name": "stdin",
     "output_type": "stream",
     "text": [
      "guess a number between 1 and 10:  9\n"
     ]
    },
    {
     "name": "stdout",
     "output_type": "stream",
     "text": [
      "congratulations! you won!\n"
     ]
    }
   ],
   "source": [
    "import random\n",
    "    \n",
    "num = random.randint(1, 10)\n",
    "guess = None\n",
    "    \n",
    "while guess != num:\n",
    "    guess = input(\"guess a number between 1 and 10: \")\n",
    "    guess = int(guess)\n",
    "    \n",
    "    if guess == num:\n",
    "        print(\"congratulations! you won!\")\n",
    "        break\n",
    "    else:\n",
    "        print(\"nope, sorry. try again!\")"
   ]
  },
  {
   "cell_type": "code",
   "execution_count": null,
   "id": "c5498a3f-3f4a-488f-8753-2664501e33ea",
   "metadata": {},
   "outputs": [],
   "source": []
  }
 ],
 "metadata": {
  "kernelspec": {
   "display_name": "Python [conda env:base] *",
   "language": "python",
   "name": "conda-base-py"
  },
  "language_info": {
   "codemirror_mode": {
    "name": "ipython",
    "version": 3
   },
   "file_extension": ".py",
   "mimetype": "text/x-python",
   "name": "python",
   "nbconvert_exporter": "python",
   "pygments_lexer": "ipython3",
   "version": "3.12.7"
  }
 },
 "nbformat": 4,
 "nbformat_minor": 5
}
