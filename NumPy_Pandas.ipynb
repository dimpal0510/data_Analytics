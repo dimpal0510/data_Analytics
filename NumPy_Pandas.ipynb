{
 "cells": [
  {
   "cell_type": "markdown",
   "id": "eefc05b4-2641-42cb-85e8-c4b1d23478ae",
   "metadata": {},
   "source": [
    "# Assesment1"
   ]
  },
  {
   "cell_type": "code",
   "execution_count": null,
   "id": "7233f630-bdb8-42a3-890e-bb1f5aacecd7",
   "metadata": {},
   "outputs": [
    {
     "name": "stdout",
     "output_type": "stream",
     "text": [
      "                                             Bank Name                City  \\\n",
      "0                                  Fayette County Bank          Saint Elmo   \n",
      "1    Guaranty Bank, (d/b/a BestBank in Georgia & Mi...           Milwaukee   \n",
      "2                                       First NBC Bank         New Orleans   \n",
      "3                                        Proficio Bank  Cottonwood Heights   \n",
      "4                        Seaway Bank and Trust Company             Chicago   \n",
      "..                                                 ...                 ...   \n",
      "546                                 Superior Bank, FSB            Hinsdale   \n",
      "547                                Malta National Bank               Malta   \n",
      "548                    First Alliance Bank & Trust Co.          Manchester   \n",
      "549                  National State Bank of Metropolis          Metropolis   \n",
      "550                                   Bank of Honolulu            Honolulu   \n",
      "\n",
      "     ST   CERT                Acquiring Institution Closing Date Updated Date  \n",
      "0    IL   1802            United Fidelity Bank, fsb    26-May-17    01-Jun-17  \n",
      "1    WI  30003  First-Citizens Bank & Trust Company    05-May-17    01-Jun-17  \n",
      "2    LA  58302                         Whitney Bank    28-Apr-17    23-May-17  \n",
      "3    UT  35495                    Cache Valley Bank    03-Mar-17    18-May-17  \n",
      "4    IL  19328                  State Bank of Texas    27-Jan-17    18-May-17  \n",
      "..   ..    ...                                  ...          ...          ...  \n",
      "546  IL  32646                Superior Federal, FSB    27-Jul-01    19-Aug-14  \n",
      "547  OH   6629                    North Valley Bank    03-May-01    18-Nov-02  \n",
      "548  NH  34264  Southern New Hampshire Bank & Trust    02-Feb-01    18-Feb-03  \n",
      "549  IL   3815              Banterra Bank of Marion    14-Dec-00    17-Mar-05  \n",
      "550  HI  21029                   Bank of the Orient    13-Oct-00    17-Mar-05  \n",
      "\n",
      "[551 rows x 7 columns]\n"
     ]
    }
   ],
   "source": [
    "# 1) Import pandas and read in the banklist.csv file into a dataframe called banks. \n",
    "import pandas as pd\n",
    "bank = pd.read_csv(\"banklist.csv\")\n",
    "print(bank)"
   ]
  },
  {
   "cell_type": "code",
   "execution_count": 41,
   "id": "ab2e2c28-fd84-4dc4-995e-673e5ed77e80",
   "metadata": {},
   "outputs": [
    {
     "name": "stdout",
     "output_type": "stream",
     "text": [
      "     Name  Age Department  Salary\n",
      "0  Dimple   33    Account   85000\n",
      "1   Stuti   31      Admin   56000\n",
      "2    Vasu   25         HR   75000\n",
      "3    Vedu   21  Designing   65000\n",
      "4    Aaru   15    Testing   55000\n"
     ]
    }
   ],
   "source": [
    "# 2) Show the head of the dataframe. \n",
    "import pandas as pd\n",
    "data = {\"Name\" : [\"Dimple\",\"Stuti\",\"Vasu\",\"Vedu\",\"Aaru\"],\n",
    "        \"Age\" : [33,31,25,21,15],\n",
    "        \"Department\" : [\"Account\",\"Admin\",\"HR\",\"Designing\",\"Testing\"],\n",
    "        \"Salary\" :[85000,56000,75000,65000,55000]}\n",
    "df = pd.DataFrame(data)\n",
    "print(df.head())"
   ]
  },
  {
   "cell_type": "code",
   "execution_count": 57,
   "id": "8387f105-d368-4f10-b7de-917756196660",
   "metadata": {},
   "outputs": [
    {
     "data": {
      "text/plain": [
       "Index(['Bank Name', 'City', 'ST', 'CERT', 'Acquiring Institution',\n",
       "       'Closing Date', 'Updated Date'],\n",
       "      dtype='object')"
      ]
     },
     "execution_count": 57,
     "metadata": {},
     "output_type": "execute_result"
    }
   ],
   "source": [
    "# 3) What are the column names? \n",
    "#df = pd.DataFrame(data, columns = [\"Name\",\"Age\",\"Gender\",\"Department\",\"Salary\"])\n",
    "bank.columns\n"
   ]
  },
  {
   "cell_type": "code",
   "execution_count": 63,
   "id": "89c4a4f6-53d8-4a9a-aeae-fdae85e5fe82",
   "metadata": {},
   "outputs": [
    {
     "data": {
      "text/plain": [
       "44"
      ]
     },
     "execution_count": 63,
     "metadata": {},
     "output_type": "execute_result"
    }
   ],
   "source": [
    "# 4) How many States (ST) are represented in this data set? \n",
    "\n",
    "bank['ST'].nunique()\n"
   ]
  },
  {
   "cell_type": "code",
   "execution_count": 67,
   "id": "40fd0aa4-da5d-463d-a31e-9f132e57ecf1",
   "metadata": {},
   "outputs": [
    {
     "data": {
      "text/plain": [
       "array(['IL', 'WI', 'LA', 'UT', 'NJ', 'AR', 'GA', 'PA', 'TN', 'WA', 'CO',\n",
       "       'PR', 'FL', 'MN', 'CA', 'MD', 'OK', 'OH', 'SC', 'VA', 'ID', 'TX',\n",
       "       'CT', 'AZ', 'NV', 'NC', 'KY', 'MO', 'KS', 'AL', 'MI', 'IN', 'IA',\n",
       "       'NE', 'MS', 'NM', 'OR', 'NY', 'MA', 'SD', 'WY', 'WV', 'NH', 'HI'],\n",
       "      dtype=object)"
      ]
     },
     "execution_count": 67,
     "metadata": {},
     "output_type": "execute_result"
    }
   ],
   "source": [
    "# 5) Get a list or array of all the states in the data set. \n",
    "\n",
    "bank['ST'].unique()\n"
   ]
  },
  {
   "cell_type": "code",
   "execution_count": 69,
   "id": "460fdad2-7409-40ef-9ad7-84c369af85fd",
   "metadata": {},
   "outputs": [
    {
     "data": {
      "text/plain": [
       "ST\n",
       "GA    93\n",
       "FL    75\n",
       "IL    67\n",
       "CA    41\n",
       "MN    23\n",
       "Name: City, dtype: int64"
      ]
     },
     "execution_count": 69,
     "metadata": {},
     "output_type": "execute_result"
    }
   ],
   "source": [
    "# 6) What are the top 5 states with the most failed banks? \n",
    "\n",
    "bank.groupby(by = 'ST').count().sort_values(by = 'Bank Name', ascending = False).iloc[:5, 1]"
   ]
  },
  {
   "cell_type": "code",
   "execution_count": 71,
   "id": "8d38b187-0640-4d24-a8ea-2a862e208426",
   "metadata": {},
   "outputs": [
    {
     "data": {
      "text/plain": [
       "Acquiring Institution\n",
       "No Acquirer                            31\n",
       "State Bank and Trust Company           12\n",
       "First-Citizens Bank & Trust Company    11\n",
       "Ameris Bank                            10\n",
       "U.S. Bank N.A.                          9\n",
       "Name: City, dtype: int64"
      ]
     },
     "execution_count": 71,
     "metadata": {},
     "output_type": "execute_result"
    }
   ],
   "source": [
    "# 7) What are the top 5 acquiring institutions? \n",
    "\n",
    "bank.groupby('Acquiring Institution').count().sort_values(by = 'City', ascending = False).iloc[:5,1]"
   ]
  },
  {
   "cell_type": "code",
   "execution_count": 73,
   "id": "e03e2925-e1fe-45c4-86d0-b7055c1b31a7",
   "metadata": {},
   "outputs": [
    {
     "data": {
      "text/html": [
       "<div>\n",
       "<style scoped>\n",
       "    .dataframe tbody tr th:only-of-type {\n",
       "        vertical-align: middle;\n",
       "    }\n",
       "\n",
       "    .dataframe tbody tr th {\n",
       "        vertical-align: top;\n",
       "    }\n",
       "\n",
       "    .dataframe thead th {\n",
       "        text-align: right;\n",
       "    }\n",
       "</style>\n",
       "<table border=\"1\" class=\"dataframe\">\n",
       "  <thead>\n",
       "    <tr style=\"text-align: right;\">\n",
       "      <th></th>\n",
       "      <th>Bank Name</th>\n",
       "      <th>City</th>\n",
       "      <th>ST</th>\n",
       "      <th>CERT</th>\n",
       "      <th>Acquiring Institution</th>\n",
       "      <th>Closing Date</th>\n",
       "      <th>Updated Date</th>\n",
       "    </tr>\n",
       "  </thead>\n",
       "  <tbody>\n",
       "    <tr>\n",
       "      <th>450</th>\n",
       "      <td>Millennium State Bank of Texas</td>\n",
       "      <td>Dallas</td>\n",
       "      <td>TX</td>\n",
       "      <td>57667</td>\n",
       "      <td>State Bank of Texas</td>\n",
       "      <td>02-Jul-09</td>\n",
       "      <td>26-Oct-12</td>\n",
       "    </tr>\n",
       "  </tbody>\n",
       "</table>\n",
       "</div>"
      ],
      "text/plain": [
       "                          Bank Name    City  ST   CERT Acquiring Institution  \\\n",
       "450  Millennium State Bank of Texas  Dallas  TX  57667   State Bank of Texas   \n",
       "\n",
       "    Closing Date Updated Date  \n",
       "450    02-Jul-09    26-Oct-12  "
      ]
     },
     "execution_count": 73,
     "metadata": {},
     "output_type": "execute_result"
    }
   ],
   "source": [
    "# 8) How many banks has the State Bank of Texas acquired? How many of them were actually in Texas? \n",
    "\n",
    "bank[(bank['Acquiring Institution'] == 'State Bank of Texas') & (bank['ST'] ==  'TX')]"
   ]
  },
  {
   "cell_type": "code",
   "execution_count": 75,
   "id": "844a871c-721f-4c93-9759-c733a9bc63af",
   "metadata": {},
   "outputs": [
    {
     "data": {
      "text/html": [
       "<div>\n",
       "<style scoped>\n",
       "    .dataframe tbody tr th:only-of-type {\n",
       "        vertical-align: middle;\n",
       "    }\n",
       "\n",
       "    .dataframe tbody tr th {\n",
       "        vertical-align: top;\n",
       "    }\n",
       "\n",
       "    .dataframe thead th {\n",
       "        text-align: right;\n",
       "    }\n",
       "</style>\n",
       "<table border=\"1\" class=\"dataframe\">\n",
       "  <thead>\n",
       "    <tr style=\"text-align: right;\">\n",
       "      <th></th>\n",
       "      <th>Bank Name</th>\n",
       "      <th>ST</th>\n",
       "      <th>CERT</th>\n",
       "      <th>Acquiring Institution</th>\n",
       "      <th>Closing Date</th>\n",
       "      <th>Updated Date</th>\n",
       "    </tr>\n",
       "    <tr>\n",
       "      <th>City</th>\n",
       "      <th></th>\n",
       "      <th></th>\n",
       "      <th></th>\n",
       "      <th></th>\n",
       "      <th></th>\n",
       "      <th></th>\n",
       "    </tr>\n",
       "  </thead>\n",
       "  <tbody>\n",
       "    <tr>\n",
       "      <th>Los Angeles</th>\n",
       "      <td>4</td>\n",
       "      <td>4</td>\n",
       "      <td>4</td>\n",
       "      <td>4</td>\n",
       "      <td>4</td>\n",
       "      <td>4</td>\n",
       "    </tr>\n",
       "  </tbody>\n",
       "</table>\n",
       "</div>"
      ],
      "text/plain": [
       "             Bank Name  ST  CERT  Acquiring Institution  Closing Date  \\\n",
       "City                                                                    \n",
       "Los Angeles          4   4     4                      4             4   \n",
       "\n",
       "             Updated Date  \n",
       "City                       \n",
       "Los Angeles             4  "
      ]
     },
     "execution_count": 75,
     "metadata": {},
     "output_type": "execute_result"
    }
   ],
   "source": [
    "# 9) What is the most common city in California for a bank to fail in? \n",
    "\n",
    "bank[bank['ST'] == 'CA'].groupby('City').count().sort_values(by = 'ST', ascending = False).head(1)"
   ]
  },
  {
   "cell_type": "code",
   "execution_count": null,
   "id": "9a2d15c8-01d6-459c-ac9c-e4497ebad5c7",
   "metadata": {},
   "outputs": [],
   "source": []
  }
 ],
 "metadata": {
  "kernelspec": {
   "display_name": "Python 3 (ipykernel)",
   "language": "python",
   "name": "python3"
  },
  "language_info": {
   "codemirror_mode": {
    "name": "ipython",
    "version": 3
   },
   "file_extension": ".py",
   "mimetype": "text/x-python",
   "name": "python",
   "nbconvert_exporter": "python",
   "pygments_lexer": "ipython3",
   "version": "3.12.7"
  }
 },
 "nbformat": 4,
 "nbformat_minor": 5
}
