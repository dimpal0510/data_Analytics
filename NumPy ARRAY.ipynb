{
 "cells": [
  {
   "cell_type": "code",
   "execution_count": 1,
   "id": "15f43fc9-ba7e-4bdc-b106-9f53ad991d1e",
   "metadata": {},
   "outputs": [],
   "source": [
    "import numpy as np"
   ]
  },
  {
   "cell_type": "code",
   "execution_count": 3,
   "id": "2442e9de-e17c-4d88-83d9-016e5f25bb67",
   "metadata": {},
   "outputs": [
    {
     "name": "stdout",
     "output_type": "stream",
     "text": [
      "1.26.4\n"
     ]
    }
   ],
   "source": [
    "print(np.__version__)"
   ]
  },
  {
   "cell_type": "code",
   "execution_count": 5,
   "id": "4d72aa20-2110-419b-8a3e-8e999c237b3f",
   "metadata": {},
   "outputs": [
    {
     "name": "stdout",
     "output_type": "stream",
     "text": [
      "Requirement already satisfied: numpy in c:\\users\\dimpal patel\\anaconda3\\lib\\site-packages (1.26.4)\n",
      "Note: you may need to restart the kernel to use updated packages.\n"
     ]
    }
   ],
   "source": [
    "pip install numpy"
   ]
  },
  {
   "cell_type": "code",
   "execution_count": 1,
   "id": "eca3f0b0-b9d0-4380-b413-1d7997976e53",
   "metadata": {},
   "outputs": [],
   "source": [
    "# Array\n",
    "#1D\n",
    "#2D\n",
    "#3D"
   ]
  },
  {
   "cell_type": "code",
   "execution_count": 5,
   "id": "b44ffd3d-89e1-4b20-84c3-6756254f08a8",
   "metadata": {},
   "outputs": [],
   "source": [
    "import numpy as np\n",
    "a1 = np.array([2,4,6]) # 1Dimention Array"
   ]
  },
  {
   "cell_type": "code",
   "execution_count": 7,
   "id": "f92ccea1-1de4-40f0-b3c7-1a4ee84d260c",
   "metadata": {},
   "outputs": [
    {
     "name": "stdout",
     "output_type": "stream",
     "text": [
      "[2 4 6]\n"
     ]
    }
   ],
   "source": [
    "print(a1)"
   ]
  },
  {
   "cell_type": "code",
   "execution_count": 9,
   "id": "04690d10-c26a-4840-a68a-86749aad814f",
   "metadata": {},
   "outputs": [],
   "source": [
    "a2 = np.array([[2,4,6],[3.5,6.5,7.9]]) # 2Diemention Array"
   ]
  },
  {
   "cell_type": "code",
   "execution_count": 11,
   "id": "48168fbd-76f1-4b02-be9f-d8177026fe3f",
   "metadata": {},
   "outputs": [
    {
     "name": "stdout",
     "output_type": "stream",
     "text": [
      "[[2.  4.  6. ]\n",
      " [3.5 6.5 7.9]]\n"
     ]
    }
   ],
   "source": [
    "print(a2)"
   ]
  },
  {
   "cell_type": "code",
   "execution_count": 31,
   "id": "5f12a6da-5973-4569-b904-cf27f391f0a5",
   "metadata": {},
   "outputs": [],
   "source": [
    "a3 = np.array([[[2,4,6],[3,5.2,7.7],[8,9,0]],[[10,11,12],[13,14,15],[16,17,18]]]) # 3 Diemention Array"
   ]
  },
  {
   "cell_type": "code",
   "execution_count": 33,
   "id": "72ff43cb-93f1-46e3-9ad1-b76604efbec8",
   "metadata": {},
   "outputs": [
    {
     "name": "stdout",
     "output_type": "stream",
     "text": [
      "[[[ 2.   4.   6. ]\n",
      "  [ 3.   5.2  7.7]\n",
      "  [ 8.   9.   0. ]]\n",
      "\n",
      " [[10.  11.  12. ]\n",
      "  [13.  14.  15. ]\n",
      "  [16.  17.  18. ]]]\n"
     ]
    }
   ],
   "source": [
    "print(a3)"
   ]
  },
  {
   "cell_type": "code",
   "execution_count": 35,
   "id": "7bb402e4-1687-4e1e-a261-82d13a3d519e",
   "metadata": {},
   "outputs": [
    {
     "data": {
      "text/plain": [
       "(2, 3)"
      ]
     },
     "execution_count": 35,
     "metadata": {},
     "output_type": "execute_result"
    }
   ],
   "source": [
    "a2.shape"
   ]
  },
  {
   "cell_type": "code",
   "execution_count": 37,
   "id": "8cf91acb-193e-45c8-878a-501bd599e86c",
   "metadata": {},
   "outputs": [
    {
     "data": {
      "text/plain": [
       "(3,)"
      ]
     },
     "execution_count": 37,
     "metadata": {},
     "output_type": "execute_result"
    }
   ],
   "source": [
    "a1.shape"
   ]
  },
  {
   "cell_type": "code",
   "execution_count": 39,
   "id": "d746d71a-b3a6-4e76-aac2-35a48dff5580",
   "metadata": {},
   "outputs": [
    {
     "data": {
      "text/plain": [
       "(2, 3, 3)"
      ]
     },
     "execution_count": 39,
     "metadata": {},
     "output_type": "execute_result"
    }
   ],
   "source": [
    "a3.shape"
   ]
  },
  {
   "cell_type": "code",
   "execution_count": 41,
   "id": "47f4631c-b755-443a-afe7-dcf72eee7a33",
   "metadata": {},
   "outputs": [
    {
     "data": {
      "text/plain": [
       "6"
      ]
     },
     "execution_count": 41,
     "metadata": {},
     "output_type": "execute_result"
    }
   ],
   "source": [
    "a2.size"
   ]
  },
  {
   "cell_type": "code",
   "execution_count": 43,
   "id": "8c6f45cd-b1fd-452f-a105-e2515d75d005",
   "metadata": {},
   "outputs": [
    {
     "data": {
      "text/plain": [
       "18"
      ]
     },
     "execution_count": 43,
     "metadata": {},
     "output_type": "execute_result"
    }
   ],
   "source": [
    "a3.size"
   ]
  },
  {
   "cell_type": "code",
   "execution_count": 45,
   "id": "4b72ac6e-dca4-4d15-a35c-7932cf0d5800",
   "metadata": {},
   "outputs": [
    {
     "data": {
      "text/plain": [
       "numpy.ndarray"
      ]
     },
     "execution_count": 45,
     "metadata": {},
     "output_type": "execute_result"
    }
   ],
   "source": [
    "type(a3)"
   ]
  },
  {
   "cell_type": "code",
   "execution_count": 47,
   "id": "5b74d389-23dc-4dc0-a243-d30dbaff9868",
   "metadata": {},
   "outputs": [],
   "source": [
    "data_array = np.array([2,4,6])"
   ]
  },
  {
   "cell_type": "code",
   "execution_count": 49,
   "id": "d3dd41d5-328c-40fc-bba9-1e18fa1f98f1",
   "metadata": {},
   "outputs": [
    {
     "data": {
      "text/plain": [
       "array([2, 4, 6])"
      ]
     },
     "execution_count": 49,
     "metadata": {},
     "output_type": "execute_result"
    }
   ],
   "source": [
    "data_array"
   ]
  },
  {
   "cell_type": "code",
   "execution_count": null,
   "id": "34295e8d-b5f0-41ae-94f7-38e3e2bd2b2d",
   "metadata": {},
   "outputs": [],
   "source": []
  },
  {
   "cell_type": "code",
   "execution_count": 51,
   "id": "eca8c4d1-6cef-4eac-a7e2-c1e173ab105c",
   "metadata": {},
   "outputs": [
    {
     "data": {
      "text/plain": [
       "dtype('int32')"
      ]
     },
     "execution_count": 51,
     "metadata": {},
     "output_type": "execute_result"
    }
   ],
   "source": [
    "data_array.dtype"
   ]
  },
  {
   "cell_type": "code",
   "execution_count": 53,
   "id": "b19dc91a-ff04-43a4-96a6-9e6d05071179",
   "metadata": {},
   "outputs": [],
   "source": [
    "data_ones = np.ones((2,2))"
   ]
  },
  {
   "cell_type": "code",
   "execution_count": 55,
   "id": "5d598bf4-6c97-4846-b085-f8863282ab5b",
   "metadata": {},
   "outputs": [
    {
     "name": "stdout",
     "output_type": "stream",
     "text": [
      "[[1. 1.]\n",
      " [1. 1.]]\n"
     ]
    }
   ],
   "source": [
    "print(data_ones)"
   ]
  },
  {
   "cell_type": "code",
   "execution_count": 59,
   "id": "aaa5e0fa-c681-4617-b46e-04a39dd5c121",
   "metadata": {},
   "outputs": [],
   "source": [
    "data_ones = np.ones((6,6))"
   ]
  },
  {
   "cell_type": "code",
   "execution_count": 61,
   "id": "7f516bad-a49d-452d-9af0-f6261539aa62",
   "metadata": {},
   "outputs": [
    {
     "name": "stdout",
     "output_type": "stream",
     "text": [
      "[[1. 1. 1. 1. 1. 1.]\n",
      " [1. 1. 1. 1. 1. 1.]\n",
      " [1. 1. 1. 1. 1. 1.]\n",
      " [1. 1. 1. 1. 1. 1.]\n",
      " [1. 1. 1. 1. 1. 1.]\n",
      " [1. 1. 1. 1. 1. 1.]]\n"
     ]
    }
   ],
   "source": [
    "print(data_ones)"
   ]
  },
  {
   "cell_type": "code",
   "execution_count": 63,
   "id": "2a1ab737-13dd-45d3-8518-dc0fb3e89245",
   "metadata": {},
   "outputs": [
    {
     "data": {
      "text/plain": [
       "dtype('float64')"
      ]
     },
     "execution_count": 63,
     "metadata": {},
     "output_type": "execute_result"
    }
   ],
   "source": [
    "data_ones.dtype"
   ]
  },
  {
   "cell_type": "code",
   "execution_count": 65,
   "id": "728147cd-866f-4155-be35-a94965fd0068",
   "metadata": {},
   "outputs": [
    {
     "data": {
      "text/plain": [
       "array([[1, 1, 1, 1, 1, 1],\n",
       "       [1, 1, 1, 1, 1, 1],\n",
       "       [1, 1, 1, 1, 1, 1],\n",
       "       [1, 1, 1, 1, 1, 1],\n",
       "       [1, 1, 1, 1, 1, 1],\n",
       "       [1, 1, 1, 1, 1, 1]])"
      ]
     },
     "execution_count": 65,
     "metadata": {},
     "output_type": "execute_result"
    }
   ],
   "source": [
    "data_ones.astype(int)"
   ]
  },
  {
   "cell_type": "code",
   "execution_count": 67,
   "id": "54b68ae1-46e8-4e62-8461-914cc4dc265b",
   "metadata": {},
   "outputs": [
    {
     "name": "stdout",
     "output_type": "stream",
     "text": [
      "[[[0. 0. 0.]\n",
      "  [0. 0. 0.]\n",
      "  [0. 0. 0.]]\n",
      "\n",
      " [[0. 0. 0.]\n",
      "  [0. 0. 0.]\n",
      "  [0. 0. 0.]]\n",
      "\n",
      " [[0. 0. 0.]\n",
      "  [0. 0. 0.]\n",
      "  [0. 0. 0.]]\n",
      "\n",
      " [[0. 0. 0.]\n",
      "  [0. 0. 0.]\n",
      "  [0. 0. 0.]]\n",
      "\n",
      " [[0. 0. 0.]\n",
      "  [0. 0. 0.]\n",
      "  [0. 0. 0.]]]\n"
     ]
    }
   ],
   "source": [
    "data_zeros = np.zeros((5,3,3))\n",
    "print(data_zeros)"
   ]
  },
  {
   "cell_type": "code",
   "execution_count": 69,
   "id": "9e4b113c-4726-48b2-bf5b-4847977c2bcb",
   "metadata": {},
   "outputs": [
    {
     "name": "stdout",
     "output_type": "stream",
     "text": [
      "[ 1  3  5  7  9 11]\n"
     ]
    }
   ],
   "source": [
    "range_array = np.arange(1,12,2)\n",
    "print(range_array)"
   ]
  },
  {
   "cell_type": "code",
   "execution_count": 71,
   "id": "ab3536ef-fd5e-49f8-95b4-838e47b9c1ac",
   "metadata": {},
   "outputs": [
    {
     "name": "stdout",
     "output_type": "stream",
     "text": [
      "[[8 7 0]\n",
      " [9 2 3]\n",
      " [5 2 3]\n",
      " [9 2 7]\n",
      " [0 2 7]]\n"
     ]
    }
   ],
   "source": [
    "random_data = np.random.randint(10, size = (5,3))\n",
    "print(random_data)"
   ]
  },
  {
   "cell_type": "code",
   "execution_count": 73,
   "id": "14fe7dd2-7bed-4b44-8c54-43c7a1784067",
   "metadata": {},
   "outputs": [
    {
     "data": {
      "text/plain": [
       "array([[0.26331825, 0.74012406, 0.59759956],\n",
       "       [0.93945633, 0.69073266, 0.66688209],\n",
       "       [0.67800668, 0.39265927, 0.62290539],\n",
       "       [0.63837689, 0.14380781, 0.5411854 ],\n",
       "       [0.00293933, 0.66551143, 0.85448631]])"
      ]
     },
     "execution_count": 73,
     "metadata": {},
     "output_type": "execute_result"
    }
   ],
   "source": [
    "np.random.random((5,3))"
   ]
  },
  {
   "cell_type": "code",
   "execution_count": 75,
   "id": "96ac8591-00bd-4570-9bd4-29c5b8520f14",
   "metadata": {},
   "outputs": [
    {
     "data": {
      "text/plain": [
       "array([[0.63798579, 0.25234753, 0.05946342],\n",
       "       [0.8964248 , 0.18700576, 0.40555103],\n",
       "       [0.41029708, 0.06757886, 0.12050084],\n",
       "       [0.41343391, 0.07783025, 0.84742   ],\n",
       "       [0.38217941, 0.43250764, 0.24027159]])"
      ]
     },
     "execution_count": 75,
     "metadata": {},
     "output_type": "execute_result"
    }
   ],
   "source": [
    "np.random.rand(5,3)"
   ]
  },
  {
   "cell_type": "code",
   "execution_count": 1,
   "id": "062bc8a8-7574-423d-8926-274cf05fcb10",
   "metadata": {},
   "outputs": [],
   "source": [
    "#Resapingnof array\n",
    "#Arithmatic operation\n",
    "#manipulation of Array\n",
    "#Conditional Operators"
   ]
  },
  {
   "cell_type": "code",
   "execution_count": 3,
   "id": "899e7d1d-fb74-4313-9154-432aee8721a2",
   "metadata": {},
   "outputs": [],
   "source": [
    "#ravel()\n",
    "#flatten()\n",
    "#squeeze()"
   ]
  },
  {
   "cell_type": "code",
   "execution_count": 5,
   "id": "e912deb1-3596-4bb7-94dc-a222c1c5c261",
   "metadata": {},
   "outputs": [
    {
     "name": "stdout",
     "output_type": "stream",
     "text": [
      "[[[[4 2 6 2 6]\n",
      "   [2 3 0 9 0]\n",
      "   [0 9 0 6 8]\n",
      "   [0 1 1 8 2]]\n",
      "\n",
      "  [[2 2 7 0 3]\n",
      "   [7 9 3 3 8]\n",
      "   [2 0 7 7 7]\n",
      "   [6 1 4 3 2]]\n",
      "\n",
      "  [[0 2 0 7 9]\n",
      "   [3 5 3 5 8]\n",
      "   [5 1 0 3 5]\n",
      "   [7 8 9 4 1]]]\n",
      "\n",
      "\n",
      " [[[8 8 2 2 5]\n",
      "   [4 1 7 4 5]\n",
      "   [2 2 4 8 2]\n",
      "   [4 4 0 4 4]]\n",
      "\n",
      "  [[1 5 4 3 8]\n",
      "   [1 3 4 0 2]\n",
      "   [6 9 9 8 2]\n",
      "   [7 1 4 3 1]]\n",
      "\n",
      "  [[3 5 8 1 1]\n",
      "   [7 7 7 0 9]\n",
      "   [2 4 0 9 8]\n",
      "   [7 0 5 0 6]]]]\n"
     ]
    }
   ],
   "source": [
    "import numpy as np\n",
    "a4 = np.random.randint(10, size = (2,3,4,5))\n",
    "print(a4)"
   ]
  },
  {
   "cell_type": "code",
   "execution_count": 7,
   "id": "b721d30a-b48b-4559-8263-09ccc10df8b8",
   "metadata": {},
   "outputs": [
    {
     "data": {
      "text/plain": [
       "(2, 3, 4, 5)"
      ]
     },
     "execution_count": 7,
     "metadata": {},
     "output_type": "execute_result"
    }
   ],
   "source": [
    "a4.shape"
   ]
  },
  {
   "cell_type": "code",
   "execution_count": 11,
   "id": "bced376a-cf8c-49e4-8378-d81cbc943785",
   "metadata": {},
   "outputs": [
    {
     "data": {
      "text/plain": [
       "array([[[[4, 2, 6, 2],\n",
       "         [2, 3, 0, 9],\n",
       "         [0, 9, 0, 6],\n",
       "         [0, 1, 1, 8]],\n",
       "\n",
       "        [[2, 2, 7, 0],\n",
       "         [7, 9, 3, 3],\n",
       "         [2, 0, 7, 7],\n",
       "         [6, 1, 4, 3]],\n",
       "\n",
       "        [[0, 2, 0, 7],\n",
       "         [3, 5, 3, 5],\n",
       "         [5, 1, 0, 3],\n",
       "         [7, 8, 9, 4]]],\n",
       "\n",
       "\n",
       "       [[[8, 8, 2, 2],\n",
       "         [4, 1, 7, 4],\n",
       "         [2, 2, 4, 8],\n",
       "         [4, 4, 0, 4]],\n",
       "\n",
       "        [[1, 5, 4, 3],\n",
       "         [1, 3, 4, 0],\n",
       "         [6, 9, 9, 8],\n",
       "         [7, 1, 4, 3]],\n",
       "\n",
       "        [[3, 5, 8, 1],\n",
       "         [7, 7, 7, 0],\n",
       "         [2, 4, 0, 9],\n",
       "         [7, 0, 5, 0]]]])"
      ]
     },
     "execution_count": 11,
     "metadata": {},
     "output_type": "execute_result"
    }
   ],
   "source": [
    "a4[:, :, :,:4]"
   ]
  },
  {
   "cell_type": "code",
   "execution_count": 13,
   "id": "5fd945c7-15af-40b6-bf82-ff13483cd6e5",
   "metadata": {},
   "outputs": [],
   "source": [
    "#Arithmatic Operator :\n",
    "#+,-,*,/,%,**,//\n",
    "#comparison Operator :\n",
    "#>,<,>=,<=, ==,!="
   ]
  },
  {
   "cell_type": "code",
   "execution_count": 15,
   "id": "386e877e-32f3-48ed-9c81-04b04dab9140",
   "metadata": {},
   "outputs": [],
   "source": [
    "#np.exp()\n",
    "#np.log()\n",
    "#np.dot() : dot product\n",
    "#Brodcasting"
   ]
  },
  {
   "cell_type": "code",
   "execution_count": 21,
   "id": "a816171a-b128-4fea-99f3-fef488b8ed8e",
   "metadata": {},
   "outputs": [],
   "source": [
    "#aggrigation Function\n",
    "##np.max()\n",
    "#np.min()\n",
    "#np.std()\n",
    "#np.var()\n",
    "#np.var()\n",
    "#np.mean()"
   ]
  },
  {
   "cell_type": "code",
   "execution_count": 23,
   "id": "e17c946d-1841-4076-a1c2-ac5bc55545e6",
   "metadata": {},
   "outputs": [
    {
     "name": "stdout",
     "output_type": "stream",
     "text": [
      "[1 2 3]\n"
     ]
    }
   ],
   "source": [
    "a1= np.array([1,2,3])\n",
    "print(a1)"
   ]
  },
  {
   "cell_type": "code",
   "execution_count": 25,
   "id": "64777db4-1f94-4dfe-9cc0-8177740142b7",
   "metadata": {},
   "outputs": [
    {
     "name": "stdout",
     "output_type": "stream",
     "text": [
      "[1. 1. 1.]\n"
     ]
    }
   ],
   "source": [
    "ones = np.ones(3)\n",
    "print(ones)"
   ]
  },
  {
   "cell_type": "code",
   "execution_count": 27,
   "id": "81fc778c-2430-4f43-be07-74578466fdf3",
   "metadata": {},
   "outputs": [
    {
     "data": {
      "text/plain": [
       "array([2., 3., 4.])"
      ]
     },
     "execution_count": 27,
     "metadata": {},
     "output_type": "execute_result"
    }
   ],
   "source": [
    "a1 + ones"
   ]
  },
  {
   "cell_type": "code",
   "execution_count": 29,
   "id": "61ca00bd-886d-48ea-9562-14273e811d56",
   "metadata": {},
   "outputs": [
    {
     "data": {
      "text/plain": [
       "array([0., 1., 2.])"
      ]
     },
     "execution_count": 29,
     "metadata": {},
     "output_type": "execute_result"
    }
   ],
   "source": [
    "a1 - ones\n"
   ]
  },
  {
   "cell_type": "code",
   "execution_count": 31,
   "id": "a1ebf321-a061-4ca1-84e1-5ef2af0f1ae5",
   "metadata": {},
   "outputs": [
    {
     "data": {
      "text/plain": [
       "array([1., 2., 3.])"
      ]
     },
     "execution_count": 31,
     "metadata": {},
     "output_type": "execute_result"
    }
   ],
   "source": [
    "a1 * ones"
   ]
  },
  {
   "cell_type": "code",
   "execution_count": 33,
   "id": "e099687d-8751-4c12-aef9-4a4f8ec204c5",
   "metadata": {},
   "outputs": [
    {
     "data": {
      "text/plain": [
       "array([1., 2., 3.])"
      ]
     },
     "execution_count": 33,
     "metadata": {},
     "output_type": "execute_result"
    }
   ],
   "source": [
    "a1 / ones"
   ]
  },
  {
   "cell_type": "code",
   "execution_count": 35,
   "id": "9efc6166-7d01-4f43-ac10-2c7d99fb9663",
   "metadata": {},
   "outputs": [
    {
     "data": {
      "text/plain": [
       "array([1., 2., 3.])"
      ]
     },
     "execution_count": 35,
     "metadata": {},
     "output_type": "execute_result"
    }
   ],
   "source": [
    "a1 ** ones"
   ]
  },
  {
   "cell_type": "code",
   "execution_count": 37,
   "id": "17812c86-133d-44ac-8e35-e8443eda961b",
   "metadata": {},
   "outputs": [
    {
     "data": {
      "text/plain": [
       "array([0., 0., 0.])"
      ]
     },
     "execution_count": 37,
     "metadata": {},
     "output_type": "execute_result"
    }
   ],
   "source": [
    "a1 % ones"
   ]
  },
  {
   "cell_type": "code",
   "execution_count": 39,
   "id": "8a1fe21a-08cb-4554-b73a-46c2b844f189",
   "metadata": {},
   "outputs": [
    {
     "data": {
      "text/plain": [
       "array([1., 2., 3.])"
      ]
     },
     "execution_count": 39,
     "metadata": {},
     "output_type": "execute_result"
    }
   ],
   "source": [
    "a1 // ones"
   ]
  },
  {
   "cell_type": "code",
   "execution_count": 41,
   "id": "04bd59d0-a901-4568-b5b6-51b920e689c6",
   "metadata": {},
   "outputs": [
    {
     "name": "stdout",
     "output_type": "stream",
     "text": [
      "[1 2 3]\n",
      "[2 3 4]\n"
     ]
    }
   ],
   "source": [
    "a2 = np.array([2,3,4])\n",
    "print(a1)\n",
    "print(a2)"
   ]
  },
  {
   "cell_type": "code",
   "execution_count": 43,
   "id": "5099805a-fcde-4ff6-ac7d-a733baf9d859",
   "metadata": {},
   "outputs": [
    {
     "data": {
      "text/plain": [
       "array([0.        , 0.69314718, 1.09861229])"
      ]
     },
     "execution_count": 43,
     "metadata": {},
     "output_type": "execute_result"
    }
   ],
   "source": [
    "np.log(a1)"
   ]
  },
  {
   "cell_type": "code",
   "execution_count": 45,
   "id": "59efe453-0ca6-44cd-b800-997059a4fc99",
   "metadata": {},
   "outputs": [
    {
     "data": {
      "text/plain": [
       "6"
      ]
     },
     "execution_count": 45,
     "metadata": {},
     "output_type": "execute_result"
    }
   ],
   "source": [
    "sum(a1)"
   ]
  },
  {
   "cell_type": "code",
   "execution_count": 47,
   "id": "65430c61-2657-4bcc-b60c-92972f43ae9c",
   "metadata": {},
   "outputs": [
    {
     "data": {
      "text/plain": [
       "9"
      ]
     },
     "execution_count": 47,
     "metadata": {},
     "output_type": "execute_result"
    }
   ],
   "source": [
    "sum(a2)"
   ]
  },
  {
   "cell_type": "code",
   "execution_count": 49,
   "id": "57cfc589-8f1f-48af-909b-773c8e2da0b3",
   "metadata": {},
   "outputs": [],
   "source": [
    "import random"
   ]
  },
  {
   "cell_type": "code",
   "execution_count": 53,
   "id": "484118da-fb69-43bf-911a-2f8c5905b706",
   "metadata": {},
   "outputs": [
    {
     "data": {
      "text/plain": [
       "100"
      ]
     },
     "execution_count": 53,
     "metadata": {},
     "output_type": "execute_result"
    }
   ],
   "source": [
    "data_list = [random.randint(0,10) for i in range(100)]\n",
    "len(data_list)"
   ]
  },
  {
   "cell_type": "code",
   "execution_count": 55,
   "id": "bf3e018d-33ed-403e-abfe-b1f6533b00e1",
   "metadata": {},
   "outputs": [
    {
     "data": {
      "text/plain": [
       "[3, 0, 7, 7, 9, 1, 2, 6, 4, 7]"
      ]
     },
     "execution_count": 55,
     "metadata": {},
     "output_type": "execute_result"
    }
   ],
   "source": [
    "data_list[: 10]"
   ]
  },
  {
   "cell_type": "code",
   "execution_count": 57,
   "id": "b7ce7634-facf-469a-857f-9a5bc0c42312",
   "metadata": {},
   "outputs": [],
   "source": [
    "np.random.seed(0)"
   ]
  },
  {
   "cell_type": "code",
   "execution_count": 76,
   "id": "30a1a712-c2b5-493a-b4a9-908dee9814da",
   "metadata": {},
   "outputs": [
    {
     "name": "stdout",
     "output_type": "stream",
     "text": [
      "[[5 9 4]\n",
      " [4 6 4]\n",
      " [4 3 4]]\n"
     ]
    }
   ],
   "source": [
    "mat1 = np.random.randint(10, size= (3,3))\n",
    "print(mat1)"
   ]
  },
  {
   "cell_type": "code",
   "execution_count": 78,
   "id": "f8f226c8-3244-47de-93e4-e12cb5177112",
   "metadata": {},
   "outputs": [
    {
     "name": "stdout",
     "output_type": "stream",
     "text": [
      "[[4 8]\n",
      " [4 3]\n",
      " [7 5]]\n"
     ]
    }
   ],
   "source": [
    "mat2 = np.random.randint(10, size = (3,2))\n",
    "print(mat2)"
   ]
  },
  {
   "cell_type": "code",
   "execution_count": 80,
   "id": "eadc98ba-4150-453e-b26a-9f7542c00f42",
   "metadata": {},
   "outputs": [
    {
     "data": {
      "text/plain": [
       "(3, 3)"
      ]
     },
     "execution_count": 80,
     "metadata": {},
     "output_type": "execute_result"
    }
   ],
   "source": [
    "mat1.shape"
   ]
  },
  {
   "cell_type": "code",
   "execution_count": 82,
   "id": "17ac06b8-7d68-48c4-b5e0-49cf85e2b25c",
   "metadata": {},
   "outputs": [
    {
     "data": {
      "text/plain": [
       "(3, 2)"
      ]
     },
     "execution_count": 82,
     "metadata": {},
     "output_type": "execute_result"
    }
   ],
   "source": [
    "mat2.shape"
   ]
  },
  {
   "cell_type": "code",
   "execution_count": 96,
   "id": "e7a94af2-48f1-4438-99a4-5f1bef792ca0",
   "metadata": {},
   "outputs": [
    {
     "data": {
      "text/plain": [
       "array([[84, 87],\n",
       "       [68, 70],\n",
       "       [56, 61]])"
      ]
     },
     "execution_count": 96,
     "metadata": {},
     "output_type": "execute_result"
    }
   ],
   "source": [
    "np.dot(mat1, mat2)"
   ]
  },
  {
   "cell_type": "code",
   "execution_count": 86,
   "id": "cf94bb1a-cc7e-4830-b8a1-20a327ba7b34",
   "metadata": {},
   "outputs": [
    {
     "data": {
      "text/plain": [
       "array([[5, 9, 4],\n",
       "       [4, 6, 4],\n",
       "       [4, 3, 4]])"
      ]
     },
     "execution_count": 86,
     "metadata": {},
     "output_type": "execute_result"
    }
   ],
   "source": [
    "mat1"
   ]
  },
  {
   "cell_type": "code",
   "execution_count": 94,
   "id": "687e8d06-ebef-485f-8ef6-0a3160648942",
   "metadata": {},
   "outputs": [
    {
     "data": {
      "text/plain": [
       "array([[ True,  True,  True],\n",
       "       [ True,  True,  True],\n",
       "       [ True,  True,  True]])"
      ]
     },
     "execution_count": 94,
     "metadata": {},
     "output_type": "execute_result"
    }
   ],
   "source": [
    "mat1 > 2"
   ]
  },
  {
   "cell_type": "code",
   "execution_count": 1,
   "id": "d4b2e0d0-8ce2-4431-8bd0-70ded292857a",
   "metadata": {},
   "outputs": [],
   "source": [
    "import numpy as np"
   ]
  },
  {
   "cell_type": "code",
   "execution_count": 3,
   "id": "dad7ebb9-cda2-416f-aa1d-263a930b7a96",
   "metadata": {},
   "outputs": [],
   "source": [
    "arr = np.array([10,20,30,40,50,60])"
   ]
  },
  {
   "cell_type": "code",
   "execution_count": 5,
   "id": "22a96994-8355-49b4-a406-17c8b0bad601",
   "metadata": {},
   "outputs": [
    {
     "name": "stdout",
     "output_type": "stream",
     "text": [
      "[10 20 30 40 50 60]\n"
     ]
    }
   ],
   "source": [
    "print(arr)"
   ]
  },
  {
   "cell_type": "code",
   "execution_count": 7,
   "id": "a449af63-0cde-46f4-bbb5-2734787e06be",
   "metadata": {},
   "outputs": [
    {
     "name": "stdout",
     "output_type": "stream",
     "text": [
      "<class 'numpy.ndarray'>\n"
     ]
    }
   ],
   "source": [
    "print(type(arr))"
   ]
  },
  {
   "cell_type": "code",
   "execution_count": 9,
   "id": "98318a2c-b198-4ec2-94f7-97c373df1019",
   "metadata": {},
   "outputs": [
    {
     "name": "stdout",
     "output_type": "stream",
     "text": [
      "[20 30 40]\n"
     ]
    }
   ],
   "source": [
    "print(arr[1:4])"
   ]
  },
  {
   "cell_type": "code",
   "execution_count": 11,
   "id": "36d91ac1-6baf-41ee-92ae-a0297c092576",
   "metadata": {},
   "outputs": [],
   "source": [
    "arr = np.array([10,20,30,40,50,60])"
   ]
  },
  {
   "cell_type": "code",
   "execution_count": 15,
   "id": "eba09123-9106-478e-8414-94516075ab43",
   "metadata": {},
   "outputs": [
    {
     "data": {
      "text/plain": [
       "array([10, 20, 30])"
      ]
     },
     "execution_count": 15,
     "metadata": {},
     "output_type": "execute_result"
    }
   ],
   "source": [
    "arr[:3]"
   ]
  },
  {
   "cell_type": "code",
   "execution_count": 25,
   "id": "13a09464-f925-488f-afa9-159a002cb8ea",
   "metadata": {},
   "outputs": [
    {
     "data": {
      "text/plain": [
       "array([10])"
      ]
     },
     "execution_count": 25,
     "metadata": {},
     "output_type": "execute_result"
    }
   ],
   "source": [
    "arr[:1]"
   ]
  },
  {
   "cell_type": "code",
   "execution_count": 27,
   "id": "4cc9c29b-809e-43fe-a55c-2d0ad2c94f89",
   "metadata": {},
   "outputs": [
    {
     "data": {
      "text/plain": [
       "array([40, 50, 60])"
      ]
     },
     "execution_count": 27,
     "metadata": {},
     "output_type": "execute_result"
    }
   ],
   "source": [
    "arr[3:]"
   ]
  },
  {
   "cell_type": "code",
   "execution_count": 33,
   "id": "e7b8866b-dbde-420e-93d1-11ed772dee08",
   "metadata": {},
   "outputs": [
    {
     "name": "stdout",
     "output_type": "stream",
     "text": [
      "[50 60]\n"
     ]
    }
   ],
   "source": [
    "print(arr[-2:])"
   ]
  },
  {
   "cell_type": "code",
   "execution_count": 55,
   "id": "13cec47c-5760-4252-8282-d9d82ab35f7f",
   "metadata": {},
   "outputs": [
    {
     "name": "stdout",
     "output_type": "stream",
     "text": [
      "[[[8 9 6]\n",
      "  [1 1 1]\n",
      "  [3 0 8]]]\n"
     ]
    }
   ],
   "source": [
    "arr2 = np.random.randint(10, size = (1,3,3))\n",
    "print(arr2)"
   ]
  },
  {
   "cell_type": "code",
   "execution_count": 57,
   "id": "ff6847cb-a80f-4344-b7d4-b63cf3a8c4e8",
   "metadata": {},
   "outputs": [
    {
     "name": "stdout",
     "output_type": "stream",
     "text": [
      "[[[1 1 1]\n",
      "  [3 0 8]]]\n"
     ]
    }
   ],
   "source": [
    "print(arr2[0:2, 1:])"
   ]
  },
  {
   "cell_type": "code",
   "execution_count": 59,
   "id": "6c6d9754-12af-4619-88d9-1dd0f00aee86",
   "metadata": {},
   "outputs": [
    {
     "name": "stdout",
     "output_type": "stream",
     "text": [
      "[[[1 1 1]\n",
      "  [3 0 8]]]\n"
     ]
    }
   ],
   "source": [
    "print(arr2[0:2, 1:])"
   ]
  },
  {
   "cell_type": "code",
   "execution_count": 3,
   "id": "fe51791d-ae31-4301-bede-94483e18882e",
   "metadata": {},
   "outputs": [
    {
     "name": "stdout",
     "output_type": "stream",
     "text": [
      "[[[4 9 9]\n",
      "  [4 5 3]\n",
      "  [7 1 9]]]\n"
     ]
    }
   ],
   "source": [
    "import numpy as np\n",
    "arr2 = np.random.randint(10, size = (1,3,3))\n",
    "print(arr2)\n"
   ]
  },
  {
   "cell_type": "code",
   "execution_count": 5,
   "id": "ad63a5e5-b656-4d84-919f-38bf8da51646",
   "metadata": {},
   "outputs": [
    {
     "name": "stdout",
     "output_type": "stream",
     "text": [
      "[[4 9 9]]\n"
     ]
    }
   ],
   "source": [
    "print(arr2[:,0])"
   ]
  },
  {
   "cell_type": "code",
   "execution_count": 7,
   "id": "d0c45e89-8138-492f-b3c3-f9b30d6e1cf9",
   "metadata": {},
   "outputs": [
    {
     "name": "stdout",
     "output_type": "stream",
     "text": [
      "[[4 9 9]\n",
      " [4 5 3]\n",
      " [7 1 9]]\n"
     ]
    }
   ],
   "source": [
    "print(arr2[-1, :])"
   ]
  },
  {
   "cell_type": "code",
   "execution_count": 9,
   "id": "e8ecff99-07fe-4996-ac16-09a6b7f10661",
   "metadata": {},
   "outputs": [
    {
     "name": "stdout",
     "output_type": "stream",
     "text": [
      "[[4 9 9]\n",
      " [4 5 3]]\n"
     ]
    }
   ],
   "source": [
    "print(arr2[-1,:-1])"
   ]
  },
  {
   "cell_type": "code",
   "execution_count": 11,
   "id": "585ac168-f7be-4ec1-b269-1bdd67c6d659",
   "metadata": {},
   "outputs": [
    {
     "name": "stdout",
     "output_type": "stream",
     "text": [
      "[[[4 9 9]\n",
      "  [4 5 3]\n",
      "  [7 1 9]]]\n"
     ]
    }
   ],
   "source": [
    "print(arr2)"
   ]
  },
  {
   "cell_type": "code",
   "execution_count": 13,
   "id": "291f08ca-8d2f-4f62-b9d7-39fbb1d10cad",
   "metadata": {},
   "outputs": [
    {
     "name": "stdout",
     "output_type": "stream",
     "text": [
      "[[4 9 9]\n",
      " [4 5 3]]\n"
     ]
    }
   ],
   "source": [
    "print(arr2[-1,:-1])"
   ]
  },
  {
   "cell_type": "code",
   "execution_count": 49,
   "id": "6c97b745-339a-45c2-9005-fd351041f725",
   "metadata": {},
   "outputs": [],
   "source": [
    "arr = np.array([10,20,30,40,50,60])"
   ]
  },
  {
   "cell_type": "code",
   "execution_count": 37,
   "id": "f3cd3e65-4dfa-42ba-be89-5dd04523994e",
   "metadata": {},
   "outputs": [],
   "source": [
    "#np.where : Return chosen from x and y depending on condition."
   ]
  },
  {
   "cell_type": "code",
   "execution_count": 55,
   "id": "156a0a11-79a7-4094-8a07-f5a67b0c0420",
   "metadata": {},
   "outputs": [],
   "source": [
    "indices = np.where(arr > 20)"
   ]
  },
  {
   "cell_type": "code",
   "execution_count": 57,
   "id": "c59b89a2-d4a1-4c76-a7f9-1b3201f446ab",
   "metadata": {},
   "outputs": [
    {
     "name": "stdout",
     "output_type": "stream",
     "text": [
      "(array([2, 3, 4, 5], dtype=int64),)\n"
     ]
    }
   ],
   "source": [
    "print(indices)"
   ]
  },
  {
   "cell_type": "code",
   "execution_count": 59,
   "id": "a40f1e8d-f79e-47e4-b591-a4120e795c82",
   "metadata": {},
   "outputs": [],
   "source": [
    "arr = np.array([5,10,15,20,25])"
   ]
  },
  {
   "cell_type": "code",
   "execution_count": 61,
   "id": "37a77d5c-4e8a-42c0-91af-eca1e78bff26",
   "metadata": {},
   "outputs": [],
   "source": [
    "even_indices = np.where(arr % 2 == 0)"
   ]
  },
  {
   "cell_type": "code",
   "execution_count": 63,
   "id": "b8b64046-685e-440d-9ab2-12c128abd798",
   "metadata": {},
   "outputs": [
    {
     "name": "stdout",
     "output_type": "stream",
     "text": [
      "(array([1, 3], dtype=int64),)\n"
     ]
    }
   ],
   "source": [
    "print(even_indices)"
   ]
  },
  {
   "cell_type": "code",
   "execution_count": 131,
   "id": "917ae05a-fb85-481f-9d6e-6c99f33fdd81",
   "metadata": {},
   "outputs": [],
   "source": [
    "np.random.seed(42) # if we put a value in seed then it wil not change the numbers.\n",
    "#if we put not any value in seed then it will change the whole value."
   ]
  },
  {
   "cell_type": "code",
   "execution_count": 133,
   "id": "e5bc4cf3-aaca-41dd-9dcb-6e68831e6d3b",
   "metadata": {},
   "outputs": [],
   "source": [
    "arr1 = np.random.randint(10,100, size = 10)"
   ]
  },
  {
   "cell_type": "code",
   "execution_count": 135,
   "id": "b491de14-73ea-440a-9e2a-5a460d9ee078",
   "metadata": {},
   "outputs": [
    {
     "name": "stdout",
     "output_type": "stream",
     "text": [
      "[61 24 81 70 30 92 96 84 84 97]\n"
     ]
    }
   ],
   "source": [
    "print(arr1)"
   ]
  },
  {
   "cell_type": "code",
   "execution_count": 1,
   "id": "f2a1e27f-9a74-45a9-b466-7c73d1e8a005",
   "metadata": {},
   "outputs": [],
   "source": [
    "import numpy as np"
   ]
  },
  {
   "cell_type": "code",
   "execution_count": 3,
   "id": "21f4a4a5-b7a8-4d11-ac39-e0d596bf63d5",
   "metadata": {},
   "outputs": [],
   "source": [
    "a = np.array([0,1,2])\n",
    "b = np.array([3,4,5])"
   ]
  },
  {
   "cell_type": "code",
   "execution_count": 5,
   "id": "d2c28bab-1c29-4c32-bfdf-6840cdd17417",
   "metadata": {},
   "outputs": [
    {
     "data": {
      "text/plain": [
       "array([3, 5, 7])"
      ]
     },
     "execution_count": 5,
     "metadata": {},
     "output_type": "execute_result"
    }
   ],
   "source": [
    "a+b"
   ]
  },
  {
   "cell_type": "code",
   "execution_count": 7,
   "id": "69b8cfb6-7fa8-4c44-8a7b-a2ac7992efc4",
   "metadata": {},
   "outputs": [
    {
     "data": {
      "text/plain": [
       "array([ 0,  4, 10])"
      ]
     },
     "execution_count": 7,
     "metadata": {},
     "output_type": "execute_result"
    }
   ],
   "source": [
    "a*b"
   ]
  },
  {
   "cell_type": "code",
   "execution_count": 9,
   "id": "c91d79e6-8268-4065-b641-66270fba1b93",
   "metadata": {},
   "outputs": [
    {
     "data": {
      "text/plain": [
       "array([0.  , 0.25, 0.4 ])"
      ]
     },
     "execution_count": 9,
     "metadata": {},
     "output_type": "execute_result"
    }
   ],
   "source": [
    "a/b"
   ]
  },
  {
   "cell_type": "code",
   "execution_count": 11,
   "id": "47cfb38a-c76c-4d85-ac23-5beba19b1b79",
   "metadata": {},
   "outputs": [],
   "source": [
    "import numpy as np"
   ]
  },
  {
   "cell_type": "code",
   "execution_count": 13,
   "id": "924b5576-7e48-4a20-8016-e316605f92e0",
   "metadata": {},
   "outputs": [
    {
     "name": "stdout",
     "output_type": "stream",
     "text": [
      "(1,)\n"
     ]
    }
   ],
   "source": [
    "a = np.atleast_1d(5)\n",
    "print(a.shape)"
   ]
  },
  {
   "cell_type": "code",
   "execution_count": 15,
   "id": "bb572551-6f2b-461d-8153-c298feb401a6",
   "metadata": {},
   "outputs": [
    {
     "name": "stdout",
     "output_type": "stream",
     "text": [
      "(1,)\n"
     ]
    }
   ],
   "source": [
    "a = np.atleast_1d(a)\n",
    "print(a.shape)"
   ]
  },
  {
   "cell_type": "code",
   "execution_count": 17,
   "id": "c7dc4cb6-b1aa-4437-a116-f8003ebf523e",
   "metadata": {},
   "outputs": [
    {
     "name": "stdout",
     "output_type": "stream",
     "text": [
      "(1, 1)\n"
     ]
    }
   ],
   "source": [
    "a = np.atleast_2d(a)\n",
    "print(a.shape)"
   ]
  },
  {
   "cell_type": "code",
   "execution_count": 19,
   "id": "88d54139-f0b5-4ca0-a5ee-eb7d734e97f8",
   "metadata": {},
   "outputs": [
    {
     "name": "stdout",
     "output_type": "stream",
     "text": [
      "(1, 1, 1)\n"
     ]
    }
   ],
   "source": [
    "a = np.atleast_3d(a)\n",
    "print(a.shape)"
   ]
  },
  {
   "cell_type": "code",
   "execution_count": 23,
   "id": "2aba4462-b380-486d-8a9b-b913ffe7a66b",
   "metadata": {},
   "outputs": [
    {
     "name": "stdout",
     "output_type": "stream",
     "text": [
      "(2, 3)\n"
     ]
    }
   ],
   "source": [
    "a = np.atleast_1d(np.zeros((2,3)))\n",
    "print(a.shape)"
   ]
  },
  {
   "cell_type": "code",
   "execution_count": 25,
   "id": "a8376e21-091c-462d-808f-1a981ba52fca",
   "metadata": {},
   "outputs": [],
   "source": [
    "a = np.atleast_2d(a)"
   ]
  },
  {
   "cell_type": "code",
   "execution_count": 27,
   "id": "5da5c4bb-8abe-4312-87cf-57511df72158",
   "metadata": {},
   "outputs": [
    {
     "data": {
      "text/plain": [
       "array([[0., 0., 0.],\n",
       "       [0., 0., 0.]])"
      ]
     },
     "execution_count": 27,
     "metadata": {},
     "output_type": "execute_result"
    }
   ],
   "source": [
    "np.zeros((2,3))"
   ]
  },
  {
   "cell_type": "code",
   "execution_count": 29,
   "id": "b19f50f7-c3fc-4440-b40c-925947b81103",
   "metadata": {},
   "outputs": [
    {
     "name": "stdout",
     "output_type": "stream",
     "text": [
      "(2, 3)\n"
     ]
    }
   ],
   "source": [
    "print(a.shape)"
   ]
  },
  {
   "cell_type": "code",
   "execution_count": 31,
   "id": "b01e5f09-4d66-482f-a6b0-bb008e7981c1",
   "metadata": {},
   "outputs": [
    {
     "name": "stdout",
     "output_type": "stream",
     "text": [
      "(2, 3, 1)\n"
     ]
    }
   ],
   "source": [
    "a = np.atleast_3d(a)\n",
    "print(a.shape)"
   ]
  },
  {
   "cell_type": "code",
   "execution_count": 35,
   "id": "2d6b2000-5374-459f-8ce4-2ff498b0c74d",
   "metadata": {},
   "outputs": [
    {
     "name": "stdout",
     "output_type": "stream",
     "text": [
      "[0 1 2]\n"
     ]
    }
   ],
   "source": [
    "a = np.arange(0,3)\n",
    "print(a)"
   ]
  },
  {
   "cell_type": "code",
   "execution_count": 37,
   "id": "93a4a3b1-dcfd-4ba7-b01c-88bf06b289c6",
   "metadata": {},
   "outputs": [
    {
     "data": {
      "text/plain": [
       "(3,)"
      ]
     },
     "execution_count": 37,
     "metadata": {},
     "output_type": "execute_result"
    }
   ],
   "source": [
    "a.shape"
   ]
  },
  {
   "cell_type": "code",
   "execution_count": 39,
   "id": "a4f99c3b-96d3-47e4-8992-0d9f5b584397",
   "metadata": {},
   "outputs": [
    {
     "name": "stdout",
     "output_type": "stream",
     "text": [
      "[0 1 2]\n"
     ]
    }
   ],
   "source": [
    "print(a)"
   ]
  },
  {
   "cell_type": "code",
   "execution_count": 41,
   "id": "de85631f-2c04-4717-8d5b-2ef4408d9ec1",
   "metadata": {},
   "outputs": [
    {
     "name": "stdout",
     "output_type": "stream",
     "text": [
      "(3, 3)\n"
     ]
    }
   ],
   "source": [
    "b = np.broadcast_to(a, (3,3))\n",
    "print(b.shape)"
   ]
  },
  {
   "cell_type": "code",
   "execution_count": 43,
   "id": "28978baa-9af7-40c6-89a7-f7a3694c554b",
   "metadata": {},
   "outputs": [
    {
     "name": "stdout",
     "output_type": "stream",
     "text": [
      "[[0 1 2]\n",
      " [0 1 2]\n",
      " [0 1 2]]\n"
     ]
    }
   ],
   "source": [
    "print(b)"
   ]
  },
  {
   "cell_type": "code",
   "execution_count": 45,
   "id": "4468185b-9c23-458b-a63c-7067c77a47de",
   "metadata": {},
   "outputs": [],
   "source": [
    "import numpy as np"
   ]
  },
  {
   "cell_type": "code",
   "execution_count": 47,
   "id": "09498c63-4d3c-4694-a1e5-8db30a5eafbf",
   "metadata": {},
   "outputs": [
    {
     "name": "stdout",
     "output_type": "stream",
     "text": [
      "(3, 1)\n",
      "(1, 5)\n"
     ]
    }
   ],
   "source": [
    "a = np.arange(0,3).reshape(3,1)\n",
    "b = np.arange(0,5).reshape(1,5)\n",
    "print(a.shape)\n",
    "print(b.shape)"
   ]
  },
  {
   "cell_type": "code",
   "execution_count": 49,
   "id": "57f45c87-4b19-4424-823c-7c1b9f671750",
   "metadata": {},
   "outputs": [
    {
     "name": "stdout",
     "output_type": "stream",
     "text": [
      "(3, 5)\n",
      "(3, 5)\n"
     ]
    }
   ],
   "source": [
    "c , d = np.broadcast_arrays(a, b)\n",
    "\n",
    "print(c.shape)\n",
    "print(d.shape)"
   ]
  },
  {
   "cell_type": "code",
   "execution_count": 51,
   "id": "33b09864-b57c-41b5-b76b-b10404e7682b",
   "metadata": {},
   "outputs": [
    {
     "name": "stdout",
     "output_type": "stream",
     "text": [
      "[[0 0 0 0 0]\n",
      " [1 1 1 1 1]\n",
      " [2 2 2 2 2]]\n"
     ]
    }
   ],
   "source": [
    "print(c)"
   ]
  },
  {
   "cell_type": "code",
   "execution_count": 53,
   "id": "09f6776a-b5d2-4df7-ad42-aef2d8b61581",
   "metadata": {},
   "outputs": [
    {
     "name": "stdout",
     "output_type": "stream",
     "text": [
      "[[0 1 2 3 4]\n",
      " [0 1 2 3 4]\n",
      " [0 1 2 3 4]]\n"
     ]
    }
   ],
   "source": [
    "print(d)"
   ]
  },
  {
   "cell_type": "code",
   "execution_count": 57,
   "id": "a7835ca9-4433-4957-a418-55175bd546d4",
   "metadata": {},
   "outputs": [
    {
     "name": "stdout",
     "output_type": "stream",
     "text": [
      "(3, 1)\n",
      "(1, 5)\n"
     ]
    }
   ],
   "source": [
    "a = np.arange(0,3).reshape(3,1)\n",
    "b = np.arange(0,5).reshape(1,5)\n",
    "print(a.shape)\n",
    "print(b.shape)"
   ]
  },
  {
   "cell_type": "code",
   "execution_count": 59,
   "id": "24079742-9848-4b30-8354-120b358f4990",
   "metadata": {},
   "outputs": [
    {
     "name": "stdout",
     "output_type": "stream",
     "text": [
      "(3, 5)\n"
     ]
    }
   ],
   "source": [
    "new_shape = np.broadcast_shapes(a.shape, b.shape)\n",
    "print(new_shape)"
   ]
  },
  {
   "cell_type": "code",
   "execution_count": 61,
   "id": "d6bbbe6f-51b8-4b66-a084-08de9d4d7762",
   "metadata": {},
   "outputs": [
    {
     "name": "stdout",
     "output_type": "stream",
     "text": [
      "(3, 5)\n"
     ]
    }
   ],
   "source": [
    "new_shapes = np.broadcast_shapes((3,1),(1,5))\n",
    "print(new_shapes)"
   ]
  },
  {
   "cell_type": "code",
   "execution_count": null,
   "id": "e7cbaab0-9ab0-4514-bc3d-8159c1551473",
   "metadata": {},
   "outputs": [],
   "source": []
  }
 ],
 "metadata": {
  "kernelspec": {
   "display_name": "Python 3 (ipykernel)",
   "language": "python",
   "name": "python3"
  },
  "language_info": {
   "codemirror_mode": {
    "name": "ipython",
    "version": 3
   },
   "file_extension": ".py",
   "mimetype": "text/x-python",
   "name": "python",
   "nbconvert_exporter": "python",
   "pygments_lexer": "ipython3",
   "version": "3.12.7"
  }
 },
 "nbformat": 4,
 "nbformat_minor": 5
}
