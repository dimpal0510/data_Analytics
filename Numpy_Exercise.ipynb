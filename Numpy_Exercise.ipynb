{
 "cells": [
  {
   "cell_type": "code",
   "execution_count": 1,
   "id": "4e77b76b-8952-435c-9eb0-88367a4f55ae",
   "metadata": {},
   "outputs": [],
   "source": [
    "#Exercise 1: Import numpy as np and see the version."
   ]
  },
  {
   "cell_type": "code",
   "execution_count": 9,
   "id": "8a030e57-fa5a-4e30-a89c-e11465680a85",
   "metadata": {},
   "outputs": [],
   "source": [
    "import numpy as np"
   ]
  },
  {
   "cell_type": "code",
   "execution_count": 11,
   "id": "177c9daa-d429-48cc-a505-039907dc33b3",
   "metadata": {},
   "outputs": [
    {
     "name": "stdout",
     "output_type": "stream",
     "text": [
      "1.26.4\n"
     ]
    }
   ],
   "source": [
    "print(np.__version__)"
   ]
  },
  {
   "cell_type": "code",
   "execution_count": 1,
   "id": "68ba6e54-ae31-4dbe-b51c-bca571f08cbf",
   "metadata": {},
   "outputs": [
    {
     "name": "stdout",
     "output_type": "stream",
     "text": [
      "[1 2 3]\n"
     ]
    }
   ],
   "source": [
    "# Exercise 2. How to create a 1D array?\n",
    "import numpy as np\n",
    "arr = np.array([1,2,3])\n",
    "print(arr)"
   ]
  },
  {
   "cell_type": "code",
   "execution_count": 11,
   "id": "45248a1f-cddc-4e50-a0be-44b76d1a0614",
   "metadata": {},
   "outputs": [
    {
     "data": {
      "text/plain": [
       "array([[ True,  True,  True],\n",
       "       [ True,  True,  True],\n",
       "       [ True,  True,  True]])"
      ]
     },
     "execution_count": 11,
     "metadata": {},
     "output_type": "execute_result"
    }
   ],
   "source": [
    "# Exercise 3. How to create a boolean array?\n",
    "\n",
    "np.ones((3,3), dtype=bool)\n"
   ]
  },
  {
   "cell_type": "code",
   "execution_count": 13,
   "id": "c1f58744-bace-4261-82c9-16f025d22745",
   "metadata": {},
   "outputs": [
    {
     "data": {
      "text/plain": [
       "array([1, 3, 5, 7, 9])"
      ]
     },
     "execution_count": 13,
     "metadata": {},
     "output_type": "execute_result"
    }
   ],
   "source": [
    "# Exercise 4. How to extract items that satisfy a given condition from 1D array?\n",
    "\n",
    "arr = np.arange(10)\n",
    "\n",
    "arr[arr%2 == 1]"
   ]
  },
  {
   "cell_type": "code",
   "execution_count": 15,
   "id": "13d6013a-9740-490f-a2cb-fcdd36ffd80e",
   "metadata": {},
   "outputs": [
    {
     "data": {
      "text/plain": [
       "array([ 0, -1,  2, -1,  4, -1,  6, -1,  8, -1])"
      ]
     },
     "execution_count": 15,
     "metadata": {},
     "output_type": "execute_result"
    }
   ],
   "source": [
    "# Exercise 5. How to replace items that satisfy a condition with another value in numpy array?\n",
    "arr = np.arange(10)\n",
    "\n",
    "arr[arr%2 == 1] = -1\n",
    "arr"
   ]
  },
  {
   "cell_type": "code",
   "execution_count": 17,
   "id": "6b2db1af-4dfc-4677-854d-6db2b8acfc8e",
   "metadata": {},
   "outputs": [
    {
     "name": "stdout",
     "output_type": "stream",
     "text": [
      "Modified Array\n",
      "[ 0 -1  2 -1  4 -1  6 -1  8 -1]\n",
      "\n",
      "Original Array\n",
      "[0 1 2 3 4 5 6 7 8 9]\n"
     ]
    }
   ],
   "source": [
    "# Exercise 6. How to replace items that satisfy a condition without affecting the original array?\n",
    "\n",
    "arr = np.arange(10)\n",
    "\n",
    "res = arr.copy()\n",
    "\n",
    "res[res%2 == 1] = -1\n",
    "\n",
    "print('Modified Array')\n",
    "print(res)\n",
    "\n",
    "print('\\nOriginal Array')\n",
    "print(arr)"
   ]
  },
  {
   "cell_type": "code",
   "execution_count": 25,
   "id": "2b4cc233-1a6e-4ce5-b7f8-80f9f1d583b2",
   "metadata": {},
   "outputs": [
    {
     "data": {
      "text/plain": [
       "array([[ 0,  1,  2,  3,  4],\n",
       "       [ 5,  6,  7,  8,  9],\n",
       "       [10, 11, 12, 13, 14],\n",
       "       [15, 16, 17, 18, 19]])"
      ]
     },
     "execution_count": 25,
     "metadata": {},
     "output_type": "execute_result"
    }
   ],
   "source": [
    "#Exercise 7. How to reshape an array?\n",
    "\n",
    "arr = np.arange(20)\n",
    "arr.reshape(4,5)"
   ]
  },
  {
   "cell_type": "code",
   "execution_count": 27,
   "id": "d999f1b6-2a14-49c7-b125-b06dd586b101",
   "metadata": {},
   "outputs": [
    {
     "data": {
      "text/plain": [
       "array([[0, 1, 2, 3, 4],\n",
       "       [5, 6, 7, 8, 9],\n",
       "       [1, 1, 1, 1, 1],\n",
       "       [1, 1, 1, 1, 1]])"
      ]
     },
     "execution_count": 27,
     "metadata": {},
     "output_type": "execute_result"
    }
   ],
   "source": [
    "# Exercise 8. How to stack two arrays vertically?\n",
    "\n",
    "a = np.arange(10).reshape(2,-1)\n",
    "b = np.repeat(1, 10).reshape(2,-1)\n",
    "\n",
    "np.vstack([a,b])"
   ]
  },
  {
   "cell_type": "code",
   "execution_count": 31,
   "id": "4693fb5e-eb4b-413a-935e-83a1e9280f84",
   "metadata": {},
   "outputs": [
    {
     "data": {
      "text/plain": [
       "array([[0, 1, 2, 3, 4, 1, 1, 1, 1, 1],\n",
       "       [5, 6, 7, 8, 9, 1, 1, 1, 1, 1]])"
      ]
     },
     "execution_count": 31,
     "metadata": {},
     "output_type": "execute_result"
    }
   ],
   "source": [
    "# Exercise 9. How to stack two arrays horizontally?\n",
    "\n",
    "a = np.arange(10).reshape(2,-1)\n",
    "b = np.repeat(1, 10).reshape(2,-1)\n",
    "\n",
    "np.hstack([a,b])"
   ]
  },
  {
   "cell_type": "code",
   "execution_count": 33,
   "id": "3403a50d-e280-4465-98cb-5cec86860e18",
   "metadata": {},
   "outputs": [
    {
     "data": {
      "text/plain": [
       "array([1, 1, 1, 2, 2, 2, 3, 3, 3, 1, 2, 3, 1, 2, 3, 1, 2, 3])"
      ]
     },
     "execution_count": 33,
     "metadata": {},
     "output_type": "execute_result"
    }
   ],
   "source": [
    "# Exercise 10. How to generate custom sequences in numpy without hardcoding?\n",
    "\n",
    "a = np.array([1,2,3])\n",
    "np.r_[np.repeat(a, 3), np.tile(a, 3)]"
   ]
  },
  {
   "cell_type": "code",
   "execution_count": 37,
   "id": "a7eac655-7940-46d0-a90e-170e164d737c",
   "metadata": {},
   "outputs": [
    {
     "data": {
      "text/plain": [
       "array([3, 5])"
      ]
     },
     "execution_count": 37,
     "metadata": {},
     "output_type": "execute_result"
    }
   ],
   "source": [
    "# Exercise 11. How to get the common items between two python numpy arrays?\n",
    "a = np.array([1,2,3,4,5])\n",
    "b = np.array([3,5,6,7,8])\n",
    "np.intersect1d(a,b)"
   ]
  },
  {
   "cell_type": "code",
   "execution_count": 39,
   "id": "de06f8ce-d5d1-495a-9420-247420f8e44a",
   "metadata": {},
   "outputs": [
    {
     "data": {
      "text/plain": [
       "array([1, 2, 3, 4])"
      ]
     },
     "execution_count": 39,
     "metadata": {},
     "output_type": "execute_result"
    }
   ],
   "source": [
    "# Exercise 12. How to remove from one array those items that exist in another?\n",
    "\n",
    "a = np.array([1,2,3,4,5])\n",
    "b = np.array([5,6,7,8,9])\n",
    "\n",
    "np.setdiff1d(a,b)"
   ]
  },
  {
   "cell_type": "code",
   "execution_count": 43,
   "id": "0a4f11d2-f04f-47a5-9486-09599c96ca18",
   "metadata": {},
   "outputs": [
    {
     "data": {
      "text/plain": [
       "(array([1, 3, 5, 7], dtype=int64),)"
      ]
     },
     "execution_count": 43,
     "metadata": {},
     "output_type": "execute_result"
    }
   ],
   "source": [
    "# Exercise 13. How to get the positions where elements of two arrays match?\n",
    "\n",
    "a = np.array([1,2,3,2,3,4,3,4,5,6])\n",
    "b = np.array([7,2,10,2,7,4,9,4,9,8])\n",
    "\n",
    "np.where( a == b)"
   ]
  },
  {
   "cell_type": "code",
   "execution_count": 45,
   "id": "6f6bc91f-3b20-4e71-bf80-10feb0b72e88",
   "metadata": {},
   "outputs": [
    {
     "data": {
      "text/plain": [
       "array([ 6,  9, 10])"
      ]
     },
     "execution_count": 45,
     "metadata": {},
     "output_type": "execute_result"
    }
   ],
   "source": [
    "# Exercise 14. How to extract all numbers between a given range from a numpy array?\n",
    "\n",
    "a = np.array([2, 6, 1, 9, 10, 3, 27])\n",
    "a[(a >= 5) & (a <= 10)]"
   ]
  },
  {
   "cell_type": "code",
   "execution_count": 51,
   "id": "a7ccaea7-5307-4bd3-b39c-12eabe66f094",
   "metadata": {},
   "outputs": [],
   "source": [
    "# Exercise 15. How to make a python function that handles scalars to work on numpy arrays?\n",
    "\n"
   ]
  },
  {
   "cell_type": "code",
   "execution_count": 55,
   "id": "45a72688-00ad-412f-8a97-b6bf990c236f",
   "metadata": {},
   "outputs": [
    {
     "data": {
      "text/plain": [
       "array([[1, 0, 2],\n",
       "       [4, 3, 5],\n",
       "       [7, 6, 8]])"
      ]
     },
     "execution_count": 55,
     "metadata": {},
     "output_type": "execute_result"
    }
   ],
   "source": [
    "# Exercise 16. How to swap two columns in a 2d numpy array?\n",
    "\n",
    "arr = np.arange(9).reshape(3,3)\n",
    "\n",
    "arr[:, [1,0,2]]"
   ]
  },
  {
   "cell_type": "code",
   "execution_count": 73,
   "id": "c742b5de-e126-4c40-8045-a42e022d4ee3",
   "metadata": {},
   "outputs": [
    {
     "name": "stdout",
     "output_type": "stream",
     "text": [
      "Original array\n",
      "[[0 1 2]\n",
      " [3 4 5]\n",
      " [6 7 8]]\n",
      "\n",
      " Swap two Row array\n"
     ]
    },
    {
     "data": {
      "text/plain": [
       "array([[3, 4, 5],\n",
       "       [0, 1, 2],\n",
       "       [6, 7, 8]])"
      ]
     },
     "execution_count": 73,
     "metadata": {},
     "output_type": "execute_result"
    }
   ],
   "source": [
    "# Exercise 17. How to swap two rows in a 2d numpy array?\n",
    "arr = np.arange(9).reshape(3,3)\n",
    "print('Original array')\n",
    "print(arr)\n",
    "\n",
    "# Solution\n",
    "\n",
    "print(\"\\n Swap two Row array\")\n",
    "arr[[1,0,2], :]"
   ]
  },
  {
   "cell_type": "code",
   "execution_count": 69,
   "id": "adbf1a48-d2b0-45a5-93ff-677cfbbeee22",
   "metadata": {},
   "outputs": [
    {
     "name": "stdout",
     "output_type": "stream",
     "text": [
      "Original array\n",
      "[[0 1 2]\n",
      " [3 4 5]\n",
      " [6 7 8]]\n",
      "\n",
      "Reversed Row array\n"
     ]
    },
    {
     "data": {
      "text/plain": [
       "array([[6, 7, 8],\n",
       "       [3, 4, 5],\n",
       "       [0, 1, 2]])"
      ]
     },
     "execution_count": 69,
     "metadata": {},
     "output_type": "execute_result"
    }
   ],
   "source": [
    "# Exercise 18. How to reverse the rows of a 2D array?\n",
    "\n",
    "arr = np.arange(9).reshape(3,3)\n",
    "\n",
    "print('Original array')\n",
    "print(arr)\n",
    "\n",
    "print(\"\\nReversed Row array\")\n",
    "arr[::-1, :]"
   ]
  },
  {
   "cell_type": "code",
   "execution_count": 71,
   "id": "f2cb7329-2173-4768-b9ad-dac656ad323f",
   "metadata": {},
   "outputs": [
    {
     "name": "stdout",
     "output_type": "stream",
     "text": [
      "Original array\n",
      "\n",
      "Reversed column array\n"
     ]
    },
    {
     "data": {
      "text/plain": [
       "array([[2, 1, 0],\n",
       "       [5, 4, 3],\n",
       "       [8, 7, 6]])"
      ]
     },
     "execution_count": 71,
     "metadata": {},
     "output_type": "execute_result"
    }
   ],
   "source": [
    "# Exercise 19. How to reverse the columns of a 2D array?\n",
    "arr = np.arange(9).reshape(3,3)\n",
    "print('Original array')\n",
    "arr\n",
    "\n",
    "\n",
    "print(\"\\nReversed column array\")\n",
    "arr[:, ::-1]"
   ]
  },
  {
   "cell_type": "code",
   "execution_count": 77,
   "id": "6a813cc7-3afc-4fea-9d5a-a61e7ac857ea",
   "metadata": {},
   "outputs": [
    {
     "data": {
      "text/plain": [
       "array([[7.87282136, 8.2888625 , 5.09303337],\n",
       "       [9.46709766, 6.38376506, 8.99975766],\n",
       "       [9.25292219, 6.21991054, 5.8293006 ],\n",
       "       [6.7204927 , 7.54640622, 8.60318594],\n",
       "       [9.35598689, 8.47292499, 5.91732703]])"
      ]
     },
     "execution_count": 77,
     "metadata": {},
     "output_type": "execute_result"
    }
   ],
   "source": [
    "# Exercise 20. How to create a 2D array containing random floats between 5 and 10?\n",
    "\n",
    "arr1 = np.random.uniform(5,10, size=(5,3))\n",
    "arr1"
   ]
  },
  {
   "cell_type": "code",
   "execution_count": 79,
   "id": "626c18c0-fc31-45d1-850d-244f0df26f7f",
   "metadata": {},
   "outputs": [
    {
     "data": {
      "text/plain": [
       "array([[0.722, 0.752, 0.092],\n",
       "       [0.33 , 0.348, 0.778],\n",
       "       [0.699, 0.983, 0.467],\n",
       "       [0.629, 0.458, 0.117],\n",
       "       [0.687, 0.081, 0.99 ]])"
      ]
     },
     "execution_count": 79,
     "metadata": {},
     "output_type": "execute_result"
    }
   ],
   "source": [
    "# Exercise 21. How to print only 3 decimal places in python numpy array?\n",
    "\n",
    "deci_arr = np.random.random((5,3))\n",
    "np.set_printoptions(precision=3)\n",
    "deci_arr"
   ]
  },
  {
   "cell_type": "code",
   "execution_count": 97,
   "id": "aba5866b-abcd-4f57-83e4-bc3f897e794a",
   "metadata": {},
   "outputs": [
    {
     "name": "stdout",
     "output_type": "stream",
     "text": [
      "[[5.434e-04 2.784e-04 4.245e-04]\n",
      " [8.448e-04 4.719e-06 1.216e-04]\n",
      " [6.707e-04 8.259e-04 1.367e-04]]\n"
     ]
    },
    {
     "data": {
      "text/plain": [
       "array([[0.001, 0.   , 0.   ],\n",
       "       [0.001, 0.   , 0.   ],\n",
       "       [0.001, 0.001, 0.   ]])"
      ]
     },
     "execution_count": 97,
     "metadata": {},
     "output_type": "execute_result"
    }
   ],
   "source": [
    "# Exercise 22. How to pretty print a numpy array by suppressing the scientific notation (like 1e10)?\n",
    "\n",
    "np.random.seed(100)\n",
    "arr = np.random.random([3,3])/1e3\n",
    "np.set_printoptions(suppress=False)\n",
    "print(arr)\n",
    "\n",
    "\n",
    "np.set_printoptions(suppress=True)\n",
    "arr"
   ]
  },
  {
   "cell_type": "code",
   "execution_count": 99,
   "id": "f3ab0026-9180-4977-b1b1-4bbfec6b9244",
   "metadata": {},
   "outputs": [
    {
     "data": {
      "text/plain": [
       "array([ 0,  1,  2, ..., 12, 13, 14])"
      ]
     },
     "execution_count": 99,
     "metadata": {},
     "output_type": "execute_result"
    }
   ],
   "source": [
    "# Exercise 23. How to limit the number of items printed in output of numpy array?\n",
    "\n",
    "a = np.arange(15)\n",
    "np.set_printoptions(threshold=6)\n",
    "a"
   ]
  },
  {
   "cell_type": "code",
   "execution_count": 101,
   "id": "76055b29-41e0-4fec-84f2-5a0da7e2bb24",
   "metadata": {},
   "outputs": [
    {
     "data": {
      "text/plain": [
       "array([ 0,  1,  2,  3,  4,  5,  6,  7,  8,  9, 10, 11, 12, 13, 14])"
      ]
     },
     "execution_count": 101,
     "metadata": {},
     "output_type": "execute_result"
    }
   ],
   "source": [
    "# Exercise 24. How to print the full numpy array without truncating\n",
    "\n",
    "a = np.arange(15)\n",
    "\n",
    "\n",
    "np.set_printoptions(threshold=15)\n",
    "a"
   ]
  },
  {
   "cell_type": "code",
   "execution_count": 29,
   "id": "d0721886-d5f6-434b-8c78-c56d9e6e7af3",
   "metadata": {},
   "outputs": [
    {
     "data": {
      "text/plain": [
       "array([['\\ufeffId', 'Name', 'Age', 'Salary', 'Department'],\n",
       "       ['1', 'Dimple', '33', '35000', 'DA'],\n",
       "       ['2', 'Sejal', '30', '25000', 'AI'],\n",
       "       ['3', 'Ketan', '35', '45000', 'ML'],\n",
       "       ['4', 'Ram', '26', '30000', 'DA'],\n",
       "       ['5', 'Raj', '31', '26000', 'ML'],\n",
       "       ['6', 'Kavan', '27', '50000', 'DA'],\n",
       "       ['7', 'Ronak', '35', '40000', 'ML'],\n",
       "       ['8', 'Vasu', '30', '30000', 'AI'],\n",
       "       ['9', 'Kunj', '25', '25000', 'ML'],\n",
       "       ['10', 'Bhargav', '24', '30000', 'DA']], dtype='<U10')"
      ]
     },
     "execution_count": 29,
     "metadata": {},
     "output_type": "execute_result"
    }
   ],
   "source": [
    "# Exercise 25. How to import a dataset with numbers and texts keeping the text intact in python numpy?\n",
    "\n",
    "import numpy as np\n",
    "\n",
    "data = np.genfromtxt(\"mydata.csv\", dtype = None, delimiter= ',',  encoding ='utf-8' )\n",
    "data"
   ]
  },
  {
   "cell_type": "code",
   "execution_count": 35,
   "id": "632da0d5-831b-454d-8915-66e0cec969d0",
   "metadata": {},
   "outputs": [
    {
     "data": {
      "text/plain": [
       "array([ 8.1 , 22.14,  7.7 ,  8.9 ])"
      ]
     },
     "execution_count": 35,
     "metadata": {},
     "output_type": "execute_result"
    }
   ],
   "source": [
    "# Exercise 26. How to extract a particular column from 1D array of tuples?\n",
    "\n",
    "arr = np.array([(5.2, 6.5, 8.10), (56.47, 33.58, 22.14),(5.25, 6.16, 7.7), (7.37, 28.8, 8.9)])\n",
    "arr[:, 2]\n"
   ]
  },
  {
   "cell_type": "code",
   "execution_count": 39,
   "id": "9e0d3245-2e1a-4bbf-b41b-47cc4bbf6c25",
   "metadata": {},
   "outputs": [
    {
     "name": "stdout",
     "output_type": "stream",
     "text": [
      "[[3 5 7]\n",
      " [6 8 9]\n",
      " [2 4 8]]\n"
     ]
    }
   ],
   "source": [
    "# Exercise 27. How to convert a 1d array of tuples to a 2d numpy array?\n",
    "\n",
    "arr = np.array([(3,5,7),(6,8,9),(2,4,8)])\n",
    "arr1 = np.vstack(arr)\n",
    "print(arr1)"
   ]
  },
  {
   "cell_type": "code",
   "execution_count": 57,
   "id": "0edfbf76-4a77-4595-8e33-20ed3e50618a",
   "metadata": {},
   "outputs": [
    {
     "name": "stdout",
     "output_type": "stream",
     "text": [
      "Original Array : [0 1 2 3 4 5 6 7 8 9]\n",
      "\n",
      "Mean:  4.5\n",
      "\n",
      "Median:  4.5\n",
      "\n",
      "std:  2.8722813232690143\n",
      "\n",
      "variance:  8.25\n"
     ]
    }
   ],
   "source": [
    "# Exercise 28. How to compute the mean, median, standard deviation of a numpy array?\n",
    "\n",
    "# Original array \n",
    "array = np.arange(10) \n",
    "print(\"Original Array :\",array) \n",
    "  \n",
    "arr1 = np.mean(array) \n",
    "print(\"\\nMean: \",arr1) \n",
    "\n",
    "arr2 = np.median(array)\n",
    "print(\"\\nMedian: \",arr2)\n",
    "\n",
    "arr3 = np.std(array) \n",
    "print(\"\\nstd: \",arr3) \n",
    "\n",
    "arr4 = np.var(array) \n",
    "print(\"\\nvariance: \", arr4) "
   ]
  },
  {
   "cell_type": "code",
   "execution_count": 59,
   "id": "0bbb7015-dc86-4a71-9693-6ca35721b5dd",
   "metadata": {},
   "outputs": [
    {
     "name": "stdout",
     "output_type": "stream",
     "text": [
      "\n",
      "Normalized Array: [0.44444444 0.11111111 0.16666667 0.22222222 0.         0.33333333\n",
      " 0.5        1.        ]\n"
     ]
    }
   ],
   "source": [
    "# Exercise 29. How to normalize an array so the values range exactly between 0 and 1?\n",
    "\n",
    "#define array with some values\n",
    "arr = np.array([10, 4, 5, 6, 2, 8, 11, 20])\n",
    "\n",
    "# Find the minimum and maximum values in the array\n",
    "min_arr = np.min(arr)\n",
    "max_arr = np.max(arr)\n",
    "\n",
    "# Perform min-max normalization\n",
    "normalized_arr = (arr - min_arr) / (max_arr - min_arr)\n",
    "print(\"\\nNormalized Array:\",normalized_arr)"
   ]
  },
  {
   "cell_type": "code",
   "execution_count": null,
   "id": "00244924-9f26-4a35-80fe-fd1c54840962",
   "metadata": {},
   "outputs": [],
   "source": [
    "# Exercise 30. How to compute the softmax score?\n",
    "\n"
   ]
  }
 ],
 "metadata": {
  "kernelspec": {
   "display_name": "Python 3 (ipykernel)",
   "language": "python",
   "name": "python3"
  },
  "language_info": {
   "codemirror_mode": {
    "name": "ipython",
    "version": 3
   },
   "file_extension": ".py",
   "mimetype": "text/x-python",
   "name": "python",
   "nbconvert_exporter": "python",
   "pygments_lexer": "ipython3",
   "version": "3.12.7"
  }
 },
 "nbformat": 4,
 "nbformat_minor": 5
}
