{
 "cells": [
  {
   "cell_type": "code",
   "execution_count": 1,
   "id": "4e77b76b-8952-435c-9eb0-88367a4f55ae",
   "metadata": {},
   "outputs": [],
   "source": [
    "#Exercise 1: Import numpy as np and see the version."
   ]
  },
  {
   "cell_type": "code",
   "execution_count": 9,
   "id": "8a030e57-fa5a-4e30-a89c-e11465680a85",
   "metadata": {},
   "outputs": [],
   "source": [
    "import numpy as np"
   ]
  },
  {
   "cell_type": "code",
   "execution_count": 11,
   "id": "177c9daa-d429-48cc-a505-039907dc33b3",
   "metadata": {},
   "outputs": [
    {
     "name": "stdout",
     "output_type": "stream",
     "text": [
      "1.26.4\n"
     ]
    }
   ],
   "source": [
    "print(np.__version__)"
   ]
  },
  {
   "cell_type": "code",
   "execution_count": null,
   "id": "68ba6e54-ae31-4dbe-b51c-bca571f08cbf",
   "metadata": {},
   "outputs": [],
   "source": []
  }
 ],
 "metadata": {
  "kernelspec": {
   "display_name": "Python 3 (ipykernel)",
   "language": "python",
   "name": "python3"
  },
  "language_info": {
   "codemirror_mode": {
    "name": "ipython",
    "version": 3
   },
   "file_extension": ".py",
   "mimetype": "text/x-python",
   "name": "python",
   "nbconvert_exporter": "python",
   "pygments_lexer": "ipython3",
   "version": "3.12.7"
  }
 },
 "nbformat": 4,
 "nbformat_minor": 5
}
