{
 "cells": [
  {
   "cell_type": "markdown",
   "id": "46b6217a-646c-4568-b787-0fe5fd016ab2",
   "metadata": {},
   "source": [
    "# Function"
   ]
  },
  {
   "cell_type": "code",
   "execution_count": 6,
   "id": "7c05c936-3886-4958-8831-71c0580fedf1",
   "metadata": {},
   "outputs": [],
   "source": [
    "#function : set of instruction which performs perticular task\n",
    "\n",
    "#Annonymous function : Lamda\n",
    "\n",
    "#print() : write :show\n",
    "\n",
    "#input():"
   ]
  },
  {
   "cell_type": "code",
   "execution_count": 8,
   "id": "e4c7f18b-e991-4d25-baa8-30f63074f518",
   "metadata": {},
   "outputs": [],
   "source": [
    "import keyword\n",
    "#keyword is module"
   ]
  },
  {
   "cell_type": "code",
   "execution_count": 10,
   "id": "161b3255-74ba-40dd-8114-35fcdf32be07",
   "metadata": {},
   "outputs": [
    {
     "data": {
      "text/plain": [
       "['False',\n",
       " 'None',\n",
       " 'True',\n",
       " 'and',\n",
       " 'as',\n",
       " 'assert',\n",
       " 'async',\n",
       " 'await',\n",
       " 'break',\n",
       " 'class',\n",
       " 'continue',\n",
       " 'def',\n",
       " 'del',\n",
       " 'elif',\n",
       " 'else',\n",
       " 'except',\n",
       " 'finally',\n",
       " 'for',\n",
       " 'from',\n",
       " 'global',\n",
       " 'if',\n",
       " 'import',\n",
       " 'in',\n",
       " 'is',\n",
       " 'lambda',\n",
       " 'nonlocal',\n",
       " 'not',\n",
       " 'or',\n",
       " 'pass',\n",
       " 'raise',\n",
       " 'return',\n",
       " 'try',\n",
       " 'while',\n",
       " 'with',\n",
       " 'yield']"
      ]
     },
     "execution_count": 10,
     "metadata": {},
     "output_type": "execute_result"
    }
   ],
   "source": [
    "import keyword\n",
    "keyword.kwlist"
   ]
  },
  {
   "cell_type": "code",
   "execution_count": 12,
   "id": "096a1de8-cdcb-4956-a151-4f093dcaf7c9",
   "metadata": {},
   "outputs": [],
   "source": [
    "#def\n",
    "\n",
    "def displayData():\n",
    "    print(\"Simple Function\")"
   ]
  },
  {
   "cell_type": "code",
   "execution_count": 14,
   "id": "76d01280-674c-4db4-9e27-0ffff4eaf9ce",
   "metadata": {},
   "outputs": [
    {
     "name": "stdout",
     "output_type": "stream",
     "text": [
      "Simple Function\n"
     ]
    }
   ],
   "source": [
    "displayData()"
   ]
  },
  {
   "cell_type": "code",
   "execution_count": 16,
   "id": "f8261e93-e69e-4286-8fc5-21de8830de01",
   "metadata": {},
   "outputs": [
    {
     "name": "stdout",
     "output_type": "stream",
     "text": [
      "Simple Function\n"
     ]
    }
   ],
   "source": [
    "print(\"Simple Function\")"
   ]
  },
  {
   "cell_type": "code",
   "execution_count": 18,
   "id": "0d0d7857-f122-4bf7-af40-2d9585962e1e",
   "metadata": {},
   "outputs": [
    {
     "name": "stdout",
     "output_type": "stream",
     "text": [
      "welcome Dimple your age is 35 years with salary 25000\n"
     ]
    }
   ],
   "source": [
    "def displayData(name, age, salary):\n",
    "    print(f\"welcome {name} your age is {age} years with salary {salary}\")\n",
    "\n",
    "displayData(\"Dimple\" , 35 , 25000)"
   ]
  },
  {
   "cell_type": "code",
   "execution_count": 20,
   "id": "0f33f6e8-1094-4dbd-b685-ecbee0016b23",
   "metadata": {},
   "outputs": [],
   "source": [
    "names = [\"Ram\", \"Raj\", \"Lokesh\", \"john\", \"Don\"]\n",
    "def showData(n):\n",
    "    pass\n",
    "\n",
    "showData(names)"
   ]
  },
  {
   "cell_type": "code",
   "execution_count": 22,
   "id": "55f1fff3-99d5-46ee-b7f5-80faeed93bfd",
   "metadata": {},
   "outputs": [
    {
     "name": "stdout",
     "output_type": "stream",
     "text": [
      "Ram Raj Lokesh john Don "
     ]
    }
   ],
   "source": [
    "def showData(n):\n",
    "    for i in n:\n",
    "        print(i, end= \" \")\n",
    "\n",
    "showData(names)"
   ]
  },
  {
   "cell_type": "code",
   "execution_count": 24,
   "id": "72f24e65-3274-4172-83d6-14a2a0eef70f",
   "metadata": {},
   "outputs": [
    {
     "name": "stdout",
     "output_type": "stream",
     "text": [
      "Ram Raj Lokesh john Don "
     ]
    }
   ],
   "source": [
    "def showData(n):\n",
    "    for i in n:\n",
    "        if(str(i)):\n",
    "            print(i, end= \" \")\n",
    "\n",
    "showData(names)"
   ]
  },
  {
   "cell_type": "code",
   "execution_count": 32,
   "id": "8e01331a-8838-42bf-9063-81565eb6d482",
   "metadata": {},
   "outputs": [
    {
     "data": {
      "text/plain": [
       "['Ram', 'Raj', 'Lokesh', 'john', 'Don']"
      ]
     },
     "execution_count": 32,
     "metadata": {},
     "output_type": "execute_result"
    }
   ],
   "source": [
    "def showData(n):\n",
    "    data = [ ]\n",
    "    for i in n:\n",
    "        if (str(i)):\n",
    "            res = i.lower()\n",
    "            data.append(i)\n",
    "    return data\n",
    "\n",
    "showData(names)\n",
    "        "
   ]
  },
  {
   "cell_type": "code",
   "execution_count": 38,
   "id": "68887595-eb73-42ad-aa32-c6f1c73ce518",
   "metadata": {},
   "outputs": [
    {
     "name": "stdout",
     "output_type": "stream",
     "text": [
      "RAM RAJ LOKESH JOHN DON "
     ]
    }
   ],
   "source": [
    "def showData(n):\n",
    "    for i in n:\n",
    "        if(str(i)):\n",
    "            res = i.upper()\n",
    "            print(res, end = \" \")\n",
    "\n",
    "showData(names)\n",
    "            \n",
    "    "
   ]
  },
  {
   "cell_type": "code",
   "execution_count": 15,
   "id": "b6d7e500-2a69-42e1-abc2-500c7a1f0b45",
   "metadata": {},
   "outputs": [
    {
     "name": "stdout",
     "output_type": "stream",
     "text": [
      "Ram Raj Lokesh John Don "
     ]
    }
   ],
   "source": [
    "names = [\"ram\", \"raj\", \"lokesh\", \"john\", \"don\"]\n",
    "\n",
    "def showData(n):\n",
    "    for i in n:\n",
    "        res = i.capitalize()\n",
    "        print(res, end = \" \")\n",
    "\n",
    "showData(names)"
   ]
  },
  {
   "cell_type": "code",
   "execution_count": 19,
   "id": "bbe339c1-f224-46c6-9d69-1fee23c06828",
   "metadata": {},
   "outputs": [
    {
     "data": {
      "text/plain": [
       "18"
      ]
     },
     "execution_count": 19,
     "metadata": {},
     "output_type": "execute_result"
    }
   ],
   "source": [
    "def additionNumbers(x, y, z):\n",
    "    return x+y+z\n",
    "\n",
    "additionNumbers(3,6,9)"
   ]
  },
  {
   "cell_type": "code",
   "execution_count": 23,
   "id": "42989d4e-0c29-4a7d-a178-f6cb40861b9b",
   "metadata": {},
   "outputs": [
    {
     "data": {
      "text/plain": [
       "40"
      ]
     },
     "execution_count": 23,
     "metadata": {},
     "output_type": "execute_result"
    }
   ],
   "source": [
    "def additionNumbers(*args):\n",
    "    return sum(args)\n",
    "\n",
    "additionNumbers(3,5,6,7,8,9,2)"
   ]
  },
  {
   "cell_type": "markdown",
   "id": "4244fdce-4448-40a5-af37-2721283c5d6a",
   "metadata": {},
   "source": [
    "# List Comprehension"
   ]
  },
  {
   "cell_type": "code",
   "execution_count": 26,
   "id": "e449f7f4-beff-4867-8d2c-cfc3bd4f8645",
   "metadata": {},
   "outputs": [],
   "source": [
    "ls1 = [2,3,4,5,6,7,8]\n",
    "ls2 = [\"A\",\"B\",\"C\",\"D\",\"E\"]\n",
    "\n",
    "result = [(x,y) for x in ls1 for y in ls2]"
   ]
  },
  {
   "cell_type": "code",
   "execution_count": 28,
   "id": "1ac58ea5-e9e7-4a98-87fe-cc20220d9ee7",
   "metadata": {},
   "outputs": [
    {
     "name": "stdout",
     "output_type": "stream",
     "text": [
      "[(2, 'A'), (2, 'B'), (2, 'C'), (2, 'D'), (2, 'E'), (3, 'A'), (3, 'B'), (3, 'C'), (3, 'D'), (3, 'E'), (4, 'A'), (4, 'B'), (4, 'C'), (4, 'D'), (4, 'E'), (5, 'A'), (5, 'B'), (5, 'C'), (5, 'D'), (5, 'E'), (6, 'A'), (6, 'B'), (6, 'C'), (6, 'D'), (6, 'E'), (7, 'A'), (7, 'B'), (7, 'C'), (7, 'D'), (7, 'E'), (8, 'A'), (8, 'B'), (8, 'C'), (8, 'D'), (8, 'E')]\n"
     ]
    }
   ],
   "source": [
    "print(result)"
   ]
  },
  {
   "cell_type": "code",
   "execution_count": 30,
   "id": "2c9d0c05-266c-4705-bb80-427c95638a54",
   "metadata": {},
   "outputs": [
    {
     "name": "stdout",
     "output_type": "stream",
     "text": [
      "[(2, 1), (2, 3), (2, 5), (2, 7), (2, 9), (4, 1), (4, 3), (4, 5), (4, 7), (4, 9), (6, 1), (6, 3), (6, 5), (6, 7), (6, 9), (8, 1), (8, 3), (8, 5), (8, 7), (8, 9), (10, 1), (10, 3), (10, 5), (10, 7), (10, 9)]\n"
     ]
    }
   ],
   "source": [
    "ls1 = [2,4,6,8,10]\n",
    "ls2 = [1,3,5,7,9]\n",
    "\n",
    "res = [(x,y) for x in ls1 for y in ls2]\n",
    "print(res)"
   ]
  },
  {
   "cell_type": "code",
   "execution_count": 36,
   "id": "9fc49673-9b9a-4d37-a349-801d5879f01b",
   "metadata": {},
   "outputs": [
    {
     "name": "stdout",
     "output_type": "stream",
     "text": [
      "[0, 1, 4, 9, 16]\n"
     ]
    }
   ],
   "source": [
    "res = [x ** 2 for x in range(5)]\n",
    "print(res)"
   ]
  },
  {
   "cell_type": "markdown",
   "id": "abfee25b-4ebd-48c0-b981-c91b3673d975",
   "metadata": {},
   "source": [
    "# Annonymous Function"
   ]
  },
  {
   "cell_type": "code",
   "execution_count": 39,
   "id": "abd05425-c619-4901-8e5f-37b5d6b2918d",
   "metadata": {},
   "outputs": [
    {
     "name": "stdout",
     "output_type": "stream",
     "text": [
      "9\n"
     ]
    }
   ],
   "source": [
    "res = lambda x,y: x+y\n",
    "\n",
    "print(res(4,5))"
   ]
  },
  {
   "cell_type": "code",
   "execution_count": 41,
   "id": "e65d9b17-5cd9-4229-b3b4-eb62c1d43ec7",
   "metadata": {},
   "outputs": [],
   "source": [
    "import random"
   ]
  },
  {
   "cell_type": "code",
   "execution_count": 43,
   "id": "4902b995-64fa-46f7-bb02-c7b2c2f1853f",
   "metadata": {},
   "outputs": [],
   "source": [
    "import math"
   ]
  },
  {
   "cell_type": "code",
   "execution_count": 45,
   "id": "ad0f30bc-2621-4945-ac7c-1111e74455af",
   "metadata": {},
   "outputs": [],
   "source": [
    "import os"
   ]
  },
  {
   "cell_type": "code",
   "execution_count": 47,
   "id": "d1f5ef33-2245-47ba-bcf5-e4806c7b4a9f",
   "metadata": {},
   "outputs": [
    {
     "name": "stdout",
     "output_type": "stream",
     "text": [
      "['DirEntry', 'EX_OK', 'F_OK', 'GenericAlias', 'Mapping', 'MutableMapping', 'O_APPEND', 'O_BINARY', 'O_CREAT', 'O_EXCL', 'O_NOINHERIT', 'O_RANDOM', 'O_RDONLY', 'O_RDWR', 'O_SEQUENTIAL', 'O_SHORT_LIVED', 'O_TEMPORARY', 'O_TEXT', 'O_TRUNC', 'O_WRONLY', 'P_DETACH', 'P_NOWAIT', 'P_NOWAITO', 'P_OVERLAY', 'P_WAIT', 'PathLike', 'R_OK', 'SEEK_CUR', 'SEEK_END', 'SEEK_SET', 'TMP_MAX', 'W_OK', 'X_OK', '_AddedDllDirectory', '_Environ', '__all__', '__builtins__', '__doc__', '__file__', '__loader__', '__name__', '__package__', '__spec__', '_check_methods', '_execvpe', '_exists', '_exit', '_fspath', '_get_exports_list', '_walk_symlinks_as_files', '_wrap_close', 'abc', 'abort', 'access', 'add_dll_directory', 'altsep', 'chdir', 'chmod', 'close', 'closerange', 'cpu_count', 'curdir', 'defpath', 'device_encoding', 'devnull', 'dup', 'dup2', 'environ', 'error', 'execl', 'execle', 'execlp', 'execlpe', 'execv', 'execve', 'execvp', 'execvpe', 'extsep', 'fdopen', 'fsdecode', 'fsencode', 'fspath', 'fstat', 'fsync', 'ftruncate', 'get_blocking', 'get_exec_path', 'get_handle_inheritable', 'get_inheritable', 'get_terminal_size', 'getcwd', 'getcwdb', 'getenv', 'getlogin', 'getpid', 'getppid', 'isatty', 'kill', 'linesep', 'link', 'listdir', 'listdrives', 'listmounts', 'listvolumes', 'lseek', 'lstat', 'makedirs', 'mkdir', 'name', 'open', 'pardir', 'path', 'pathsep', 'pipe', 'popen', 'putenv', 'read', 'readlink', 'remove', 'removedirs', 'rename', 'renames', 'replace', 'rmdir', 'scandir', 'sep', 'set_blocking', 'set_handle_inheritable', 'set_inheritable', 'spawnl', 'spawnle', 'spawnv', 'spawnve', 'st', 'startfile', 'stat', 'stat_result', 'statvfs_result', 'strerror', 'supports_bytes_environ', 'supports_dir_fd', 'supports_effective_ids', 'supports_fd', 'supports_follow_symlinks', 'symlink', 'sys', 'system', 'terminal_size', 'times', 'times_result', 'truncate', 'umask', 'uname_result', 'unlink', 'unsetenv', 'urandom', 'utime', 'waitpid', 'waitstatus_to_exitcode', 'walk', 'write']\n"
     ]
    }
   ],
   "source": [
    "print(dir(os))"
   ]
  },
  {
   "cell_type": "code",
   "execution_count": 49,
   "id": "41966546-dffc-4451-88d4-b55eacc05a1a",
   "metadata": {},
   "outputs": [],
   "source": [
    "ls = [\"accommodation\" , \"adventure\" ,\"afterwords\" , \"beginning\" , \"blogger\", \"careless\"]"
   ]
  },
  {
   "cell_type": "code",
   "execution_count": 53,
   "id": "2695cc65-6f7d-46b3-879e-4fdc2e774cbf",
   "metadata": {},
   "outputs": [
    {
     "data": {
      "text/plain": [
       "'blogger'"
      ]
     },
     "execution_count": 53,
     "metadata": {},
     "output_type": "execute_result"
    }
   ],
   "source": [
    "random.choice(ls)"
   ]
  },
  {
   "cell_type": "code",
   "execution_count": 55,
   "id": "024d6bc6-e559-4b9b-82a6-cde5a37ad45b",
   "metadata": {},
   "outputs": [
    {
     "data": {
      "text/plain": [
       "'adventure'"
      ]
     },
     "execution_count": 55,
     "metadata": {},
     "output_type": "execute_result"
    }
   ],
   "source": [
    "random.choice(ls)"
   ]
  },
  {
   "cell_type": "code",
   "execution_count": 57,
   "id": "839009fd-66bd-4644-ac8e-228bc18dd510",
   "metadata": {},
   "outputs": [
    {
     "data": {
      "text/plain": [
       "['accommodation']"
      ]
     },
     "execution_count": 57,
     "metadata": {},
     "output_type": "execute_result"
    }
   ],
   "source": [
    "random.choices(ls)"
   ]
  },
  {
   "cell_type": "code",
   "execution_count": 59,
   "id": "c076241a-4399-4e49-a3b2-cde0eb780ea0",
   "metadata": {},
   "outputs": [
    {
     "data": {
      "text/plain": [
       "['accommodation', 'accommodation', 'afterwords']"
      ]
     },
     "execution_count": 59,
     "metadata": {},
     "output_type": "execute_result"
    }
   ],
   "source": [
    "random.choices(ls, k = 3)"
   ]
  },
  {
   "cell_type": "code",
   "execution_count": 63,
   "id": "a9ee4843-95e8-469c-b4a0-e1200456354c",
   "metadata": {},
   "outputs": [
    {
     "data": {
      "text/plain": [
       "['careless', 'afterwords']"
      ]
     },
     "execution_count": 63,
     "metadata": {},
     "output_type": "execute_result"
    }
   ],
   "source": [
    "random.sample(ls, k = 2)"
   ]
  },
  {
   "cell_type": "markdown",
   "id": "3fc7d7c1-73df-4f24-a9aa-97c0159d345d",
   "metadata": {},
   "source": [
    "# map()"
   ]
  },
  {
   "cell_type": "code",
   "execution_count": 68,
   "id": "6bbb3814-eef6-45c3-8213-81678513bdcb",
   "metadata": {},
   "outputs": [],
   "source": [
    "#map() is a function and returns boolean \n",
    "#filter() is returns a value\n",
    "#reduce()"
   ]
  },
  {
   "cell_type": "code",
   "execution_count": 70,
   "id": "31305cd4-0337-43e8-81f4-a62e4704839a",
   "metadata": {},
   "outputs": [],
   "source": [
    "#map function: It returns boolean\n",
    "#interator\n",
    "#Iteration\n",
    "#Iterable"
   ]
  },
  {
   "cell_type": "code",
   "execution_count": 82,
   "id": "99346fdc-45ce-4ee1-bb45-18ff0646568f",
   "metadata": {},
   "outputs": [
    {
     "name": "stdout",
     "output_type": "stream",
     "text": [
      "[(5, 6), (7, 8), (7, 9), (2, 9)]\n"
     ]
    }
   ],
   "source": [
    "data = [(7,9),(5,6),(7,8),(2,9)]\n",
    "\n",
    "result = sorted(data, key = lambda x : x[1])\n",
    "print(result)"
   ]
  },
  {
   "cell_type": "code",
   "execution_count": 90,
   "id": "564743dc-fe3b-4138-89ce-5284a4c1ae5a",
   "metadata": {},
   "outputs": [
    {
     "name": "stdout",
     "output_type": "stream",
     "text": [
      "<class 'tuple'>\n"
     ]
    }
   ],
   "source": [
    "tup = (2,3,4,5,2,3,4,2,4,5,6,7,8,8)\n",
    "print(type(tup))"
   ]
  },
  {
   "cell_type": "code",
   "execution_count": 92,
   "id": "8a3bc170-51a3-4595-8d94-61db74e86e7f",
   "metadata": {},
   "outputs": [
    {
     "data": {
      "text/plain": [
       "3"
      ]
     },
     "execution_count": 92,
     "metadata": {},
     "output_type": "execute_result"
    }
   ],
   "source": [
    "tup.count(2)"
   ]
  },
  {
   "cell_type": "code",
   "execution_count": 94,
   "id": "1f8eb21f-4a7b-47e1-9cb9-aa2a644a2f20",
   "metadata": {},
   "outputs": [
    {
     "data": {
      "text/plain": [
       "3"
      ]
     },
     "execution_count": 94,
     "metadata": {},
     "output_type": "execute_result"
    }
   ],
   "source": [
    "tup.index(5)"
   ]
  },
  {
   "cell_type": "code",
   "execution_count": 100,
   "id": "be322cdc-7464-42d0-9519-9d030b56e3c2",
   "metadata": {},
   "outputs": [],
   "source": [
    "data = [(2,3),(4,5),(6,7),(8,9)]\n",
    "res = sorted(data, key = lambda x: x[0])"
   ]
  },
  {
   "cell_type": "code",
   "execution_count": 102,
   "id": "f72eb907-0ce5-4748-ae99-646aec3bfc4b",
   "metadata": {},
   "outputs": [
    {
     "name": "stdout",
     "output_type": "stream",
     "text": [
      "[(2, 3), (4, 5), (6, 7), (8, 9)]\n"
     ]
    }
   ],
   "source": [
    "print(res)"
   ]
  },
  {
   "cell_type": "code",
   "execution_count": 110,
   "id": "7e5a041c-83c2-45f1-ad0e-15e77fb22d2e",
   "metadata": {},
   "outputs": [
    {
     "name": "stdout",
     "output_type": "stream",
     "text": [
      "[2, 4, 6, 8]\n"
     ]
    }
   ],
   "source": [
    "num = [2,3,4,5,6,7,8,9]\n",
    "\n",
    "res = list(filter(lambda x: x%2 == 0 ,num))\n",
    "print(res)"
   ]
  },
  {
   "cell_type": "code",
   "execution_count": 112,
   "id": "0fabd3e6-9f49-44ae-ae08-74a243d7e422",
   "metadata": {},
   "outputs": [],
   "source": [
    "res = list(filter(lambda x : x%2 != 0 , num))"
   ]
  },
  {
   "cell_type": "code",
   "execution_count": 114,
   "id": "dff7928b-7432-4de8-9118-5f70508e3527",
   "metadata": {},
   "outputs": [
    {
     "name": "stdout",
     "output_type": "stream",
     "text": [
      "[3, 5, 7, 9]\n"
     ]
    }
   ],
   "source": [
    "print(res)"
   ]
  },
  {
   "cell_type": "code",
   "execution_count": 116,
   "id": "de6ba5b8-862c-4141-a085-69ab3ab2eebc",
   "metadata": {},
   "outputs": [
    {
     "name": "stdout",
     "output_type": "stream",
     "text": [
      "[True, False, True, False, True, False, True, False]\n"
     ]
    }
   ],
   "source": [
    "res = list(map(lambda x : x%2 == 0, num))\n",
    "print(res)"
   ]
  },
  {
   "cell_type": "code",
   "execution_count": 118,
   "id": "7e995498-6c3a-49b6-9ab5-8e789fa389ec",
   "metadata": {},
   "outputs": [
    {
     "name": "stdout",
     "output_type": "stream",
     "text": [
      "[False, True, False, True, False, True, False, True]\n"
     ]
    }
   ],
   "source": [
    "res = list(map(lambda x: x%2 != 0 ,num))\n",
    "print(res)"
   ]
  },
  {
   "cell_type": "code",
   "execution_count": 120,
   "id": "4f9940d1-3d2c-4d0d-97cf-cfb9a49717d0",
   "metadata": {},
   "outputs": [
    {
     "name": "stdout",
     "output_type": "stream",
     "text": [
      "[{'name': 'Dhyanam', 'age': 5, 'gender': 'male'}, {'name': 'Aarohi', 'age': 10, 'gender': 'female'}, {'name': 'dimple', 'age': 35, 'gender': 'female'}]\n"
     ]
    }
   ],
   "source": [
    "d1 = [{'name' :\"dimple\", 'age' : 35 , 'gender': \"female\"},{'name' :\"Dhyanam\", 'age' : 5 , 'gender': \"male\"},{'name' :\"Aarohi\", 'age' : 10 , 'gender': \"female\"}]\n",
    "res = sorted(d1, key = lambda x: x[\"age\"], reverse = False) #ascending order\n",
    "print(res)"
   ]
  },
  {
   "cell_type": "code",
   "execution_count": 122,
   "id": "5d4364b6-8f85-45dc-8baf-43fb08788b6e",
   "metadata": {},
   "outputs": [
    {
     "name": "stdout",
     "output_type": "stream",
     "text": [
      "[{'name': 'dimple', 'age': 35, 'gender': 'female'}, {'name': 'Aarohi', 'age': 10, 'gender': 'female'}, {'name': 'Dhyanam', 'age': 5, 'gender': 'male'}]\n"
     ]
    }
   ],
   "source": [
    "res = sorted(d1, key = lambda x: x[\"age\"], reverse = True) #descending order\n",
    "print(res)"
   ]
  },
  {
   "cell_type": "code",
   "execution_count": 124,
   "id": "43079111-2a33-4338-b103-3121237c6cab",
   "metadata": {},
   "outputs": [],
   "source": [
    "d2 = {\"name\" :\"ketan\", \"age\" : 36, \"salary\" : 250000}"
   ]
  },
  {
   "cell_type": "code",
   "execution_count": 126,
   "id": "c2f2567f-9188-4f1b-bf66-69220f27c475",
   "metadata": {},
   "outputs": [
    {
     "data": {
      "text/plain": [
       "dict_keys(['name', 'age', 'salary'])"
      ]
     },
     "execution_count": 126,
     "metadata": {},
     "output_type": "execute_result"
    }
   ],
   "source": [
    "d2.keys()"
   ]
  },
  {
   "cell_type": "code",
   "execution_count": 128,
   "id": "2abdadcc-b739-4fa4-a38e-ebc72dd9a285",
   "metadata": {},
   "outputs": [
    {
     "data": {
      "text/plain": [
       "dict_values(['ketan', 36, 250000])"
      ]
     },
     "execution_count": 128,
     "metadata": {},
     "output_type": "execute_result"
    }
   ],
   "source": [
    "d2.values()"
   ]
  },
  {
   "cell_type": "code",
   "execution_count": 130,
   "id": "12669842-68eb-431d-ae48-41d003d52902",
   "metadata": {},
   "outputs": [
    {
     "data": {
      "text/plain": [
       "dict_items([('name', 'ketan'), ('age', 36), ('salary', 250000)])"
      ]
     },
     "execution_count": 130,
     "metadata": {},
     "output_type": "execute_result"
    }
   ],
   "source": [
    "d2.items()"
   ]
  },
  {
   "cell_type": "code",
   "execution_count": 136,
   "id": "306e1bbd-45b5-47dd-996b-9c1c8849cb95",
   "metadata": {},
   "outputs": [],
   "source": [
    "d2 = {\"name\" :\"ketan\", \"age\" : 36, \"salary\" : 250000}\n",
    "d2.update({\"name\" : \"Dhyanam\"})"
   ]
  },
  {
   "cell_type": "raw",
   "id": "4c92f421-b283-457b-99b2-4d2ff00d0943",
   "metadata": {},
   "source": []
  },
  {
   "cell_type": "code",
   "execution_count": 138,
   "id": "d89e3edd-325b-403a-aa80-1f36c75aa010",
   "metadata": {},
   "outputs": [
    {
     "name": "stdout",
     "output_type": "stream",
     "text": [
      "{'name': 'Dhyanam', 'age': 36, 'salary': 250000}\n"
     ]
    }
   ],
   "source": [
    "print(d2)"
   ]
  },
  {
   "cell_type": "code",
   "execution_count": 140,
   "id": "157a9da1-78a1-4604-a8d5-9c055d34ebee",
   "metadata": {},
   "outputs": [],
   "source": [
    "operations = {\n",
    "    \"add\" : lambda x,y :x+y,\n",
    "    \"subs\" : lambda x,y :x-y,\n",
    "    \"mul\" : lambda x,y :x*y,\n",
    "    \"div\" : lambda x,y :x/y,\n",
    "    \"mdiv\" : lambda x,y : x%y,\n",
    "    \"fdiv\" : lambda x,y : x//y,\n",
    "    \"pr\" : lambda x,y : x**y\n",
    "}\n"
   ]
  },
  {
   "cell_type": "code",
   "execution_count": 142,
   "id": "663b7982-070a-4fd0-8403-974ab5178805",
   "metadata": {},
   "outputs": [
    {
     "name": "stdin",
     "output_type": "stream",
     "text": [
      "Enter first Number : 5\n",
      "Enter second Number : 2\n"
     ]
    },
    {
     "name": "stdout",
     "output_type": "stream",
     "text": [
      "7\n",
      "3\n",
      "10\n",
      "2.5\n",
      "1\n",
      "2\n",
      "25\n"
     ]
    }
   ],
   "source": [
    "n1 = int(input(\"Enter first Number :\"))\n",
    "n2 = int(input(\"Enter second Number :\"))\n",
    "\n",
    "print(operations[\"add\"](n1,n2))\n",
    "print(operations[\"subs\"](n1,n2))\n",
    "print(operations[\"mul\"](n1,n2))\n",
    "print(operations[\"div\"](n1,n2))\n",
    "print(operations[\"mdiv\"](n1,n2))\n",
    "print(operations[\"fdiv\"](n1,n2))\n",
    "print(operations[\"pr\"](n1,n2))"
   ]
  },
  {
   "cell_type": "code",
   "execution_count": 10,
   "id": "75a36ace-6841-4e56-8b05-dd17e3165dda",
   "metadata": {},
   "outputs": [
    {
     "name": "stdout",
     "output_type": "stream",
     "text": [
      "[True, False, True, False, True, False, True, False, True, False, True, False, True, False]\n"
     ]
    }
   ],
   "source": [
    "ls = [2,3,4,5,6,7,8,9,4,5,6,7,8,9]\n",
    "ls2 = list(map(lambda x: x %2 ==0, ls))\n",
    "print(ls2)"
   ]
  },
  {
   "cell_type": "code",
   "execution_count": 12,
   "id": "ceecc142-9e8a-48ce-968c-70810f6d2e10",
   "metadata": {},
   "outputs": [
    {
     "name": "stdout",
     "output_type": "stream",
     "text": [
      "[2, 4, 6, 8, 4, 6, 8]\n"
     ]
    }
   ],
   "source": [
    "ls3 = list(filter(lambda x : x%2 ==0 , ls))\n",
    "print(ls3)"
   ]
  },
  {
   "cell_type": "code",
   "execution_count": 18,
   "id": "ef306a5c-3671-4c79-90d4-c487e0d78127",
   "metadata": {},
   "outputs": [
    {
     "name": "stdout",
     "output_type": "stream",
     "text": [
      "[(2, 1), (3, 2), (4, 6), (7, 5)]\n"
     ]
    }
   ],
   "source": [
    "ls = [(4,6),(7,5),(3,2),(2,1)]\n",
    "ls2 = sorted(ls, key = lambda x: x[0])\n",
    "print(ls2)"
   ]
  },
  {
   "cell_type": "code",
   "execution_count": 20,
   "id": "83a20442-421f-4196-b585-9e35b11a00c8",
   "metadata": {},
   "outputs": [],
   "source": [
    "employees = [\n",
    "    {\"name\" : \"Dimple\", \"age\" : 35 ,\"salary\" :35000},\n",
    "    {\"name\" : \"Ketan\", \"age\" : 37 ,\"salary\" :45000},\n",
    "    {\"name\" : \"Aarohi\", \"age\" : 15 ,\"salary\" :55000},\n",
    "    {\"name\" : \"Dhyanam\", \"age\" : 25 ,\"salary\" :65000}    \n",
    "]"
   ]
  },
  {
   "cell_type": "code",
   "execution_count": 30,
   "id": "29b93d24-2a9e-40ef-9718-8ea8170b3779",
   "metadata": {},
   "outputs": [
    {
     "name": "stdout",
     "output_type": "stream",
     "text": [
      "[{'name': 'Aarohi', 'age': 15, 'salary': 55000}, {'name': 'Dhyanam', 'age': 25, 'salary': 65000}, {'name': 'Dimple', 'age': 35, 'salary': 35000}, {'name': 'Ketan', 'age': 37, 'salary': 45000}]\n"
     ]
    }
   ],
   "source": [
    "res = sorted(employees, key= lambda x: (x[\"age\"], x[\"salary\"]))\n",
    "print(res)"
   ]
  },
  {
   "cell_type": "code",
   "execution_count": 32,
   "id": "55d6da24-f99b-4d4f-8f7a-4024351aae1c",
   "metadata": {},
   "outputs": [
    {
     "name": "stdout",
     "output_type": "stream",
     "text": [
      "[{'name': 'Aarohi', 'age': 15, 'salary': 55000}, {'name': 'Dhyanam', 'age': 25, 'salary': 65000}, {'name': 'Dimple', 'age': 35, 'salary': 35000}, {'name': 'Ketan', 'age': 37, 'salary': 45000}]\n"
     ]
    }
   ],
   "source": [
    "res = sorted(employees, key= lambda x: (x[\"age\"], -x[\"salary\"]))\n",
    "print(res)"
   ]
  },
  {
   "cell_type": "code",
   "execution_count": 34,
   "id": "11eb23e2-67cc-4393-a3b6-d2635243dbb3",
   "metadata": {},
   "outputs": [
    {
     "name": "stdout",
     "output_type": "stream",
     "text": [
      "[3, 9, 13, 17]\n"
     ]
    }
   ],
   "source": [
    "ls1 = [2,4,6,8]\n",
    "ls2 = [1,5,7,9]\n",
    "res = list(map(lambda x,y : x+y, ls1,ls2))\n",
    "print(res)"
   ]
  },
  {
   "cell_type": "code",
   "execution_count": 36,
   "id": "0afda6f3-ec5c-4e4f-b598-ffe0fea16e15",
   "metadata": {},
   "outputs": [
    {
     "name": "stdout",
     "output_type": "stream",
     "text": [
      "[2, 20, 42, 72]\n"
     ]
    }
   ],
   "source": [
    "res = list(map(lambda x,y : x*y, ls1,ls2))\n",
    "print(res)"
   ]
  },
  {
   "cell_type": "code",
   "execution_count": 42,
   "id": "7bbd0d10-344e-459f-9840-ef29c91e40c3",
   "metadata": {},
   "outputs": [
    {
     "name": "stdout",
     "output_type": "stream",
     "text": [
      "[2.0, 0.8, 0.8571428571428571, 0.8888888888888888]\n"
     ]
    }
   ],
   "source": [
    "res = list(map(lambda x,y: x/y, ls1, ls2))\n",
    "print(res)"
   ]
  },
  {
   "cell_type": "raw",
   "id": "b00e16a2-d401-4d8b-a2a6-4c4e5793fdf3",
   "metadata": {},
   "source": []
  },
  {
   "cell_type": "code",
   "execution_count": 44,
   "id": "8ce2fc22-8170-4e80-bf41-199cd4c20db2",
   "metadata": {},
   "outputs": [
    {
     "name": "stdout",
     "output_type": "stream",
     "text": [
      "[0, 4, 6, 8]\n"
     ]
    }
   ],
   "source": [
    "res = list(map(lambda x,y : x%y, ls1, ls2))\n",
    "print(res)"
   ]
  },
  {
   "cell_type": "code",
   "execution_count": 50,
   "id": "fcce9151-6ca9-4bd8-8bde-ffe72783e336",
   "metadata": {},
   "outputs": [
    {
     "name": "stdout",
     "output_type": "stream",
     "text": [
      "<map object at 0x000001F5B9B0A0B0>\n"
     ]
    }
   ],
   "source": [
    "ls = [3,2,1,4,5,6,7,8,9,1,2,3,5,4,7,8]\n",
    "import operator\n",
    "\n",
    "def additionNumbers(*args):\n",
    "    return sum(args)\n",
    "\n",
    "result = map(additionNumbers, ls)\n",
    "print(result)"
   ]
  },
  {
   "cell_type": "code",
   "execution_count": 54,
   "id": "97a78aed-704a-418a-8edc-b24b618e341e",
   "metadata": {},
   "outputs": [
    {
     "name": "stdout",
     "output_type": "stream",
     "text": [
      "75\n"
     ]
    }
   ],
   "source": [
    "res = sum(list(map(lambda x : x+0 ,ls)))\n",
    "print(res)"
   ]
  },
  {
   "cell_type": "code",
   "execution_count": 56,
   "id": "6d7c31c0-bb09-4a26-ab5d-5c52b9c8566d",
   "metadata": {},
   "outputs": [],
   "source": [
    "num = [3,4,5,6,7,8,9,9]"
   ]
  },
  {
   "cell_type": "code",
   "execution_count": 62,
   "id": "192be676-f8cb-4b0d-a744-72db2d0044bd",
   "metadata": {},
   "outputs": [
    {
     "name": "stdout",
     "output_type": "stream",
     "text": [
      "['GenericAlias', 'RLock', 'WRAPPER_ASSIGNMENTS', 'WRAPPER_UPDATES', '_CacheInfo', '_HashedSeq', '_NOT_FOUND', '__all__', '__builtins__', '__cached__', '__doc__', '__file__', '__loader__', '__name__', '__package__', '__spec__', '_c3_merge', '_c3_mro', '_compose_mro', '_convert', '_find_impl', '_ge_from_gt', '_ge_from_le', '_ge_from_lt', '_gt_from_ge', '_gt_from_le', '_gt_from_lt', '_initial_missing', '_le_from_ge', '_le_from_gt', '_le_from_lt', '_lru_cache_wrapper', '_lt_from_ge', '_lt_from_gt', '_lt_from_le', '_make_key', '_unwrap_partial', 'cache', 'cached_property', 'cmp_to_key', 'get_cache_token', 'lru_cache', 'namedtuple', 'partial', 'partialmethod', 'recursive_repr', 'reduce', 'singledispatch', 'singledispatchmethod', 'total_ordering', 'update_wrapper', 'wraps']\n"
     ]
    }
   ],
   "source": [
    "from functools import reduce\n",
    "import functools\n",
    "print(dir(functools))"
   ]
  },
  {
   "cell_type": "code",
   "execution_count": 66,
   "id": "e2e7a987-1c04-41ef-aa3b-0041d2147c01",
   "metadata": {},
   "outputs": [
    {
     "name": "stdout",
     "output_type": "stream",
     "text": [
      "175\n"
     ]
    }
   ],
   "source": [
    "num = [10,15,20,25,30,35,40]\n",
    "num1 = reduce(lambda x,y: x+y, num)\n",
    "print(num1)"
   ]
  },
  {
   "cell_type": "code",
   "execution_count": 70,
   "id": "4b380dad-5e22-46b0-ad08-80a5c9e94d9d",
   "metadata": {},
   "outputs": [
    {
     "name": "stdout",
     "output_type": "stream",
     "text": [
      "220\n"
     ]
    }
   ],
   "source": [
    "import operator\n",
    "from functools import reduce\n",
    "numbers = [10,15,20,25,30,35,40,45]\n",
    "result = reduce(operator.add, numbers)\n",
    "print(result)"
   ]
  },
  {
   "cell_type": "code",
   "execution_count": 95,
   "id": "c6102416-85f1-4493-8684-fb23597ca3fa",
   "metadata": {},
   "outputs": [
    {
     "ename": "TypeError",
     "evalue": "'list' object is not callable",
     "output_type": "error",
     "traceback": [
      "\u001b[1;31m---------------------------------------------------------------------------\u001b[0m",
      "\u001b[1;31mTypeError\u001b[0m                                 Traceback (most recent call last)",
      "Cell \u001b[1;32mIn[95], line 1\u001b[0m\n\u001b[1;32m----> 1\u001b[0m \u001b[38;5;28mlen\u001b[39m([\u001b[38;5;241m2\u001b[39m,\u001b[38;5;241m3\u001b[39m,\u001b[38;5;241m4\u001b[39m,\u001b[38;5;241m5\u001b[39m,\u001b[38;5;241m6\u001b[39m,\u001b[38;5;241m7\u001b[39m])\n",
      "\u001b[1;31mTypeError\u001b[0m: 'list' object is not callable"
     ]
    }
   ],
   "source": [
    "len([2,3,4,5,6,7])"
   ]
  },
  {
   "cell_type": "code",
   "execution_count": 99,
   "id": "9f04943b-4ebf-49e4-b6be-9c1ec79ccf47",
   "metadata": {},
   "outputs": [
    {
     "ename": "TypeError",
     "evalue": "'list' object is not callable",
     "output_type": "error",
     "traceback": [
      "\u001b[1;31m---------------------------------------------------------------------------\u001b[0m",
      "\u001b[1;31mTypeError\u001b[0m                                 Traceback (most recent call last)",
      "Cell \u001b[1;32mIn[99], line 1\u001b[0m\n\u001b[1;32m----> 1\u001b[0m \u001b[38;5;28mlen\u001b[39m(\u001b[38;5;124m\"\u001b[39m\u001b[38;5;124mhello\u001b[39m\u001b[38;5;124m\"\u001b[39m)\n",
      "\u001b[1;31mTypeError\u001b[0m: 'list' object is not callable"
     ]
    }
   ],
   "source": [
    "len(\"hello\")"
   ]
  },
  {
   "cell_type": "code",
   "execution_count": 101,
   "id": "2cddada7-1b8f-47ba-a51e-dfb914224eb0",
   "metadata": {},
   "outputs": [
    {
     "name": "stdout",
     "output_type": "stream",
     "text": [
      "135\n"
     ]
    }
   ],
   "source": [
    "data = [[11,12,13],[14,15,16],[17,18,19]]\n",
    "total_sum = reduce(operator.add, map(lambda x :sum(x), data))\n",
    "print(total_sum)"
   ]
  },
  {
   "cell_type": "code",
   "execution_count": 103,
   "id": "62da74a0-5b71-4cc7-a6a0-1d78ea4857b2",
   "metadata": {},
   "outputs": [
    {
     "name": "stdout",
     "output_type": "stream",
     "text": [
      "(9, 12)\n"
     ]
    }
   ],
   "source": [
    "data = [(1,2),(3,4),(5,6)]\n",
    "a = 0\n",
    "b = 0\n",
    "result = reduce(lambda a,b: (a[0]+b[0], a[1]+b[1]),data)\n",
    "\n",
    "print(result)"
   ]
  },
  {
   "cell_type": "code",
   "execution_count": 105,
   "id": "88d2e9f2-c73b-4948-a92a-166a914766ad",
   "metadata": {},
   "outputs": [
    {
     "name": "stdout",
     "output_type": "stream",
     "text": [
      "36\n"
     ]
    }
   ],
   "source": [
    "data = ((1,2),(3,4),(5,6),(7,8))\n",
    "total = reduce(operator.add, map(lambda x : sum(x),data))\n",
    "print(total)"
   ]
  },
  {
   "cell_type": "code",
   "execution_count": 107,
   "id": "3b726621-dfd3-48cd-b199-41442e36ac0b",
   "metadata": {},
   "outputs": [
    {
     "name": "stdout",
     "output_type": "stream",
     "text": [
      "27\n"
     ]
    }
   ],
   "source": [
    "data = {(2,3),(4,5),(6,7)}\n",
    "total_s = reduce(operator.add, map(lambda x: sum(x),data))\n",
    "print(total_s)"
   ]
  },
  {
   "cell_type": "code",
   "execution_count": 109,
   "id": "7523b126-c146-4546-b368-eab2a60e958a",
   "metadata": {},
   "outputs": [
    {
     "name": "stdout",
     "output_type": "stream",
     "text": [
      "[7, 8, 9, 10, 11, 12, 13]\n"
     ]
    }
   ],
   "source": [
    "data = [2,3,4,5,6,7,8]\n",
    "res = [(lambda x: x + 5 )(x) for x in data]\n",
    "\n",
    "print(res)"
   ]
  },
  {
   "cell_type": "code",
   "execution_count": 111,
   "id": "f4a5305c-c6f1-4d15-8152-e9d413368dbd",
   "metadata": {},
   "outputs": [
    {
     "name": "stdout",
     "output_type": "stream",
     "text": [
      "[4, 9, 14, 19, 24]\n"
     ]
    }
   ],
   "source": [
    "ls1 = [1,2,3,4,5]\n",
    "ls2 = [2,4,6,8,10]\n",
    "ls3 = [1,3,5,7,9]\n",
    "\n",
    "res = list(map(lambda x,y,z: x+y+z, ls1,ls2,ls3))\n",
    "print(res)"
   ]
  },
  {
   "cell_type": "code",
   "execution_count": 113,
   "id": "4fd93bbd-3db3-4361-ae9b-f9355bdbda72",
   "metadata": {},
   "outputs": [
    {
     "name": "stdout",
     "output_type": "stream",
     "text": [
      "12000\n"
     ]
    }
   ],
   "source": [
    "from functools import reduce\n",
    "import operator\n",
    "\n",
    "trans = [\n",
    "    {'type' : 'deposit', 'amount' :5000},\n",
    "    {'type' : 'withdraw', 'amount' :6000},\n",
    "    {'type' : 'deposit', 'amount' :4000},\n",
    "    {'type' : 'withdraw', 'amount' :7000},\n",
    "    {'type' : 'deposit', 'amount' :3000}\n",
    "]\n",
    "\n",
    "total_deposit = reduce(operator.add, map(lambda t : t['amount'], filter(lambda t: t['type'] == 'deposit', trans)))\n",
    "print(total_deposit)"
   ]
  },
  {
   "cell_type": "code",
   "execution_count": 115,
   "id": "90c7ce51-5646-44d7-9363-f31bf645df7e",
   "metadata": {},
   "outputs": [
    {
     "name": "stdout",
     "output_type": "stream",
     "text": [
      "25000\n"
     ]
    }
   ],
   "source": [
    "total_depo = sum(map(operator.itemgetter(\"amount\"), trans))\n",
    "\n",
    "print(total_depo)"
   ]
  },
  {
   "cell_type": "code",
   "execution_count": 117,
   "id": "4c71cdcf-a138-467c-bc1e-5bf8a4a7693d",
   "metadata": {},
   "outputs": [
    {
     "ename": "KeyError",
     "evalue": "'deposit'",
     "output_type": "error",
     "traceback": [
      "\u001b[1;31m---------------------------------------------------------------------------\u001b[0m",
      "\u001b[1;31mKeyError\u001b[0m                                  Traceback (most recent call last)",
      "Cell \u001b[1;32mIn[117], line 1\u001b[0m\n\u001b[1;32m----> 1\u001b[0m total_de \u001b[38;5;241m=\u001b[39m \u001b[38;5;28mlist\u001b[39m(\u001b[38;5;28mmap\u001b[39m(operator\u001b[38;5;241m.\u001b[39mitemgetter(\u001b[38;5;124m\"\u001b[39m\u001b[38;5;124mdeposit\u001b[39m\u001b[38;5;124m\"\u001b[39m),trans))\n\u001b[0;32m      3\u001b[0m \u001b[38;5;28mprint\u001b[39m(total_de)\n",
      "\u001b[1;31mKeyError\u001b[0m: 'deposit'"
     ]
    }
   ],
   "source": [
    "total_de = list(map(operator.itemgetter(\"deposit\"),trans))\n",
    "\n",
    "print(total_de)"
   ]
  },
  {
   "cell_type": "code",
   "execution_count": 119,
   "id": "d96cf6df-791f-4484-a327-cddb0088bb20",
   "metadata": {},
   "outputs": [
    {
     "ename": "TypeError",
     "evalue": "'keys' is an invalid keyword argument for sort()",
     "output_type": "error",
     "traceback": [
      "\u001b[1;31m---------------------------------------------------------------------------\u001b[0m",
      "\u001b[1;31mTypeError\u001b[0m                                 Traceback (most recent call last)",
      "Cell \u001b[1;32mIn[119], line 12\u001b[0m\n\u001b[0;32m      2\u001b[0m \u001b[38;5;28;01mimport\u001b[39;00m \u001b[38;5;21;01moperator\u001b[39;00m\n\u001b[0;32m      4\u001b[0m trans \u001b[38;5;241m=\u001b[39m [\n\u001b[0;32m      5\u001b[0m     {\u001b[38;5;124m'\u001b[39m\u001b[38;5;124mtype\u001b[39m\u001b[38;5;124m'\u001b[39m : \u001b[38;5;124m'\u001b[39m\u001b[38;5;124mdeposit\u001b[39m\u001b[38;5;124m'\u001b[39m, \u001b[38;5;124m'\u001b[39m\u001b[38;5;124mamount\u001b[39m\u001b[38;5;124m'\u001b[39m :\u001b[38;5;241m5000\u001b[39m},\n\u001b[0;32m      6\u001b[0m     {\u001b[38;5;124m'\u001b[39m\u001b[38;5;124mtype\u001b[39m\u001b[38;5;124m'\u001b[39m : \u001b[38;5;124m'\u001b[39m\u001b[38;5;124mwithdraw\u001b[39m\u001b[38;5;124m'\u001b[39m, \u001b[38;5;124m'\u001b[39m\u001b[38;5;124mamount\u001b[39m\u001b[38;5;124m'\u001b[39m :\u001b[38;5;241m6000\u001b[39m},\n\u001b[1;32m   (...)\u001b[0m\n\u001b[0;32m      9\u001b[0m     {\u001b[38;5;124m'\u001b[39m\u001b[38;5;124mtype\u001b[39m\u001b[38;5;124m'\u001b[39m : \u001b[38;5;124m'\u001b[39m\u001b[38;5;124mdeposit\u001b[39m\u001b[38;5;124m'\u001b[39m, \u001b[38;5;124m'\u001b[39m\u001b[38;5;124mamount\u001b[39m\u001b[38;5;124m'\u001b[39m :\u001b[38;5;241m3000\u001b[39m}\n\u001b[0;32m     10\u001b[0m ]\n\u001b[1;32m---> 12\u001b[0m total_deposit \u001b[38;5;241m=\u001b[39m trans\u001b[38;5;241m.\u001b[39msort(keys \u001b[38;5;241m=\u001b[39m operator\u001b[38;5;241m.\u001b[39mitemgetter(\u001b[38;5;241m1\u001b[39m))\n\u001b[0;32m     13\u001b[0m \u001b[38;5;28mprint\u001b[39m(total_deposit)\n",
      "\u001b[1;31mTypeError\u001b[0m: 'keys' is an invalid keyword argument for sort()"
     ]
    }
   ],
   "source": [
    "from functools import reduce\n",
    "import operator\n",
    "\n",
    "trans = [\n",
    "    {'type' : 'deposit', 'amount' :5000},\n",
    "    {'type' : 'withdraw', 'amount' :6000},\n",
    "    {'type' : 'deposit', 'amount' :4000},\n",
    "    {'type' : 'withdraw', 'amount' :7000},\n",
    "    {'type' : 'deposit', 'amount' :3000}\n",
    "]\n",
    "\n",
    "total_deposit = trans.sort(keys = operator.itemgetter(1))\n",
    "print(total_deposit)"
   ]
  },
  {
   "cell_type": "code",
   "execution_count": 121,
   "id": "8e02bbc5-9a51-49b8-8be9-8eb645c1bd79",
   "metadata": {},
   "outputs": [
    {
     "name": "stdout",
     "output_type": "stream",
     "text": [
      "254100000000000000000000000\n"
     ]
    }
   ],
   "source": [
    "cart = [\n",
    "    {'product' : \"laptop\", 'price' : 25000, \"quantity\" :2},\n",
    "    {'product' : \"tablet\", 'price' : 12000, \"quantity\" :3},\n",
    "    {'product' : \"mobile\", 'price' : 22000, \"quantity\" :4},\n",
    "    {'product' : \"fridge\", 'price' : 35000, \"quantity\" :1},\n",
    "    {'product' : \"TV\", 'price' : 55000, \"quantity\" :3},\n",
    "    {'product' : \"music system\", 'price' : 20000, \"quantity\" :1},\n",
    "]\n",
    "\n",
    "total = reduce(operator.mul, map(lambda t : t['price'], filter(lambda t: t['quantity'], cart)))\n",
    "print(total)"
   ]
  },
  {
   "cell_type": "code",
   "execution_count": 123,
   "id": "8aa54be3-d634-4c0f-ac83-19e4bfe71b79",
   "metadata": {},
   "outputs": [
    {
     "name": "stdout",
     "output_type": "stream",
     "text": [
      "169000\n"
     ]
    }
   ],
   "source": [
    "total = reduce(operator.add, map(lambda t : t['price'], filter(lambda t: t['quantity'], cart)))\n",
    "print(total)"
   ]
  },
  {
   "cell_type": "code",
   "execution_count": 125,
   "id": "dcae7aab-171e-4817-aeb7-6e711229c669",
   "metadata": {},
   "outputs": [
    {
     "name": "stdout",
     "output_type": "stream",
     "text": [
      "18295200000000000000000000000\n"
     ]
    }
   ],
   "source": [
    "from functools import reduce\n",
    "import operator as op\n",
    "\n",
    "cart = [\n",
    "    {'product' : \"laptop\", 'price' : 25000, \"quantity\" :2},\n",
    "    {'product' : \"tablet\", 'price' : 12000, \"quantity\" :3},\n",
    "    {'product' : \"mobile\", 'price' : 22000, \"quantity\" :4},\n",
    "    {'product' : \"fridge\", 'price' : 35000, \"quantity\" :1},\n",
    "    {'product' : \"TV\", 'price' : 55000, \"quantity\" :3},\n",
    "    {'product' : \"music system\", 'price' : 20000, \"quantity\" :1},\n",
    "]\n",
    "\n",
    "total = reduce(op.mul, map(lambda t : t['price'] * t['quantity'], cart))\n",
    "print(total)"
   ]
  },
  {
   "cell_type": "code",
   "execution_count": null,
   "id": "dc9e3a08-dd46-4bee-a1c6-ea38879df922",
   "metadata": {},
   "outputs": [],
   "source": []
  }
 ],
 "metadata": {
  "kernelspec": {
   "display_name": "Python [conda env:base] *",
   "language": "python",
   "name": "conda-base-py"
  },
  "language_info": {
   "codemirror_mode": {
    "name": "ipython",
    "version": 3
   },
   "file_extension": ".py",
   "mimetype": "text/x-python",
   "name": "python",
   "nbconvert_exporter": "python",
   "pygments_lexer": "ipython3",
   "version": "3.12.7"
  }
 },
 "nbformat": 4,
 "nbformat_minor": 5
}
