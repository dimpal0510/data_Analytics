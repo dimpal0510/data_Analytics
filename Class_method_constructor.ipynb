{
 "cells": [
  {
   "cell_type": "code",
   "execution_count": 1,
   "id": "a4b6b03c-2cb4-401d-91e3-d91071a0af7d",
   "metadata": {},
   "outputs": [],
   "source": [
    "import keyword"
   ]
  },
  {
   "cell_type": "code",
   "execution_count": 3,
   "id": "f0d3d001-5599-479e-be11-47a48e714b37",
   "metadata": {},
   "outputs": [
    {
     "name": "stdout",
     "output_type": "stream",
     "text": [
      "['False', 'None', 'True', 'and', 'as', 'assert', 'async', 'await', 'break', 'class', 'continue', 'def', 'del', 'elif', 'else', 'except', 'finally', 'for', 'from', 'global', 'if', 'import', 'in', 'is', 'lambda', 'nonlocal', 'not', 'or', 'pass', 'raise', 'return', 'try', 'while', 'with', 'yield']\n"
     ]
    }
   ],
   "source": [
    "print(keyword.kwlist)"
   ]
  },
  {
   "cell_type": "code",
   "execution_count": 5,
   "id": "d45666c9-b027-4d56-aad6-c77719c29cf9",
   "metadata": {},
   "outputs": [],
   "source": [
    "class HelloWorld:\n",
    "    pass #keyword"
   ]
  },
  {
   "cell_type": "code",
   "execution_count": 9,
   "id": "678df42f-2d76-4a39-bdbe-adfd489ea2ba",
   "metadata": {},
   "outputs": [],
   "source": [
    "class HelloWorld:\n",
    "    def displayData(self):\n",
    "        print(\"This is function\")"
   ]
  },
  {
   "cell_type": "code",
   "execution_count": 11,
   "id": "e8e711c1-0e06-4f68-87c8-245cce0ea62d",
   "metadata": {},
   "outputs": [],
   "source": [
    "ob = HelloWorld()"
   ]
  },
  {
   "cell_type": "code",
   "execution_count": 13,
   "id": "c3a6e44f-1b21-47f0-b98e-f1d873235b2b",
   "metadata": {},
   "outputs": [
    {
     "name": "stdout",
     "output_type": "stream",
     "text": [
      "This is function\n"
     ]
    }
   ],
   "source": [
    "ob.displayData()"
   ]
  },
  {
   "cell_type": "code",
   "execution_count": 15,
   "id": "2d9f42d1-ed82-46ad-aa55-cc1ed2cc2ac1",
   "metadata": {},
   "outputs": [],
   "source": [
    "class DisplayData:\n",
    "    def __init__(self):\n",
    "        pass"
   ]
  },
  {
   "cell_type": "code",
   "execution_count": 17,
   "id": "b15f1da9-313c-4c94-b72f-87b74a76eb1e",
   "metadata": {},
   "outputs": [],
   "source": [
    "ls = [2,4,6,8]"
   ]
  },
  {
   "cell_type": "code",
   "execution_count": 19,
   "id": "32d34b79-383e-4860-938d-50227aba1ab8",
   "metadata": {},
   "outputs": [
    {
     "name": "stdout",
     "output_type": "stream",
     "text": [
      "['__add__', '__class__', '__class_getitem__', '__contains__', '__delattr__', '__delitem__', '__dir__', '__doc__', '__eq__', '__format__', '__ge__', '__getattribute__', '__getitem__', '__getstate__', '__gt__', '__hash__', '__iadd__', '__imul__', '__init__', '__init_subclass__', '__iter__', '__le__', '__len__', '__lt__', '__mul__', '__ne__', '__new__', '__reduce__', '__reduce_ex__', '__repr__', '__reversed__', '__rmul__', '__setattr__', '__setitem__', '__sizeof__', '__str__', '__subclasshook__', 'append', 'clear', 'copy', 'count', 'extend', 'index', 'insert', 'pop', 'remove', 'reverse', 'sort']\n"
     ]
    }
   ],
   "source": [
    "print(dir(ls))"
   ]
  },
  {
   "cell_type": "code",
   "execution_count": 21,
   "id": "a77c5643-5139-48d2-8f8f-5f5ecbbca702",
   "metadata": {},
   "outputs": [],
   "source": [
    "class DisplayData:\n",
    "    def __init__(self):\n",
    "        pass"
   ]
  },
  {
   "cell_type": "code",
   "execution_count": 23,
   "id": "389d7a41-dee3-4fb4-99ee-f7d7e8ce8dda",
   "metadata": {},
   "outputs": [],
   "source": [
    "class DisplayData:\n",
    "    def __init__(self, name, age, salary): #constructor\n",
    "        self.name = name #object\n",
    "        self.age = age\n",
    "        self.salary = salary\n",
    "    def showData(self): #method\n",
    "        print(f\"welcome {self.name} your age is {self.age} years with salary {self.salary}\")\n",
    "\n",
    "data = DisplayData(\"Dimple\", 32, 30000)"
   ]
  },
  {
   "cell_type": "code",
   "execution_count": 25,
   "id": "a3749fa8-4c0b-4646-a795-4d059f26a251",
   "metadata": {},
   "outputs": [
    {
     "name": "stdout",
     "output_type": "stream",
     "text": [
      "Dimple\n"
     ]
    }
   ],
   "source": [
    "print(data.name)"
   ]
  },
  {
   "cell_type": "code",
   "execution_count": 27,
   "id": "b6e0d065-3247-4863-afd2-de08231f6212",
   "metadata": {},
   "outputs": [
    {
     "name": "stdout",
     "output_type": "stream",
     "text": [
      "32\n"
     ]
    }
   ],
   "source": [
    "print(data.age)"
   ]
  },
  {
   "cell_type": "code",
   "execution_count": 29,
   "id": "60a7e695-b6a9-490d-9762-1962e9090e2d",
   "metadata": {},
   "outputs": [
    {
     "name": "stdout",
     "output_type": "stream",
     "text": [
      "30000\n"
     ]
    }
   ],
   "source": [
    "print(data.salary)"
   ]
  },
  {
   "cell_type": "code",
   "execution_count": 37,
   "id": "6efc8967-ccfb-4fe6-9c9b-07d66afa48e7",
   "metadata": {},
   "outputs": [
    {
     "name": "stdout",
     "output_type": "stream",
     "text": [
      "welcome Dimple your age is 32 years with salary 30000\n"
     ]
    }
   ],
   "source": [
    "class DisplayData:\n",
    "    def __init__(self, name, age, salary):\n",
    "        self.name = name\n",
    "        self.age = age\n",
    "        self.salary = salary\n",
    "      #  print(f\"welcome {self.name} your age is {self.age} years with salary {self.salary}\")\n",
    "    def showData(self):\n",
    "        print(f\"welcome {self.name} your age is {self.age} years with salary {self.salary}\")\n",
    "\n",
    "data = DisplayData(\"Dimple\", 32, 30000)\n",
    "data.showData()"
   ]
  },
  {
   "cell_type": "code",
   "execution_count": 41,
   "id": "02f43dec-fe8a-4e07-8239-ef843d410489",
   "metadata": {},
   "outputs": [
    {
     "name": "stdout",
     "output_type": "stream",
     "text": [
      "Dimple\n",
      "Patel\n",
      "32\n",
      "India\n",
      "vadodara\n"
     ]
    }
   ],
   "source": [
    "#Example 1. add more parameter to the function.\n",
    "\n",
    "class Person:\n",
    "    def __init__(self, firstname, lastname, age, country, city):\n",
    "        self.firstname = firstname\n",
    "        self.lastname = lastname\n",
    "        self.age = age\n",
    "        self.country = country\n",
    "        self.city = city\n",
    "\n",
    "p = Person(\"Dimple\" ,\"Patel\", 32, \"India\", \"vadodara\")\n",
    "print(p.firstname)\n",
    "print(p.lastname)\n",
    "print(p.age)\n",
    "print(p.country)\n",
    "print(p.city)\n"
   ]
  },
  {
   "cell_type": "code",
   "execution_count": 1,
   "id": "2a072fd5-4ee8-4af1-81fa-de9953f058e6",
   "metadata": {},
   "outputs": [],
   "source": [
    "#single Inheritance\n",
    "class Animal:\n",
    "    pass\n",
    "\n",
    "class Dog(Animal):\n",
    "    pass\n",
    "\n",
    "class Cat(Animal):\n",
    "    pass\n",
    "\n",
    "class Tiger(Animal):\n",
    "    pass"
   ]
  },
  {
   "cell_type": "code",
   "execution_count": 3,
   "id": "bf15a51b-5820-48ae-b7e4-ea34b37d5da5",
   "metadata": {},
   "outputs": [],
   "source": [
    "#multilevel Inheritance\n",
    "class Animal:\n",
    "    pass\n",
    "\n",
    "class Dog(Animal):\n",
    "    pass\n",
    "\n",
    "class PetDog(Dog):\n",
    "    pass\n",
    "    "
   ]
  },
  {
   "cell_type": "code",
   "execution_count": 9,
   "id": "81d86a98-ed07-46b2-a535-d84dd3597116",
   "metadata": {},
   "outputs": [],
   "source": [
    "# Multiple Inheritance\n",
    "class D2Shape: #parent\n",
    "    pass\n",
    "\n",
    "class D3Shape: #parent\n",
    "    pass\n",
    "\n",
    "class Shape(D2Shape, D3Shape): #child\n",
    "    pass"
   ]
  },
  {
   "cell_type": "markdown",
   "id": "4d50b840-8e41-442f-857f-7435fe381cf7",
   "metadata": {},
   "source": [
    "#constructor"
   ]
  },
  {
   "cell_type": "code",
   "execution_count": 8,
   "id": "139bb630-77d8-4269-8c5b-8fa119a6c15d",
   "metadata": {},
   "outputs": [
    {
     "name": "stdout",
     "output_type": "stream",
     "text": [
      "This is non parameterized constructor\n",
      "Hello Arthur\n"
     ]
    }
   ],
   "source": [
    "# Example 1.: Constructor without parameters(Non- parameterized)\n",
    "\n",
    "class Test:\n",
    "    #constuctor - non parameterized\n",
    "    def __init__(self):\n",
    "        print(\"This is non parameterized constructor\")\n",
    "\n",
    "    def show(self, name):\n",
    "        print(\"Hello\", name)\n",
    "\n",
    "#creating object of class\n",
    "\n",
    "t = Test()  # Output : this is not parameterized constructor\n",
    "\n",
    "#calling the instance method\n",
    "\n",
    "t.show(\"Arthur\")"
   ]
  },
  {
   "cell_type": "markdown",
   "id": "a23da76a-1aa1-4cf0-a4f8-f6931659612a",
   "metadata": {},
   "source": [
    "#Encapsulation"
   ]
  },
  {
   "cell_type": "code",
   "execution_count": 2,
   "id": "cc8dde6b-28ac-4a0f-bc6b-de619f3c1a20",
   "metadata": {},
   "outputs": [],
   "source": [
    "# Encapsulation means wraping of data"
   ]
  },
  {
   "cell_type": "code",
   "execution_count": 4,
   "id": "879fd979-3dce-42d9-ad21-6eae420979e3",
   "metadata": {},
   "outputs": [],
   "source": [
    "# Abstraction :hiding of unneccesory data from user."
   ]
  },
  {
   "cell_type": "code",
   "execution_count": 14,
   "id": "244fc447-5b6f-4071-bb3c-1995f4f4e2b1",
   "metadata": {},
   "outputs": [
    {
     "name": "stdout",
     "output_type": "stream",
     "text": [
      "This is a parent class\n",
      "Name : Dimple and age is 32 years\n",
      "This is second class\n",
      "Name : google and skill is : USA\n",
      "Thius is child class\n",
      "salary is : 35000 and skill is : machine Learning\n"
     ]
    }
   ],
   "source": [
    "# Multiple Inheritance\n",
    "# Parent class first\n",
    "class Person:\n",
    "    def person_info(self, name, age):\n",
    "        print(\"This is a parent class\")\n",
    "        print(f'Name : {name} and age is {age} years')\n",
    "\n",
    "#parent class Second\n",
    "class Company:\n",
    "    def company_info(self, company_name, location):\n",
    "        print(\"This is second class\")\n",
    "        print(f'Name : {company_name} and skill is : {location}')\n",
    "\n",
    "class Employee(Person, Company):\n",
    "    def Employee_info(self, salary, skill):\n",
    "        print(\"Thius is child class\")\n",
    "        print(f'salary is : {salary} and skill is : {skill}')\n",
    "\n",
    "emp = Employee()\n",
    "emp.person_info(\"Dimple\", 32)\n",
    "emp.company_info(\"google\", \"USA\")\n",
    "emp.Employee_info(35000, \"machine Learning\")"
   ]
  },
  {
   "cell_type": "code",
   "execution_count": 3,
   "id": "8240f7da-0e0b-48c3-b18a-b13aeb5e3219",
   "metadata": {},
   "outputs": [
    {
     "name": "stdout",
     "output_type": "stream",
     "text": [
      "This is Student info\n",
      "Student name is Dimple and Age is 32\n",
      "This is school detail of student\n",
      "School name is Nalanda School and location is: Mehsana\n",
      "This is Collage Information\n",
      "Collage name is Ganpat university and course is Msc(computer Science)\n",
      "Designation is :Data Analytics and salary expactation is : 30000\n"
     ]
    }
   ],
   "source": [
    "# Hybrid Inheritance.\n",
    "class student:\n",
    "    def stud_info(self, name, age):\n",
    "        print(\"This is Student info\")\n",
    "        print(f'Student name is {name} and Age is {age}')\n",
    "class school(student):\n",
    "    def school_info(self, school_name, location):\n",
    "        print(\"This is school detail of student\")\n",
    "        print(f'School name is {school_name} and location is: {location}')\n",
    "class collage(student):\n",
    "    def collage_info(self, coll_name, course):\n",
    "        print(\"This is Collage Information\")\n",
    "        print(f'Collage name is {coll_name} and course is {course}')\n",
    "class Company(school, collage):\n",
    "    def designation(self, designation, salary_ex):\n",
    "        print(f'Designation is :{designation} and salary expactation is : {salary_ex}')\n",
    "\n",
    "stud = Company()\n",
    "stud.stud_info(\"Dimple\", 32)\n",
    "stud.school_info(\"Nalanda School\", \"Mehsana\")\n",
    "stud.collage_info(\"Ganpat university\", \"Msc(computer Science)\")\n",
    "stud.designation(\"Data Analytics\" ,30000)"
   ]
  },
  {
   "cell_type": "code",
   "execution_count": null,
   "id": "d706c9b5-efcf-4e49-bbc7-fd8a40e79eb5",
   "metadata": {},
   "outputs": [],
   "source": []
  }
 ],
 "metadata": {
  "kernelspec": {
   "display_name": "Python [conda env:base] *",
   "language": "python",
   "name": "conda-base-py"
  },
  "language_info": {
   "codemirror_mode": {
    "name": "ipython",
    "version": 3
   },
   "file_extension": ".py",
   "mimetype": "text/x-python",
   "name": "python",
   "nbconvert_exporter": "python",
   "pygments_lexer": "ipython3",
   "version": "3.12.7"
  }
 },
 "nbformat": 4,
 "nbformat_minor": 5
}
