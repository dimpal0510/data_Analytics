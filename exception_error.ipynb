{
 "cells": [
  {
   "cell_type": "code",
   "execution_count": 1,
   "id": "d14eb97b-64a9-44e6-b376-409cf5599699",
   "metadata": {},
   "outputs": [
    {
     "name": "stdin",
     "output_type": "stream",
     "text": [
      "Enter the first Number 25\n",
      "Enter the second Number 5\n"
     ]
    },
    {
     "name": "stdout",
     "output_type": "stream",
     "text": [
      "Division is 5.0\n",
      "your name is : Dimple\n"
     ]
    }
   ],
   "source": [
    "#Exception Handling\n",
    "\n",
    "a = int(input(\"Enter the first Number\"))\n",
    "b = int(input(\"Enter the second Number\"))\n",
    "\n",
    "result = a / b\n",
    "\n",
    "print(f\"Division is {result}\")\n",
    "\n",
    "name = \"Dimple\"\n",
    "print(f\"your name is : {name}\")"
   ]
  },
  {
   "cell_type": "code",
   "execution_count": 3,
   "id": "8cf833d7-2cfa-4ad1-9446-851bdc8d3bae",
   "metadata": {},
   "outputs": [
    {
     "name": "stdin",
     "output_type": "stream",
     "text": [
      "Enter the first Number 25\n",
      "Enter the second Number 0\n"
     ]
    },
    {
     "ename": "ZeroDivisionError",
     "evalue": "division by zero",
     "output_type": "error",
     "traceback": [
      "\u001b[1;31m---------------------------------------------------------------------------\u001b[0m",
      "\u001b[1;31mZeroDivisionError\u001b[0m                         Traceback (most recent call last)",
      "Cell \u001b[1;32mIn[3], line 4\u001b[0m\n\u001b[0;32m      1\u001b[0m a \u001b[38;5;241m=\u001b[39m \u001b[38;5;28mint\u001b[39m(\u001b[38;5;28minput\u001b[39m(\u001b[38;5;124m\"\u001b[39m\u001b[38;5;124mEnter the first Number\u001b[39m\u001b[38;5;124m\"\u001b[39m))\n\u001b[0;32m      2\u001b[0m b \u001b[38;5;241m=\u001b[39m \u001b[38;5;28mint\u001b[39m(\u001b[38;5;28minput\u001b[39m(\u001b[38;5;124m\"\u001b[39m\u001b[38;5;124mEnter the second Number\u001b[39m\u001b[38;5;124m\"\u001b[39m))\n\u001b[1;32m----> 4\u001b[0m result \u001b[38;5;241m=\u001b[39m a \u001b[38;5;241m/\u001b[39m b\n\u001b[0;32m      6\u001b[0m \u001b[38;5;28mprint\u001b[39m(\u001b[38;5;124mf\u001b[39m\u001b[38;5;124m\"\u001b[39m\u001b[38;5;124mDivision is \u001b[39m\u001b[38;5;132;01m{\u001b[39;00mresult\u001b[38;5;132;01m}\u001b[39;00m\u001b[38;5;124m\"\u001b[39m)\n\u001b[0;32m      8\u001b[0m name \u001b[38;5;241m=\u001b[39m \u001b[38;5;124m\"\u001b[39m\u001b[38;5;124mDimple\u001b[39m\u001b[38;5;124m\"\u001b[39m\n",
      "\u001b[1;31mZeroDivisionError\u001b[0m: division by zero"
     ]
    }
   ],
   "source": [
    "#Arithmatic Error\n",
    "\n",
    "a = int(input(\"Enter the first Number\"))\n",
    "b = int(input(\"Enter the second Number\"))\n",
    "\n",
    "result = a / b\n",
    "\n",
    "print(f\"Division is {result}\")\n",
    "\n",
    "name = \"Dimple\"\n",
    "print(f\"your name is : {name}\")"
   ]
  },
  {
   "cell_type": "code",
   "execution_count": 5,
   "id": "39a9881d-7933-4309-9115-95c0b95c42c0",
   "metadata": {},
   "outputs": [
    {
     "ename": "NameError",
     "evalue": "name 'dt' is not defined",
     "output_type": "error",
     "traceback": [
      "\u001b[1;31m---------------------------------------------------------------------------\u001b[0m",
      "\u001b[1;31mNameError\u001b[0m                                 Traceback (most recent call last)",
      "Cell \u001b[1;32mIn[5], line 1\u001b[0m\n\u001b[1;32m----> 1\u001b[0m \u001b[38;5;28mprint\u001b[39m(dt)\n",
      "\u001b[1;31mNameError\u001b[0m: name 'dt' is not defined"
     ]
    }
   ],
   "source": [
    "#name Error\n",
    "print(dt)"
   ]
  },
  {
   "cell_type": "code",
   "execution_count": 7,
   "id": "5866faf0-58b5-443e-8dcd-2b746f95f40c",
   "metadata": {},
   "outputs": [
    {
     "ename": "IndentationError",
     "evalue": "expected an indented block after 'for' statement on line 1 (563642278.py, line 2)",
     "output_type": "error",
     "traceback": [
      "\u001b[1;36m  Cell \u001b[1;32mIn[7], line 2\u001b[1;36m\u001b[0m\n\u001b[1;33m    print(i)\u001b[0m\n\u001b[1;37m    ^\u001b[0m\n\u001b[1;31mIndentationError\u001b[0m\u001b[1;31m:\u001b[0m expected an indented block after 'for' statement on line 1\n"
     ]
    }
   ],
   "source": [
    "#Indentation Error\n",
    "for i in range(1,25,2):\n",
    "print(i)"
   ]
  },
  {
   "cell_type": "code",
   "execution_count": 9,
   "id": "f0c3397e-c4b7-42de-8d3d-8ea3efa4a076",
   "metadata": {},
   "outputs": [
    {
     "ename": "FileNotFoundError",
     "evalue": "[Errno 2] No such file or directory: 'hello.txt'",
     "output_type": "error",
     "traceback": [
      "\u001b[1;31m---------------------------------------------------------------------------\u001b[0m",
      "\u001b[1;31mFileNotFoundError\u001b[0m                         Traceback (most recent call last)",
      "Cell \u001b[1;32mIn[9], line 1\u001b[0m\n\u001b[1;32m----> 1\u001b[0m fs \u001b[38;5;241m=\u001b[39m \u001b[38;5;28mopen\u001b[39m(\u001b[38;5;124m\"\u001b[39m\u001b[38;5;124mhello.txt\u001b[39m\u001b[38;5;124m\"\u001b[39m,\u001b[38;5;124m\"\u001b[39m\u001b[38;5;124mr\u001b[39m\u001b[38;5;124m\"\u001b[39m)\n\u001b[0;32m      2\u001b[0m \u001b[38;5;28mprint\u001b[39m(fs)\n",
      "File \u001b[1;32m~\\anaconda3\\Lib\\site-packages\\IPython\\core\\interactiveshell.py:324\u001b[0m, in \u001b[0;36m_modified_open\u001b[1;34m(file, *args, **kwargs)\u001b[0m\n\u001b[0;32m    317\u001b[0m \u001b[38;5;28;01mif\u001b[39;00m file \u001b[38;5;129;01min\u001b[39;00m {\u001b[38;5;241m0\u001b[39m, \u001b[38;5;241m1\u001b[39m, \u001b[38;5;241m2\u001b[39m}:\n\u001b[0;32m    318\u001b[0m     \u001b[38;5;28;01mraise\u001b[39;00m \u001b[38;5;167;01mValueError\u001b[39;00m(\n\u001b[0;32m    319\u001b[0m         \u001b[38;5;124mf\u001b[39m\u001b[38;5;124m\"\u001b[39m\u001b[38;5;124mIPython won\u001b[39m\u001b[38;5;124m'\u001b[39m\u001b[38;5;124mt let you open fd=\u001b[39m\u001b[38;5;132;01m{\u001b[39;00mfile\u001b[38;5;132;01m}\u001b[39;00m\u001b[38;5;124m by default \u001b[39m\u001b[38;5;124m\"\u001b[39m\n\u001b[0;32m    320\u001b[0m         \u001b[38;5;124m\"\u001b[39m\u001b[38;5;124mas it is likely to crash IPython. If you know what you are doing, \u001b[39m\u001b[38;5;124m\"\u001b[39m\n\u001b[0;32m    321\u001b[0m         \u001b[38;5;124m\"\u001b[39m\u001b[38;5;124myou can use builtins\u001b[39m\u001b[38;5;124m'\u001b[39m\u001b[38;5;124m open.\u001b[39m\u001b[38;5;124m\"\u001b[39m\n\u001b[0;32m    322\u001b[0m     )\n\u001b[1;32m--> 324\u001b[0m \u001b[38;5;28;01mreturn\u001b[39;00m io_open(file, \u001b[38;5;241m*\u001b[39margs, \u001b[38;5;241m*\u001b[39m\u001b[38;5;241m*\u001b[39mkwargs)\n",
      "\u001b[1;31mFileNotFoundError\u001b[0m: [Errno 2] No such file or directory: 'hello.txt'"
     ]
    }
   ],
   "source": [
    "#File not found Error\n",
    "fs = open(\"hello.txt\",\"r\")\n",
    "print(fs)"
   ]
  },
  {
   "cell_type": "code",
   "execution_count": 11,
   "id": "dd202137-22a1-4a8b-8a10-b81e060146e5",
   "metadata": {},
   "outputs": [
    {
     "ename": "IndexError",
     "evalue": "list index out of range",
     "output_type": "error",
     "traceback": [
      "\u001b[1;31m---------------------------------------------------------------------------\u001b[0m",
      "\u001b[1;31mIndexError\u001b[0m                                Traceback (most recent call last)",
      "Cell \u001b[1;32mIn[11], line 2\u001b[0m\n\u001b[0;32m      1\u001b[0m ls \u001b[38;5;241m=\u001b[39m [\u001b[38;5;241m2\u001b[39m,\u001b[38;5;241m3\u001b[39m,\u001b[38;5;241m4\u001b[39m,\u001b[38;5;241m5\u001b[39m]\n\u001b[1;32m----> 2\u001b[0m ls[\u001b[38;5;241m12\u001b[39m]\n",
      "\u001b[1;31mIndexError\u001b[0m: list index out of range"
     ]
    }
   ],
   "source": [
    "#Index Error\n",
    "\n",
    "ls = [2,3,4,5]\n",
    "ls[12]"
   ]
  },
  {
   "cell_type": "code",
   "execution_count": 13,
   "id": "0643cdd6-15e9-4459-a773-b69a99d97cbc",
   "metadata": {},
   "outputs": [],
   "source": [
    "#Types of Errors : \n",
    "#ZeroDivisionError :occur when attempting to divided by zero\n",
    "#FileNot FoiundError : Occur wher tryi9ng to open a file that doies not exist.\n",
    "#IndentationError : occur when indentation not done properly\n",
    "#ValueError: Occur when trying to convert string into integer when the string does not represent a number.\n",
    "#SyntaxError : Occur when Python doen not understand the code\n",
    "#NameError : Raised when a locan or a global name is not found\n",
    "#TndexError: Occur when a substript is out of range.I\n",
    "#TypeError : Happens when an operation or function is applied to an object of inapripriate type\n",
    "#I/OError : Happens when an input/output operatin fails ,like file not disk null"
   ]
  },
  {
   "cell_type": "code",
   "execution_count": 17,
   "id": "de9f4ba9-a123-438e-98a1-63921c7a9433",
   "metadata": {},
   "outputs": [
    {
     "ename": "SyntaxError",
     "evalue": "incomplete input (181467354.py, line 5)",
     "output_type": "error",
     "traceback": [
      "\u001b[1;36m  Cell \u001b[1;32mIn[17], line 5\u001b[1;36m\u001b[0m\n\u001b[1;33m    \u001b[0m\n\u001b[1;37m    ^\u001b[0m\n\u001b[1;31mSyntaxError\u001b[0m\u001b[1;31m:\u001b[0m incomplete input\n"
     ]
    }
   ],
   "source": [
    "try:\n",
    "    age = int(input(\"Enter your age\"))\n",
    "    result = 250 / age\n",
    "    print(f\"Result is : {result}\")\n",
    "\n"
   ]
  },
  {
   "cell_type": "code",
   "execution_count": 21,
   "id": "ae3b7070-c548-469a-94ef-0893b85a977c",
   "metadata": {},
   "outputs": [
    {
     "name": "stdin",
     "output_type": "stream",
     "text": [
      "Enter your age 0\n"
     ]
    },
    {
     "name": "stdout",
     "output_type": "stream",
     "text": [
      "Error Found\n"
     ]
    }
   ],
   "source": [
    "try:\n",
    "    age = int(input(\"Enter your age\"))\n",
    "    result = 250 / age\n",
    "    print(f\"Result is : {result}\")\n",
    "except(ZeroDivisionError, ValueError):\n",
    "    print(\"Error Found\")\n",
    "\n"
   ]
  },
  {
   "cell_type": "code",
   "execution_count": 23,
   "id": "079c8b05-c1aa-4623-a846-02997ace8c32",
   "metadata": {},
   "outputs": [
    {
     "name": "stdin",
     "output_type": "stream",
     "text": [
      "Enter your age 0\n"
     ]
    },
    {
     "name": "stdout",
     "output_type": "stream",
     "text": [
      "Error Found\n",
      "Your name is Dimple\n"
     ]
    }
   ],
   "source": [
    "try:\n",
    "    age = int(input(\"Enter your age\"))\n",
    "    result = 250 / age\n",
    "    print(f\"Result is : {result}\")\n",
    "except(ZeroDivisionError, ValueError):\n",
    "    print(\"Error Found\")\n",
    "name = \"Dimple\"\n",
    "print(f\"Your name is {name}\")"
   ]
  },
  {
   "cell_type": "code",
   "execution_count": 25,
   "id": "cf916bf5-45a1-4235-b97e-259611c9b58c",
   "metadata": {},
   "outputs": [
    {
     "ename": "FileNotFoundError",
     "evalue": "[Errno 2] No such file or directory: 'hello.txt'",
     "output_type": "error",
     "traceback": [
      "\u001b[1;31m---------------------------------------------------------------------------\u001b[0m",
      "\u001b[1;31mFileNotFoundError\u001b[0m                         Traceback (most recent call last)",
      "Cell \u001b[1;32mIn[25], line 1\u001b[0m\n\u001b[1;32m----> 1\u001b[0m fs \u001b[38;5;241m=\u001b[39m \u001b[38;5;28mopen\u001b[39m(\u001b[38;5;124m\"\u001b[39m\u001b[38;5;124mhello.txt\u001b[39m\u001b[38;5;124m\"\u001b[39m,\u001b[38;5;124m\"\u001b[39m\u001b[38;5;124mr\u001b[39m\u001b[38;5;124m\"\u001b[39m)\n\u001b[0;32m      3\u001b[0m \u001b[38;5;28mprint\u001b[39m(fs\u001b[38;5;241m.\u001b[39mread())\n\u001b[0;32m      5\u001b[0m age \u001b[38;5;241m=\u001b[39m \u001b[38;5;28mint\u001b[39m(\u001b[38;5;28minput\u001b[39m(\u001b[38;5;124m\"\u001b[39m\u001b[38;5;124mEnter your age : \u001b[39m\u001b[38;5;124m\"\u001b[39m))\n",
      "File \u001b[1;32m~\\anaconda3\\Lib\\site-packages\\IPython\\core\\interactiveshell.py:324\u001b[0m, in \u001b[0;36m_modified_open\u001b[1;34m(file, *args, **kwargs)\u001b[0m\n\u001b[0;32m    317\u001b[0m \u001b[38;5;28;01mif\u001b[39;00m file \u001b[38;5;129;01min\u001b[39;00m {\u001b[38;5;241m0\u001b[39m, \u001b[38;5;241m1\u001b[39m, \u001b[38;5;241m2\u001b[39m}:\n\u001b[0;32m    318\u001b[0m     \u001b[38;5;28;01mraise\u001b[39;00m \u001b[38;5;167;01mValueError\u001b[39;00m(\n\u001b[0;32m    319\u001b[0m         \u001b[38;5;124mf\u001b[39m\u001b[38;5;124m\"\u001b[39m\u001b[38;5;124mIPython won\u001b[39m\u001b[38;5;124m'\u001b[39m\u001b[38;5;124mt let you open fd=\u001b[39m\u001b[38;5;132;01m{\u001b[39;00mfile\u001b[38;5;132;01m}\u001b[39;00m\u001b[38;5;124m by default \u001b[39m\u001b[38;5;124m\"\u001b[39m\n\u001b[0;32m    320\u001b[0m         \u001b[38;5;124m\"\u001b[39m\u001b[38;5;124mas it is likely to crash IPython. If you know what you are doing, \u001b[39m\u001b[38;5;124m\"\u001b[39m\n\u001b[0;32m    321\u001b[0m         \u001b[38;5;124m\"\u001b[39m\u001b[38;5;124myou can use builtins\u001b[39m\u001b[38;5;124m'\u001b[39m\u001b[38;5;124m open.\u001b[39m\u001b[38;5;124m\"\u001b[39m\n\u001b[0;32m    322\u001b[0m     )\n\u001b[1;32m--> 324\u001b[0m \u001b[38;5;28;01mreturn\u001b[39;00m io_open(file, \u001b[38;5;241m*\u001b[39margs, \u001b[38;5;241m*\u001b[39m\u001b[38;5;241m*\u001b[39mkwargs)\n",
      "\u001b[1;31mFileNotFoundError\u001b[0m: [Errno 2] No such file or directory: 'hello.txt'"
     ]
    }
   ],
   "source": [
    "fs = open(\"hello.txt\",\"r\")\n",
    "\n",
    "print(fs.read())\n",
    "\n",
    "age = int(input(\"Enter your age : \"))\n",
    "\n",
    "print(f\"Your age is : {age} years\")"
   ]
  },
  {
   "cell_type": "code",
   "execution_count": 29,
   "id": "369d5491-a9da-4668-a10c-b4b13d60913c",
   "metadata": {},
   "outputs": [
    {
     "name": "stdout",
     "output_type": "stream",
     "text": [
      "404 File not found\n"
     ]
    },
    {
     "name": "stdin",
     "output_type": "stream",
     "text": [
      "Enter your Age :  25\n"
     ]
    },
    {
     "name": "stdout",
     "output_type": "stream",
     "text": [
      "Your Age is : 25\n"
     ]
    }
   ],
   "source": [
    "#file Handling :\n",
    "#file : operation :\n",
    "#read\n",
    "#write\n",
    "#append\n",
    "\n",
    "#r : read only mode\n",
    "#w : Write only mode\n",
    "#a : Appand only mode\n",
    "\n",
    "try:\n",
    "    fs = open(\"hello.txt\", \"r\")\n",
    "\n",
    "    print(fs.read())\n",
    "\n",
    "except(FileNotFoundError):\n",
    "    print(\"404 File not found\")\n",
    "\n",
    "age = int(input(\"Enter your Age : \"))\n",
    "\n",
    "print(f\"Your Age is : {age}\")"
   ]
  },
  {
   "cell_type": "code",
   "execution_count": 1,
   "id": "4bce2a72-ba7f-44d8-af84-67b7266f7c15",
   "metadata": {},
   "outputs": [
    {
     "name": "stdin",
     "output_type": "stream",
     "text": [
      "Enter your Age :  35\n"
     ]
    },
    {
     "name": "stdout",
     "output_type": "stream",
     "text": [
      "Your Age is : 35\n"
     ]
    }
   ],
   "source": [
    "try:\n",
    "    fs = open(\"hello.txt\", \"w\")\n",
    "    text = \"welcome to python programming !!!\"\n",
    "    fs.write(text)\n",
    "\n",
    "except(FileNotFoundError):\n",
    "    print(\"404 File not found\")\n",
    "\n",
    "age = int(input(\"Enter your Age : \"))\n",
    "\n",
    "print(f\"Your Age is : {age}\")"
   ]
  },
  {
   "cell_type": "code",
   "execution_count": 5,
   "id": "2cda4d22-3ea1-48d4-92ef-9ab590f8460d",
   "metadata": {},
   "outputs": [],
   "source": [
    "#File Handling\n",
    "\n",
    "#r+ : read and write both :file will not create if not exist\n",
    "#w+ : write and read both :file will create if file does not exists or if file exist it will replace with new file\n",
    "#a+ : appand read both "
   ]
  },
  {
   "cell_type": "code",
   "execution_count": 7,
   "id": "8098a7e4-1ffc-4a11-a5ba-c763836ce92b",
   "metadata": {},
   "outputs": [
    {
     "name": "stdout",
     "output_type": "stream",
     "text": [
      "Error : [Errno 2] No such file or directory: 'data.txt'\n"
     ]
    }
   ],
   "source": [
    "try:\n",
    "    file = open(\"data.txt\", \"r\")\n",
    "    content = file.read()\n",
    "    print(content)\n",
    "\n",
    "except FileNotFoundError as e:\n",
    "    print(f\"Error : {e}\")\n",
    "    "
   ]
  },
  {
   "cell_type": "code",
   "execution_count": 9,
   "id": "41e23eab-ed71-4f8f-ba8e-f14765b6a1a8",
   "metadata": {},
   "outputs": [],
   "source": [
    "try:\n",
    "    with open(\"data.txt\", \"x\")as fs:\n",
    "        fs.write(\"This is new content\")\n",
    "        \n",
    "except FileNotFoundError as e:\n",
    "    print(f\"Error : {e}\")\n",
    "    "
   ]
  },
  {
   "cell_type": "code",
   "execution_count": 13,
   "id": "02753ae9-6418-4f18-9d09-547031e09255",
   "metadata": {},
   "outputs": [
    {
     "ename": "FileExistsError",
     "evalue": "[Errno 17] File exists: 'data.txt'",
     "output_type": "error",
     "traceback": [
      "\u001b[1;31m---------------------------------------------------------------------------\u001b[0m",
      "\u001b[1;31mFileExistsError\u001b[0m                           Traceback (most recent call last)",
      "Cell \u001b[1;32mIn[13], line 2\u001b[0m\n\u001b[0;32m      1\u001b[0m \u001b[38;5;28;01mtry\u001b[39;00m:\n\u001b[1;32m----> 2\u001b[0m     \u001b[38;5;28;01mwith\u001b[39;00m \u001b[38;5;28mopen\u001b[39m(\u001b[38;5;124m\"\u001b[39m\u001b[38;5;124mdata.txt\u001b[39m\u001b[38;5;124m\"\u001b[39m, \u001b[38;5;124m\"\u001b[39m\u001b[38;5;124mx+\u001b[39m\u001b[38;5;124m\"\u001b[39m) \u001b[38;5;28;01mas\u001b[39;00m fs:\n\u001b[0;32m      3\u001b[0m         fs\u001b[38;5;241m.\u001b[39mwrite(\u001b[38;5;124m\"\u001b[39m\u001b[38;5;124mthis is new files\u001b[39m\u001b[38;5;124m\"\u001b[39m)\n\u001b[0;32m      4\u001b[0m \u001b[38;5;28;01mexcept\u001b[39;00m \u001b[38;5;167;01mFileNotFoundError\u001b[39;00m \u001b[38;5;28;01mas\u001b[39;00m e:\n",
      "File \u001b[1;32m~\\anaconda3\\Lib\\site-packages\\IPython\\core\\interactiveshell.py:324\u001b[0m, in \u001b[0;36m_modified_open\u001b[1;34m(file, *args, **kwargs)\u001b[0m\n\u001b[0;32m    317\u001b[0m \u001b[38;5;28;01mif\u001b[39;00m file \u001b[38;5;129;01min\u001b[39;00m {\u001b[38;5;241m0\u001b[39m, \u001b[38;5;241m1\u001b[39m, \u001b[38;5;241m2\u001b[39m}:\n\u001b[0;32m    318\u001b[0m     \u001b[38;5;28;01mraise\u001b[39;00m \u001b[38;5;167;01mValueError\u001b[39;00m(\n\u001b[0;32m    319\u001b[0m         \u001b[38;5;124mf\u001b[39m\u001b[38;5;124m\"\u001b[39m\u001b[38;5;124mIPython won\u001b[39m\u001b[38;5;124m'\u001b[39m\u001b[38;5;124mt let you open fd=\u001b[39m\u001b[38;5;132;01m{\u001b[39;00mfile\u001b[38;5;132;01m}\u001b[39;00m\u001b[38;5;124m by default \u001b[39m\u001b[38;5;124m\"\u001b[39m\n\u001b[0;32m    320\u001b[0m         \u001b[38;5;124m\"\u001b[39m\u001b[38;5;124mas it is likely to crash IPython. If you know what you are doing, \u001b[39m\u001b[38;5;124m\"\u001b[39m\n\u001b[0;32m    321\u001b[0m         \u001b[38;5;124m\"\u001b[39m\u001b[38;5;124myou can use builtins\u001b[39m\u001b[38;5;124m'\u001b[39m\u001b[38;5;124m open.\u001b[39m\u001b[38;5;124m\"\u001b[39m\n\u001b[0;32m    322\u001b[0m     )\n\u001b[1;32m--> 324\u001b[0m \u001b[38;5;28;01mreturn\u001b[39;00m io_open(file, \u001b[38;5;241m*\u001b[39margs, \u001b[38;5;241m*\u001b[39m\u001b[38;5;241m*\u001b[39mkwargs)\n",
      "\u001b[1;31mFileExistsError\u001b[0m: [Errno 17] File exists: 'data.txt'"
     ]
    }
   ],
   "source": [
    "try:\n",
    "    with open(\"data.txt\", \"x+\") as fs:\n",
    "        fs.write(\"this is new files\")\n",
    "except FileNotFoundError as e:\n",
    "    print(f\"Error : {e}\")"
   ]
  },
  {
   "cell_type": "code",
   "execution_count": 19,
   "id": "d53c3a37-1690-4d49-b7bb-b4399a85aa65",
   "metadata": {},
   "outputs": [],
   "source": [
    "#if  file exists then check content is present or not\n",
    "#if present :print the content\n",
    "#else :throw the error"
   ]
  },
  {
   "cell_type": "code",
   "execution_count": 25,
   "id": "28475e0c-9092-4df3-847a-be8e047b39bd",
   "metadata": {},
   "outputs": [
    {
     "name": "stdout",
     "output_type": "stream",
     "text": [
      "content existx\n",
      "welcome to python programming !!!\n"
     ]
    }
   ],
   "source": [
    "filename = \"hello.txt\"\n",
    "\n",
    "if filename:\n",
    "    content = open(\"hello.txt\",\"r\").read()\n",
    "    if content:\n",
    "        print(\"content existx\")\n",
    "        print(content)\n",
    "    else:\n",
    "        print(\"File is Empty\")\n",
    "else:\n",
    "    print(\"Filename  is Invalid\")"
   ]
  },
  {
   "cell_type": "code",
   "execution_count": 31,
   "id": "7f1d4bf8-4181-495f-88cc-7c590ca6b391",
   "metadata": {},
   "outputs": [
    {
     "name": "stdout",
     "output_type": "stream",
     "text": [
      "content existx\n",
      "welcome to python programming !!!\n"
     ]
    }
   ],
   "source": [
    "filename = \"hello.txt\"\n",
    "try:\n",
    "    if filename:\n",
    "        content = open(\"hello.txt\",\"r\").read()\n",
    "        if content:\n",
    "            print(\"content existx\")\n",
    "            print(content)\n",
    "        else:\n",
    "            print(\"File is Empty\")\n",
    "    else:\n",
    "        print(\"Filename  is Invalid\")\n",
    "except Exception as e:\n",
    "    print(f\"Error found {e}\")"
   ]
  },
  {
   "cell_type": "code",
   "execution_count": null,
   "id": "63fbba7f-6c94-4341-92b7-b4119878bb42",
   "metadata": {},
   "outputs": [],
   "source": []
  }
 ],
 "metadata": {
  "kernelspec": {
   "display_name": "Python [conda env:base] *",
   "language": "python",
   "name": "conda-base-py"
  },
  "language_info": {
   "codemirror_mode": {
    "name": "ipython",
    "version": 3
   },
   "file_extension": ".py",
   "mimetype": "text/x-python",
   "name": "python",
   "nbconvert_exporter": "python",
   "pygments_lexer": "ipython3",
   "version": "3.12.7"
  }
 },
 "nbformat": 4,
 "nbformat_minor": 5
}
