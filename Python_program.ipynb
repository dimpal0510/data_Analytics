{
 "cells": [
  {
   "cell_type": "markdown",
   "id": "fec4bcb3-6e08-4668-8ad0-1c0dee60ac9f",
   "metadata": {},
   "source": [
    "# Write a Python program to check if a number is positive, negative or zero \n"
   ]
  },
  {
   "cell_type": "code",
   "execution_count": 14,
   "id": "60eb857e-2eee-40e5-a8c3-24e86aa852b7",
   "metadata": {},
   "outputs": [
    {
     "name": "stdin",
     "output_type": "stream",
     "text": [
      "Enter the Number 0\n"
     ]
    },
    {
     "name": "stdout",
     "output_type": "stream",
     "text": [
      "zero\n"
     ]
    }
   ],
   "source": [
    "num = float(input(\"Enter the Number\"))\n",
    "if num == 0:\n",
    "    print(\"zero\")\n",
    "elif num > 0:\n",
    "    print(\"The number is Positive\")\n",
    "else:\n",
    "    print(\"the number is nagetive\")"
   ]
  },
  {
   "cell_type": "code",
   "execution_count": null,
   "id": "86c6993d-0a96-48b9-97ab-f9b7208ba8f0",
   "metadata": {},
   "outputs": [],
   "source": [
    "#Write a Python program to get the Factorial number of given numbers"
   ]
  },
  {
   "cell_type": "code",
   "execution_count": 19,
   "id": "15d9f627-5c2a-496c-a77b-8ebf74350048",
   "metadata": {},
   "outputs": [
    {
     "name": "stdin",
     "output_type": "stream",
     "text": [
      "Enter the number 5\n"
     ]
    },
    {
     "name": "stdout",
     "output_type": "stream",
     "text": [
      "The factorial of 5 is 120\n"
     ]
    }
   ],
   "source": [
    "num = int(input(\"Enter the number\"))\n",
    "\n",
    "fact = 1\n",
    "\n",
    "for i in range(1, num +1):\n",
    "    fact *= i\n",
    "\n",
    "print(f\"The factorial of {num} is {fact}\")\n",
    "    "
   ]
  },
  {
   "cell_type": "code",
   "execution_count": 21,
   "id": "ac32eef7-4bcf-48df-b6dd-ff2d95b7b777",
   "metadata": {},
   "outputs": [],
   "source": [
    "#Write a Python program to get the Fibonacci series of given range. "
   ]
  },
  {
   "cell_type": "code",
   "execution_count": 29,
   "id": "7dd43890-b881-4c0e-8e5a-182e1d37ba17",
   "metadata": {},
   "outputs": [
    {
     "name": "stdout",
     "output_type": "stream",
     "text": [
      "55\n"
     ]
    }
   ],
   "source": [
    "def Fibo(n):\n",
    "\n",
    "    # Check if input is 0 then it will print incorrect input\n",
    "    if n < 0:\n",
    "        print(\"Incorrect input\")\n",
    "\n",
    "    elif n == 0:\n",
    "        return 0\n",
    "\n",
    "    elif n == 1 or n == 2:\n",
    "        return 1\n",
    "\n",
    "    else:\n",
    "        return Fibo(n-1) + Fibo(n-2)\n",
    "\n",
    "print(Fibo(10))"
   ]
  },
  {
   "cell_type": "code",
   "execution_count": 1,
   "id": "102e086a-ee32-44a2-b05b-09ad08c7053e",
   "metadata": {},
   "outputs": [],
   "source": [
    "#Write python program that swap two number with temp variable and without temp variable. "
   ]
  },
  {
   "cell_type": "code",
   "execution_count": 16,
   "id": "3c1ca47a-23a1-4b07-8f12-c62a15f1c01b",
   "metadata": {},
   "outputs": [
    {
     "name": "stdout",
     "output_type": "stream",
     "text": [
      "A : 20\n",
      "B : 10\n",
      "x : 40\n",
      "y : 40\n"
     ]
    }
   ],
   "source": [
    "# Without temp variable:\n",
    "a = 10\n",
    "b = 20\n",
    "a,b = b,a\n",
    "print(f\"A : {a}\")\n",
    "print(f\"B : {b}\")\n",
    "\n",
    "#with temp variable:\n",
    "\n",
    "x = 30\n",
    "y = 40\n",
    "temp = x\n",
    "x = y\n",
    "b = temp\n",
    "print(f\"x : {x}\")\n",
    "print(f\"y : {y}\")"
   ]
  },
  {
   "cell_type": "code",
   "execution_count": 24,
   "id": "a455370e-1fdf-4c23-baa0-fe1b65f06c3c",
   "metadata": {},
   "outputs": [
    {
     "name": "stdin",
     "output_type": "stream",
     "text": [
      "Enter the number 5\n"
     ]
    },
    {
     "name": "stdout",
     "output_type": "stream",
     "text": [
      "The given number is odd\n"
     ]
    }
   ],
   "source": [
    "#Write a Python program to find whether a given number is even or odd, print out an appropriate message to the user.\n",
    "\n",
    "a = int(input(\"Enter the number\"))\n",
    "if a %2 ==0:\n",
    "    print(\"The given number is even\")\n",
    "elif a %2 !=0:\n",
    "    print(\"The given number is odd\")\n",
    "\n",
    "else:\n",
    "    (\"the given number is zero\")\n",
    "\n"
   ]
  },
  {
   "cell_type": "code",
   "execution_count": 55,
   "id": "bc01d4d9-1ed1-4a0f-a191-48213e8c2a0d",
   "metadata": {},
   "outputs": [
    {
     "name": "stdin",
     "output_type": "stream",
     "text": [
      "Enter the Letter : k\n"
     ]
    },
    {
     "name": "stdout",
     "output_type": "stream",
     "text": [
      "The given letter is consonent\n",
      "Consonant\n",
      "Vowel\n"
     ]
    }
   ],
   "source": [
    "# Write a Python program to test whether a passed letter is a vowel or not.\n",
    "\n",
    "x = str(input(\"Enter the Letter :\"))\n",
    "\n",
    "if (x == \"a\" or x == \"e\" or x == \"i\" or x == \"o\" or x == \"u\"):\n",
    "    print(\"the given letter is vowel\")\n",
    "else:\n",
    "    print(\"The given letter is consonent\")\n",
    "\n",
    "#using def function\n",
    "def vowOrCons(x): \n",
    "  \n",
    "    if (x == 'a' or x == 'e' or\n",
    "        x == 'i' or x == 'o' or x == 'u'): \n",
    "        print(\"Vowel\") \n",
    "    else: \n",
    "        print(\"Consonant\") \n",
    "  \n",
    "# Driver code \n",
    "vowOrCons('c') \n",
    "vowOrCons('e') \n"
   ]
  },
  {
   "cell_type": "code",
   "execution_count": null,
   "id": "c3561ebd-4b19-479a-97f0-8af348afaf6d",
   "metadata": {},
   "outputs": [],
   "source": [
    "#  Write a Python program to sum of three given integers. However, if two values are equal sum will be zero. "
   ]
  },
  {
   "cell_type": "code",
   "execution_count": 77,
   "id": "29724ced-2b82-4261-b2ba-e6304ff8051a",
   "metadata": {},
   "outputs": [
    {
     "name": "stdin",
     "output_type": "stream",
     "text": [
      "Enter the first number :  5\n",
      "Enter the second number :  5\n",
      "Enter the third number :  5\n"
     ]
    },
    {
     "name": "stdout",
     "output_type": "stream",
     "text": [
      "The sum is Zero\n"
     ]
    }
   ],
   "source": [
    "a = int(input(\"Enter the first number : \"))\n",
    "b = int(input(\"Enter the second number : \"))\n",
    "c = int(input(\"Enter the third number : \"))\n",
    "\n",
    "if a == b or b == c or c == a:\n",
    "    print(\"The sum is Zero\")\n",
    "else:\n",
    "    sum = a+b+c\n",
    "    print(sum)"
   ]
  },
  {
   "cell_type": "code",
   "execution_count": 87,
   "id": "036b8b7a-0200-4b36-bea6-044b0a19ca26",
   "metadata": {},
   "outputs": [
    {
     "name": "stdout",
     "output_type": "stream",
     "text": [
      "True\n",
      "True\n",
      "True\n",
      "False\n",
      "False\n"
     ]
    }
   ],
   "source": [
    "# Write a Python program that will return true if the two given integer values are equal or their sum or difference is 5. \n",
    "def testNumb(x, y):\n",
    "    if x == y or abs(x-y) == 5 or (x+y) == 5:\n",
    "        return True\n",
    "    else:\n",
    "        return False\n",
    "\n",
    "print(testNumb(7,2))\n",
    "print(testNumb(3,2))\n",
    "print(testNumb(2,2))\n",
    "print(testNumb(7,3))\n",
    "print(testNumb(10,12))"
   ]
  },
  {
   "cell_type": "code",
   "execution_count": 109,
   "id": "8e97849b-b280-495d-8c98-e0cb1047015e",
   "metadata": {},
   "outputs": [
    {
     "name": "stdout",
     "output_type": "stream",
     "text": [
      "The sum of First N positive integer =15\n"
     ]
    }
   ],
   "source": [
    "#Write a python program to sum of the first n positive integers.\n",
    "\n",
    "sum = 0\n",
    "for i in range(1,6):\n",
    "    sum += i\n",
    "#print(i,end = \" \")\n",
    "print(f\"The sum of First N positive integer ={sum}\")\n"
   ]
  },
  {
   "cell_type": "code",
   "execution_count": 111,
   "id": "16d3ab90-2b85-4aae-bf1f-2ed08cbd05ea",
   "metadata": {},
   "outputs": [
    {
     "name": "stdout",
     "output_type": "stream",
     "text": [
      "6\n"
     ]
    }
   ],
   "source": [
    "# Write a Python program to calculate the length of a string. \n",
    "\n",
    "a = \"dimple\"\n",
    "print(len(a))"
   ]
  },
  {
   "cell_type": "code",
   "execution_count": 115,
   "id": "ae831dd1-4158-4be0-ab3d-f7516580e7f7",
   "metadata": {},
   "outputs": [
    {
     "name": "stdout",
     "output_type": "stream",
     "text": [
      "{'D': 1, 'i': 1, 'm': 1, 'p': 1, 'l': 2, 'e': 2, ' ': 1, 'P': 1, 'a': 1, 't': 1}\n"
     ]
    }
   ],
   "source": [
    "#Write a Python program to count the number of characters (character frequency) in a string \n",
    "name = \"Dimple Patel\"\n",
    "freq = {}\n",
    "\n",
    "for c in name:\n",
    "    if c in freq:\n",
    "        freq[c] += 1\n",
    "    else:\n",
    "        freq[c] = 1\n",
    "\n",
    "print(freq)"
   ]
  },
  {
   "cell_type": "code",
   "execution_count": 121,
   "id": "ac7f1847-f28e-4e2a-a861-6935d824710e",
   "metadata": {},
   "outputs": [
    {
     "name": "stdout",
     "output_type": "stream",
     "text": [
      "5\n"
     ]
    }
   ],
   "source": [
    "# Write a Python program to count occurrences of a substring in a string.\n",
    "\n",
    "s = \"hello hello hello hello hello\"\n",
    "sub = \"hello\"\n",
    "c = s.count(sub)\n",
    "print(c)"
   ]
  },
  {
   "cell_type": "code",
   "execution_count": 127,
   "id": "1eaabb2b-d413-41d3-9d7c-0a0a68acae32",
   "metadata": {},
   "outputs": [
    {
     "name": "stdout",
     "output_type": "stream",
     "text": [
      "{'My': 2, 'Name': 1, 'is': 2, 'Dimple': 1, 'Patel': 1, 'age': 1, '33': 1}\n"
     ]
    }
   ],
   "source": [
    "# Write a Python program to count the occurrences of each word in a given sentence.\n",
    "\n",
    "def word_count(str):\n",
    "    counts = dict()\n",
    "    \n",
    "    words = str.split()\n",
    "\n",
    "    for word in words:\n",
    "        if word in counts:\n",
    "            counts[word] += 1\n",
    "        else:\n",
    "            counts[word] = 1\n",
    "\n",
    "    return counts\n",
    "\n",
    "print( word_count('My Name is Dimple Patel My age is 33'))"
   ]
  },
  {
   "cell_type": "code",
   "execution_count": 131,
   "id": "a4c08968-e08a-4e6c-9072-6b2f896ee670",
   "metadata": {},
   "outputs": [
    {
     "name": "stdout",
     "output_type": "stream",
     "text": [
      "Pample Ditel\n"
     ]
    }
   ],
   "source": [
    "# Write a Python program to get a single string from two given strings,separated by a space and swap the first two characters of each string. \n",
    "def swapStr(a, b):\n",
    "    a1 = b[:2] + a[2:]\n",
    "    b1 = a[:2] + b[2:]\n",
    "    return a1 + ' '+ b1\n",
    "\n",
    "print(swapStr('Dimple', 'Patel'))"
   ]
  },
  {
   "cell_type": "code",
   "execution_count": 137,
   "id": "5e8aa787-f556-4dd0-8436-85c2059b28b5",
   "metadata": {},
   "outputs": [
    {
     "name": "stdout",
     "output_type": "stream",
     "text": [
      "ab\n",
      "abcing\n",
      "Stringly\n"
     ]
    }
   ],
   "source": [
    "# Write a Python program to add 'in' at the end of a given string (length should be at least 3). If the given string already ends with 'ing' then\n",
    "# add 'ly' instead if the string length of the given string is less than 3, leave it unchanged. \n",
    "def addStr(str1):\n",
    "    length = len(str1)\n",
    "    if length > 2:\n",
    "        if str1[-3:] == \"ing\":\n",
    "            str1 += \"ly\"\n",
    "        else:\n",
    "            str1 +=\"ing\"\n",
    "    return str1\n",
    "print(addStr('ab'))\n",
    "print(addStr(\"abc\"))\n",
    "print(addStr(\"String\"))\n",
    "        "
   ]
  },
  {
   "cell_type": "code",
   "execution_count": 151,
   "id": "02d24a9c-c326-49fa-86ec-d525e9c4620f",
   "metadata": {},
   "outputs": [
    {
     "name": "stdout",
     "output_type": "stream",
     "text": [
      "d c b a\n",
      "s r q p\n"
     ]
    }
   ],
   "source": [
    "# Write a Python function to reverses a string if its length is a multiple of 4. \n",
    "def revString(str1):\n",
    "    if len(str1)%4 == 0:\n",
    "        return ' '.join(reversed(str1))\n",
    "    return str1\n",
    "\n",
    "print(revString(\"abcd\"))\n",
    "print(revString(\"pqrs\"))\n",
    "      "
   ]
  },
  {
   "cell_type": "code",
   "execution_count": 157,
   "id": "1aa3ee90-5df7-47c1-b0bd-557ce6fd9c50",
   "metadata": {},
   "outputs": [
    {
     "name": "stdout",
     "output_type": "stream",
     "text": [
      "Pyam\n",
      "\n",
      "pypy\n"
     ]
    }
   ],
   "source": [
    "# Write a Python program to get a string made of the first 2 and the last 2 chars from a given a string. If the string length is less than 2, return\n",
    "# instead of the empty string. \n",
    "def stringEnds(str):\n",
    "    if len(str) < 2:\n",
    "        return ' '\n",
    "\n",
    "    return str[0:2] + str[-2:]\n",
    "\n",
    "print(stringEnds('Python Program'))  \n",
    "print(stringEnds('P'))          \n",
    "print(stringEnds('py'))           "
   ]
  },
  {
   "cell_type": "code",
   "execution_count": 163,
   "id": "b27d50ba-17de-4ab4-b28f-2b6f1bf06d51",
   "metadata": {},
   "outputs": [
    {
     "name": "stdout",
     "output_type": "stream",
     "text": [
      "Hello, Dimple Patel\n"
     ]
    }
   ],
   "source": [
    "# Write a Python function to insert a string in the middle of a string. \n",
    "\n",
    "str1 = \"Hello, \"\n",
    "str2 = \"Patel\"\n",
    "insertstr = \"Dimple\"\n",
    "new_string = f\"{str1}{insertstr} {str2}\"\n",
    "print(new_string)"
   ]
  },
  {
   "cell_type": "code",
   "execution_count": 3,
   "id": "ad056765-5464-4026-a35e-3bfd9245b2b4",
   "metadata": {},
   "outputs": [
    {
     "name": "stdout",
     "output_type": "stream",
     "text": [
      "25\n"
     ]
    }
   ],
   "source": [
    "# Suppose list1 is [2, 33, 222, 14, and 25], what is list1 [-1]? \n",
    "ls = [2,33,222,14,25]\n",
    "ls1 = ls[-1]\n",
    "print(ls1)\n"
   ]
  },
  {
   "cell_type": "code",
   "execution_count": 13,
   "id": "e58a36f9-3558-4812-b233-718c9a68e473",
   "metadata": {},
   "outputs": [
    {
     "name": "stdin",
     "output_type": "stream",
     "text": [
      "Enter Numbers:  45\n",
      "Enter Numbers:  55\n",
      "Enter Numbers:  54\n",
      "Enter Numbers:  47\n",
      "Enter Numbers:  48\n",
      "Enter Numbers:  49\n"
     ]
    },
    {
     "name": "stdout",
     "output_type": "stream",
     "text": [
      "largest number is :  55\n",
      "Smallest Number is :  45\n"
     ]
    },
    {
     "data": {
      "text/plain": [
       "298"
      ]
     },
     "execution_count": 13,
     "metadata": {},
     "output_type": "execute_result"
    }
   ],
   "source": [
    "# Write a Python function to get the largest number, smallest num and sum of all from a list. \n",
    "\n",
    "ls = []\n",
    "for i in range(6):\n",
    "    num1 = int(input(\"Enter Numbers: \"))\n",
    "    ls.append(num1)\n",
    "\n",
    "print(\"largest number is : \" , max(ls))\n",
    "print(\"Smallest Number is : \", min(ls))\n",
    "sum(ls)"
   ]
  },
  {
   "cell_type": "code",
   "execution_count": 27,
   "id": "82fc7716-7910-430c-b1e7-45a732566df5",
   "metadata": {},
   "outputs": [
    {
     "name": "stdout",
     "output_type": "stream",
     "text": [
      "[('A', 2), ('A', 4), ('A', 6), ('A', 8), ('A', 10), ('B', 2), ('B', 4), ('B', 6), ('B', 8), ('B', 10), ('C', 2), ('C', 4), ('C', 6), ('C', 8), ('C', 10), ('D', 2), ('D', 4), ('D', 6), ('D', 8), ('D', 10), ('E', 2), ('E', 4), ('E', 6), ('E', 8), ('E', 10)]\n"
     ]
    }
   ],
   "source": [
    "# How will you compare two lists?\n",
    "\n",
    "ls = [\"A\",\"B\",\"C\",\"D\",\"E\"]\n",
    "ls1 = [2,4,6,8,10]\n",
    "result =[(x,y) for x in ls for y in ls1]\n",
    "print(result)"
   ]
  },
  {
   "cell_type": "code",
   "execution_count": 67,
   "id": "8005cf8b-5823-42b0-8c1e-d5cdcc4d649a",
   "metadata": {},
   "outputs": [
    {
     "name": "stdout",
     "output_type": "stream",
     "text": [
      "3\n"
     ]
    }
   ],
   "source": [
    "#Write a Python program to count the number of strings where the string length is 2 or more and the first and\n",
    "#last character are same from a given list of strings. \n",
    "\n",
    "def compare(a):\n",
    "    ctr = 0\n",
    "    for i in a:\n",
    "        if len(i) > 2 and i[0] == i[-1]:\n",
    "            ctr += 1\n",
    "    return ctr\n",
    "\n",
    "a = [\"abc\", \"xyz\", \"aba\", \"pqrs\", \"aaa\", \"asdasdsada\"]\n",
    "for i in a:\n",
    "    a1 = compare(a)\n",
    "\n",
    "print(a1)\n",
    "\n"
   ]
  },
  {
   "cell_type": "code",
   "execution_count": 71,
   "id": "5022df83-ba2c-4fae-bb36-5d161ebbf57e",
   "metadata": {},
   "outputs": [
    {
     "name": "stdout",
     "output_type": "stream",
     "text": [
      "[2, 3, 4, 5, 6, 7, 8, 9]\n"
     ]
    }
   ],
   "source": [
    "# Write a Python program to remove duplicates from a list\n",
    "\n",
    "ls = [2,3,3,4,5,6,7,7,8,9,9]\n",
    "res = list(set(ls))\n",
    "print(res)"
   ]
  },
  {
   "cell_type": "code",
   "execution_count": 79,
   "id": "d8fccdd4-77a8-49c8-bab6-86cee29c59dc",
   "metadata": {},
   "outputs": [
    {
     "name": "stdout",
     "output_type": "stream",
     "text": [
      "The list is empty\n"
     ]
    }
   ],
   "source": [
    "# Write a Python program to check a list is empty or not. \n",
    "\n",
    "ls = [ ]\n",
    "if not ls:\n",
    "    print(\"The list is empty\")\n",
    "else:\n",
    "    print(\"The list is not empty\")"
   ]
  },
  {
   "cell_type": "code",
   "execution_count": 113,
   "id": "2353a621-3532-473f-be0b-d327b8cb8297",
   "metadata": {},
   "outputs": [
    {
     "name": "stdout",
     "output_type": "stream",
     "text": [
      "True\n"
     ]
    }
   ],
   "source": [
    "# Write a Python function that takes two lists and returns true if they have at least one common member.\n",
    "def commonMember(ls, ls1):\n",
    "    res = False\n",
    "    for x in ls:\n",
    "        for y in ls1:\n",
    "            if x == y:\n",
    "                res = True\n",
    "                return res\n",
    "\n",
    "print(commonMember([1, 2, 3, 4, 5], [5, 6, 7, 8, 9]))"
   ]
  },
  {
   "cell_type": "code",
   "execution_count": 128,
   "id": "71df8332-6872-475d-9822-bbd47c5bd878",
   "metadata": {},
   "outputs": [
    {
     "name": "stdout",
     "output_type": "stream",
     "text": [
      "[1, 4, 9, 16, 25]\n",
      "[676, 729, 784, 841, 900]\n"
     ]
    }
   ],
   "source": [
    "#  Write a Python program to generate and print a list of first and last 5 elements where the values are square of \n",
    "# numbers between 1 and 30. \n",
    "\n",
    "def printList():\n",
    "    ls = [ ] \n",
    "    for i in range(1,31):\n",
    "        ls.append(i**2)\n",
    "    print(ls[:5])\n",
    "    print(ls[-5:])\n",
    "\n",
    "printList()"
   ]
  },
  {
   "cell_type": "code",
   "execution_count": 182,
   "id": "bbbc71b4-b1f9-4e80-8ca3-cd1bb154548b",
   "metadata": {},
   "outputs": [
    {
     "name": "stdout",
     "output_type": "stream",
     "text": [
      "[2, 3, 4, 5, 6]\n"
     ]
    }
   ],
   "source": [
    "# Write a Python function that takes a list and returns a new list with unique elements of the first list. \n",
    "\n",
    "def uniqueList(ls):\n",
    "    ls1 = [ ] \n",
    "    for i in ls:\n",
    "        if i not in ls1:\n",
    "            ls1.append(i)\n",
    "    return ls1\n",
    "\n",
    "print(uniqueList([2,3,3,4,4,4,4,4,5,6]))\n",
    "  "
   ]
  },
  {
   "cell_type": "code",
   "execution_count": 186,
   "id": "bdac153f-0aba-4b8f-8633-3961871334ea",
   "metadata": {},
   "outputs": [
    {
     "name": "stdout",
     "output_type": "stream",
     "text": [
      "DIMPLE\n"
     ]
    }
   ],
   "source": [
    "# Write a Python program to convert a list of characters into a string\n",
    "\n",
    "name = [\"D\",\"I\",\"M\",\"P\",\"L\",\"E\"]\n",
    "res = ''.join(name)\n",
    "print(res)"
   ]
  },
  {
   "cell_type": "code",
   "execution_count": 243,
   "id": "943042cf-ccb2-478d-9264-71d083343881",
   "metadata": {},
   "outputs": [
    {
     "name": "stdout",
     "output_type": "stream",
     "text": [
      "4\n",
      "dimple\n"
     ]
    }
   ],
   "source": [
    "# Write a Python program to select an item randomly from a list. \n",
    "import random\n",
    "ls = [2,3,4,5,6,7,8,9]\n",
    "ls1 = [\"dimple\", \"sejal\", \"dhyanam\", \"AArohi\", \"ketan\"]\n",
    "res = random.choice(ls)\n",
    "res1 = random.choice(ls1)\n",
    "print(res)\n",
    "print(res1)\n"
   ]
  },
  {
   "cell_type": "code",
   "execution_count": 251,
   "id": "d54fb819-207d-489a-9881-11f52fc7ed19",
   "metadata": {},
   "outputs": [
    {
     "name": "stdin",
     "output_type": "stream",
     "text": [
      "Enter the Number:  7\n",
      "Enter the Number:  8\n",
      "Enter the Number:  5\n",
      "Enter the Number:  4\n",
      "Enter the Number:  6\n"
     ]
    },
    {
     "name": "stdout",
     "output_type": "stream",
     "text": [
      "The List is : [4, 5, 6, 7, 8]\n",
      "The second smallest value of this list:  5\n"
     ]
    }
   ],
   "source": [
    "# Write a Python program to find the second smallest number in a list. \n",
    "\n",
    "ls = [] \n",
    "\n",
    "for i in range(1, 6): \n",
    "    n = int(input(\"Enter the Number: \")) \n",
    "    ls.append(n) \n",
    "ls.sort() \n",
    "\n",
    "print(\"The List is :\",ls) \n",
    "print(\"The second smallest value of this list: \",ls[1])"
   ]
  },
  {
   "cell_type": "code",
   "execution_count": 253,
   "id": "f0c21e75-1ccf-487e-a44d-e10d0d59aee2",
   "metadata": {},
   "outputs": [
    {
     "name": "stdout",
     "output_type": "stream",
     "text": [
      "[2, 3, 4, 5, 6, 7, 8]\n"
     ]
    }
   ],
   "source": [
    "# Write a Python program to get unique values from a list.\n",
    "ls = [2,3,4,5,2,3,4,2,4,5,6,7,8,8]\n",
    "res = list(set(ls))\n",
    "print(res)"
   ]
  },
  {
   "cell_type": "code",
   "execution_count": 259,
   "id": "1a778be6-3a8e-49e0-93c0-7d371d5c76d5",
   "metadata": {},
   "outputs": [
    {
     "name": "stdout",
     "output_type": "stream",
     "text": [
      "True\n",
      "False\n"
     ]
    }
   ],
   "source": [
    "# Write a Python program to check whether a list contains a sub list.\n",
    "\n",
    "def subList(ls, sls):\n",
    "    s = False\n",
    "    if sls == []:\n",
    "        s = True\n",
    "    elif sls == ls:\n",
    "        s = True\n",
    "    elif len(sls) > len(ls):\n",
    "        s = False\n",
    "    else:\n",
    "        for i in range(len(ls)):\n",
    "            if ls[i] == sls[0]:\n",
    "                n = 1\n",
    "                while (n < len(sls)) and ls[i+n] == sls[n]:\n",
    "                    n  += 1\n",
    "                if n == len(sls):\n",
    "                    s = True\n",
    "    return s\n",
    "a = [2, 4, 3, 5, 7]\n",
    "b = [4, 3]\n",
    "c = [3, 7]\n",
    "print(subList(a,b))\n",
    "print(subList(a,c))"
   ]
  },
  {
   "cell_type": "code",
   "execution_count": 267,
   "id": "4b3ac79c-9fdd-4ee9-86f3-7f2868ae05c3",
   "metadata": {},
   "outputs": [
    {
     "name": "stdin",
     "output_type": "stream",
     "text": [
      "Enter the Numbers 4,5,6,7\n"
     ]
    },
    {
     "name": "stdout",
     "output_type": "stream",
     "text": [
      "['4', '5', '6', '7']\n"
     ]
    }
   ],
   "source": [
    "# Write a Python program to split a list into different variables.\n",
    "\n",
    "ls = input(\"Enter the Numbers\")\n",
    "ls = ls.split(',')\n",
    "print(list(ls))"
   ]
  },
  {
   "cell_type": "code",
   "execution_count": 271,
   "id": "f124432d-6670-4497-9a32-a9765e120fbf",
   "metadata": {},
   "outputs": [
    {
     "name": "stdout",
     "output_type": "stream",
     "text": [
      "<class 'tuple'>\n",
      "('Dimple', True, 32, 4.9)\n"
     ]
    }
   ],
   "source": [
    "# Write a Python program to create a tuple with different data types. \n",
    "\n",
    "tup = (\"Dimple\", True , 32, 4.9)\n",
    "print(type(tup))\n",
    "print(tup)"
   ]
  },
  {
   "cell_type": "code",
   "execution_count": 277,
   "id": "773f9b05-1e85-4eac-9833-7e8d1e3a7317",
   "metadata": {},
   "outputs": [
    {
     "name": "stdout",
     "output_type": "stream",
     "text": [
      "[(2, 4, 6), (3, 5, 7)]\n"
     ]
    }
   ],
   "source": [
    "# Write a Python program to unzip a list of tuples into individual lists.\n",
    "ls = [(2,3),(4,5),(6,7)]\n",
    "res = list(zip(*ls))\n",
    "print(res)"
   ]
  },
  {
   "cell_type": "code",
   "execution_count": 283,
   "id": "dd2b7840-3553-4aa8-ac64-888a2dbf35fe",
   "metadata": {},
   "outputs": [
    {
     "name": "stdout",
     "output_type": "stream",
     "text": [
      "{'name': ['Dimple', 'AArohi', 'Dhyanam'], 'age': [32, 10, 6], 'gender': ['f', 'f', 'm']}\n"
     ]
    }
   ],
   "source": [
    "# Write a Python program to convert a list of tuples into a dictionary. \n",
    "ls = [(\"name\", \"Dimple\"), (\"name\", \"AArohi\"), (\"name\", \"Dhyanam\"), (\"age\", 32), (\"age\", 10),(\"age\", 6), (\"gender\", \"f\"),(\"gender\",\"f\"),(\"gender\",\"m\")]\n",
    "dict1 = {}\n",
    "for x, y in ls :\n",
    "    dict1.setdefault(x, []).append(y)\n",
    "\n",
    "print(dict1)"
   ]
  },
  {
   "cell_type": "code",
   "execution_count": 3,
   "id": "575b3abb-8bf2-406e-b889-3feae689c33e",
   "metadata": {},
   "outputs": [
    {
     "name": "stdout",
     "output_type": "stream",
     "text": [
      "{'Name': 'Dimple', 'Age': 33}\n"
     ]
    }
   ],
   "source": [
    "# How will you create a dictionary using tuples in python? \n",
    "# to create Dictionary using tuple in python simply use curly braces ({}) and define each key-value pair where yhe key is tuple, \n",
    "# sepreted by colon (:), {(key, skey): value (key1, skey1): value2}\n",
    "\n",
    "tup = ((\"Dimple\", \"Name\"), (33, \"Age\"))\n",
    "\n",
    "res = dict((y, x) for x, y in tup)\n",
    "\n",
    "print(res) "
   ]
  },
  {
   "cell_type": "code",
   "execution_count": 6,
   "id": "477bd544-617c-4790-ae00-10837feafe4b",
   "metadata": {},
   "outputs": [],
   "source": [
    "# Write a Python script to sort (ascending and descending) a dictionary by value. "
   ]
  },
  {
   "cell_type": "code",
   "execution_count": 24,
   "id": "e75a2147-c221-4d56-bc8a-b2045fe4a9ff",
   "metadata": {},
   "outputs": [
    {
     "name": "stdout",
     "output_type": "stream",
     "text": [
      "Dictionary is  : {1: 2, 3: 4, 4: 3, 2: 1, 0: 0, 5: 2}\n",
      "Accending order dictionary is : [(0, 0), (2, 1), (1, 2), (5, 2), (4, 3), (3, 4)]\n",
      "Descending order dictionatry is : [(3, 4), (4, 3), (1, 2), (5, 2), (2, 1), (0, 0)]\n"
     ]
    }
   ],
   "source": [
    "import operator as op\n",
    "\n",
    "dict1 = {1: 2, 3: 4, 4: 3, 2: 1, 0: 0 , 5: 2}\n",
    "\n",
    "print(f\"Dictionary is  : {dict1}\")\n",
    "res = sorted(dict1.items(), key = op.itemgetter(1))\n",
    "res1 = sorted(dict1.items(), key = op.itemgetter(1), reverse = True)\n",
    "print(f\"Accending order dictionary is : {res}\")\n",
    "print(f\"Descending order dictionatry is : {res1}\")"
   ]
  },
  {
   "cell_type": "code",
   "execution_count": 26,
   "id": "b68f1569-87da-482b-95df-83df0d1298b9",
   "metadata": {},
   "outputs": [
    {
     "name": "stdout",
     "output_type": "stream",
     "text": [
      "{'Name': 'Dimple', 'Age': 33, 'School': 'Mehsana', 'Location': 'Nalanda', 'Collage': 'Ganpat University', 'Course': 'Msc(computer Science'}\n"
     ]
    }
   ],
   "source": [
    "# Write a Python script to concatenate following dictionaries to create a new one. \n",
    "d1 = {\"Name\" : \"Dimple\", \"Age\" : 33 }\n",
    "d2 = {\"School\" : \"Mehsana\", \"Location\": \"Nalanda\"}\n",
    "d3 = {\"Collage\" : \"Ganpat University\", \"Course\" : \"Msc(computer Science\"}\n",
    "d4 = {}\n",
    "for d in (d1,d2,d3):\n",
    "    d4.update(d)\n",
    "\n",
    "print(d4)"
   ]
  },
  {
   "cell_type": "code",
   "execution_count": 56,
   "id": "6972dd55-3402-4c97-8323-d3c966e53041",
   "metadata": {},
   "outputs": [
    {
     "name": "stdin",
     "output_type": "stream",
     "text": [
      "Enter the key value :  10\n"
     ]
    },
    {
     "name": "stdout",
     "output_type": "stream",
     "text": [
      "key is not present\n"
     ]
    }
   ],
   "source": [
    "# Write a Python script to check if a given key already exists in a dictionary. \n",
    "\n",
    "dict1 = {1: 10, 2: 20, 3: 30, 4: 40, 5: 50, 6: 60}\n",
    "key = int(input(\"Enter the key value : \"))\n",
    "\n",
    "if key in dict1:\n",
    "    print(\"Key is present\")\n",
    "else:\n",
    "    print(\"key is not present\")\n",
    "    \n",
    "#def keyPresent(k):\n",
    " #   for k in dict1:\n",
    "  #      print(\"key is present\")\n",
    "   # else:\n",
    "    #    print(\"key is not present\")\n",
    "\n",
    "#keyPresent(5)\n"
   ]
  },
  {
   "cell_type": "code",
   "execution_count": 73,
   "id": "7bb5273a-b08a-4cba-8db5-d81b95edcf5c",
   "metadata": {},
   "outputs": [
    {
     "name": "stdout",
     "output_type": "stream",
     "text": [
      "a\n",
      "b\n",
      "c\n",
      "d\n",
      "1\n",
      "2\n",
      "3\n",
      "4\n"
     ]
    }
   ],
   "source": [
    "# How Do You Traverse Through a Dictionary Object in Python? \n",
    "# Iterate through keys:\n",
    "d = {\"a\" : 1, \"b\" : 2, \"c\" : 3, \"d\" :4}\n",
    "\n",
    "for key in d.keys():\n",
    "    print(key)\n",
    " \n",
    "for value in d.values():\n",
    "    print(value)"
   ]
  },
  {
   "cell_type": "code",
   "execution_count": 79,
   "id": "fbc50c13-1850-4da4-b561-7a91d126539f",
   "metadata": {},
   "outputs": [
    {
     "name": "stdout",
     "output_type": "stream",
     "text": [
      "key  'a' is in dictionary..\n",
      "Key 'e' is not in dictionary\n"
     ]
    }
   ],
   "source": [
    "# How Do You Check the Presence of a Key in A Dictionary?\n",
    "\n",
    "d = {\"a\" : 1, \"b\" : 2, \"c\" : 3, \"d\" :4}\n",
    "\n",
    "if 'a' in d:\n",
    "    print(\"key  'a' is in dictionary..\")\n",
    "\n",
    "if 'e' not in d:\n",
    "    print(\"Key 'e' is not in dictionary\")"
   ]
  },
  {
   "cell_type": "code",
   "execution_count": 89,
   "id": "0f3e104f-b4ba-4dac-b8b0-610d7b8f723c",
   "metadata": {},
   "outputs": [
    {
     "name": "stdout",
     "output_type": "stream",
     "text": [
      "{1: 2, 2: 3, 3: 4, 4: 5, 5: 6, 6: 7, 7: 8, 8: 9, 9: 10, 10: 11, 11: 12, 12: 13, 13: 14, 14: 15, 15: 16}\n"
     ]
    }
   ],
   "source": [
    "# Write a Python script to print a dictionary where the keys are numbers between 1 and 15. \n",
    "d = {i : i+1 for i in range(1,16)}\n",
    "print(d)"
   ]
  },
  {
   "cell_type": "code",
   "execution_count": 7,
   "id": "fa0f04b9-2826-4f8c-a103-46298baf8f86",
   "metadata": {},
   "outputs": [],
   "source": [
    "# Write a Python program to check multiple keys exists in a dictionary."
   ]
  },
  {
   "cell_type": "code",
   "execution_count": 9,
   "id": "f1bc1ca9-6111-4628-9967-d2b89a3a9ca0",
   "metadata": {},
   "outputs": [
    {
     "name": "stdout",
     "output_type": "stream",
     "text": [
      "['Dimple', 'married']\n"
     ]
    }
   ],
   "source": [
    "d1 = {\"name\" : \"Dimple\", \"Age\" : 33, \"city\" : \"vadodara\", \"status\" : \"married\"}\n",
    "keys = [\"name\",\"status\"]\n",
    "\n",
    "values = list(map(d1.get,keys))\n",
    "\n",
    "print(values)\n"
   ]
  },
  {
   "cell_type": "code",
   "execution_count": 31,
   "id": "e43085f9-c7a9-4107-a054-935631bf0cc5",
   "metadata": {},
   "outputs": [
    {
     "name": "stdout",
     "output_type": "stream",
     "text": [
      "{'a': 1, 'b': 2, 'c': 3, 'd': 4, 'e': 5, 'f': 6}\n"
     ]
    }
   ],
   "source": [
    "# Write a Python script to merge two Python dictionaries \n",
    "\n",
    "d1 = {\"a\": 1 , \"b\" : 2, \"c\": 3}\n",
    "d2 = {\"d\": 4, \"e\": 5, \"f\" : 6}\n",
    "\n",
    "d1.update(d2)\n",
    "print(d1)"
   ]
  },
  {
   "cell_type": "code",
   "execution_count": 35,
   "id": "98ea4851-5506-4477-9bbf-aa4874ab5a93",
   "metadata": {},
   "outputs": [
    {
     "name": "stdout",
     "output_type": "stream",
     "text": [
      "{'a': 400, 'b': 400, 'c': 400, 'd': 300}\n"
     ]
    }
   ],
   "source": [
    "# Write a Python program to map two lists into a dictionary\n",
    "# Sample output: Counter ({'a': 400, 'b': 400,’d’: 400, 'c': 300}). \n",
    "\n",
    "ls = [\"a\", \"b\",\"c\",\"d\"]\n",
    "ls1 = [400, 400, 400, 300]\n",
    "\n",
    "res = dict(zip(ls, ls1))\n",
    "\n",
    "print(res)"
   ]
  },
  {
   "cell_type": "code",
   "execution_count": 69,
   "id": "86b93ba1-97c6-4d21-aa50-1bd8abffbddb",
   "metadata": {},
   "outputs": [
    {
     "name": "stdout",
     "output_type": "stream",
     "text": [
      "Dictionary is :  {'A': 45, 'B': 56, 'C': 66, 'D': 56, 'E': 55, 'F': 57}\n",
      "Highest 3 values in dictionary is :\n",
      "C  :  66  \n",
      "F  :  57  \n",
      "B  :  56  \n"
     ]
    }
   ],
   "source": [
    "# Write a Python program to find the highest 3 values in a dictionary \n",
    "\n",
    "from collections import Counter\n",
    "\n",
    "dict1 = {\"A\" : 45, \"B\" : 56, \"C\" : 66, \"D\" : 56, \"E\" : 55, \"F\" : 57}\n",
    "\n",
    "k = Counter(dict1)\n",
    "high = k.most_common(3)\n",
    "print(\"Dictionary is : \",dict1)\n",
    "\n",
    "\n",
    "print(\"Highest 3 values in dictionary is :\")\n",
    "\n",
    "for i in high:\n",
    "    print(i[0],\" : \" ,i[1], \" \")\n"
   ]
  },
  {
   "cell_type": "code",
   "execution_count": 78,
   "id": "7097b9e8-7c6c-4e76-877a-0234d185dccc",
   "metadata": {},
   "outputs": [],
   "source": [
    "# Write a Python program to combine values in python list of dictionaries.\n",
    "# Sample data: [{'item': 'item1', 'amount': 400}, {'item': 'item2', 'amount': 300},  {'item': 'item1', 'amount': 750}]\n",
    "# Expected Output: Counter ({'item1': 1150, 'item2': 300})"
   ]
  },
  {
   "cell_type": "code",
   "execution_count": 80,
   "id": "2517b0bc-de2d-41b0-8dc6-1ee44d0c481c",
   "metadata": {},
   "outputs": [
    {
     "name": "stdout",
     "output_type": "stream",
     "text": [
      "Counter({'item1': 1150, 'item2': 300})\n"
     ]
    }
   ],
   "source": [
    "from collections import Counter\n",
    "\n",
    "data = [{'item': 'item1', 'amount': 400}, {'item': 'item2', 'amount': 300}, {'item': 'item1', 'amount': 750}]\n",
    "\n",
    "result = Counter()\n",
    "\n",
    "for d in data:\n",
    "    result[d['item']] += d['amount']\n",
    "\n",
    "print(result) "
   ]
  },
  {
   "cell_type": "code",
   "execution_count": 94,
   "id": "2f29f2e6-0d30-487b-9c0e-118211cbc5ba",
   "metadata": {},
   "outputs": [
    {
     "name": "stdin",
     "output_type": "stream",
     "text": [
      "Enter the string:  Dimple patel\n"
     ]
    },
    {
     "name": "stdout",
     "output_type": "stream",
     "text": [
      "{'D': 1, 'i': 1, 'm': 1, 'p': 2, 'l': 2, 'e': 2, ' ': 1, 'a': 1, 't': 1}\n"
     ]
    }
   ],
   "source": [
    "# Write a Python program to create a dictionary from a string.\n",
    "# Note: Track the count of the letters from the string. \n",
    "\n",
    "st = input(\"Enter the string: \")\n",
    "\n",
    "dict1 = {}\n",
    "\n",
    "for s in st:\n",
    "    if s in dict1:\n",
    "        dict1[s] += 1\n",
    "    else:\n",
    "        dict1[s] = 1\n",
    "\n",
    "#Printing the count of characters in the string\n",
    "print(dict1)"
   ]
  },
  {
   "cell_type": "code",
   "execution_count": 104,
   "id": "5fee8c83-8194-4180-bcee-b809e809df75",
   "metadata": {},
   "outputs": [
    {
     "name": "stdout",
     "output_type": "stream",
     "text": [
      "{'w': 1, '3': 1, 'r': 2, 'e': 2, 's': 1, 'o': 1, 'u': 1, 'c': 1}\n"
     ]
    }
   ],
   "source": [
    "# Sample string:\n",
    "# 'w3resource' Expected output:\n",
    "#• {'3': 1,’s’: 1, 'r': 2, 'u': 1, 'w': 1, 'c': 1, 'e': 2, 'o': 1}\n",
    "\n",
    "st = \"w3resource\"\n",
    "dict1 = { }\n",
    "\n",
    "for s in st:\n",
    "    if s in dict1:\n",
    "        dict1[s] += 1\n",
    "    else:\n",
    "        dict1[s] = 1\n",
    "\n",
    "print(dict1)"
   ]
  },
  {
   "cell_type": "code",
   "execution_count": 13,
   "id": "b2c43f0f-1415-425e-8a01-8e4d43e19346",
   "metadata": {},
   "outputs": [
    {
     "name": "stdin",
     "output_type": "stream",
     "text": [
      "Enter the Number 8\n"
     ]
    },
    {
     "name": "stdout",
     "output_type": "stream",
     "text": [
      "Factorial value of 8 is :  40320\n"
     ]
    }
   ],
   "source": [
    "# Write a Python function to calculate the factorial of a number (a nonnegative integer) \n",
    "\n",
    "import math as mt\n",
    "num = int(input(\"Enter the Number\"))\n",
    "fact1 = mt.factorial(num)\n",
    "print(f\"Factorial value of {num} is : \", fact1)\n"
   ]
  },
  {
   "cell_type": "code",
   "execution_count": 7,
   "id": "0dd73410-6585-4f73-8a39-081570487429",
   "metadata": {},
   "outputs": [
    {
     "name": "stdin",
     "output_type": "stream",
     "text": [
      "Enter the number u want to calculate factorial : 5\n"
     ]
    },
    {
     "name": "stdout",
     "output_type": "stream",
     "text": [
      "120\n"
     ]
    }
   ],
   "source": [
    "def fact(n):\n",
    "    if n == 0:\n",
    "       return 1\n",
    "    else:\n",
    "       return n * fact(n - 1)\n",
    "\n",
    "n = int(input(\"Enter the number u want to calculate factorial :\"))\n",
    "\n",
    "print(fact(n))\n"
   ]
  },
  {
   "cell_type": "code",
   "execution_count": 21,
   "id": "0c7de061-3e0a-4e97-9759-b7008906ab75",
   "metadata": {},
   "outputs": [
    {
     "name": "stdout",
     "output_type": "stream",
     "text": [
      "Number is in Range\n"
     ]
    }
   ],
   "source": [
    "# Write a Python function to check whether a number is in a given range\n",
    "\n",
    "def numberRange(i):\n",
    "    if i in range(2,9):\n",
    "        print(\"Number is in Range\")\n",
    "    else:\n",
    "        print(\"Number is not in Range\")\n",
    "\n",
    "numberRange(4)"
   ]
  },
  {
   "cell_type": "code",
   "execution_count": 61,
   "id": "f0c6d979-f6a7-464e-a0e7-62dfdf7fb22b",
   "metadata": {},
   "outputs": [
    {
     "name": "stdin",
     "output_type": "stream",
     "text": [
      "Enter the Nunber : 50\n"
     ]
    },
    {
     "name": "stdout",
     "output_type": "stream",
     "text": [
      "not perfect\n"
     ]
    }
   ],
   "source": [
    "# Write a Python function to check whether a number is perfect or not. \n",
    "\n",
    "num = int(input(\"Enter the Nunber :\"))\n",
    "sum = 0 \n",
    "for i in range(1, num):\n",
    "    if n%i == 0:\n",
    "        sum = sum + i\n",
    "if sum == i:\n",
    "    print(\"perfect number\")\n",
    "else:\n",
    "    print(\"not perfect\")\n",
    "\n"
   ]
  },
  {
   "cell_type": "code",
   "execution_count": 65,
   "id": "a9e22fba-1f0e-4f9b-9d29-1eb1390cd296",
   "metadata": {},
   "outputs": [
    {
     "name": "stdin",
     "output_type": "stream",
     "text": [
      "Enter a string:  nun\n"
     ]
    },
    {
     "name": "stdout",
     "output_type": "stream",
     "text": [
      "nun is a palindrome.\n"
     ]
    }
   ],
   "source": [
    "# Write a Python function that checks whether a passed string is palindrome or not \n",
    "\n",
    "def Palindrome(s):\n",
    "    s = s.lower()\n",
    "    return s == s[::-1]\n",
    "\n",
    "st = input(\"Enter a string: \")\n",
    "if Palindrome(st):\n",
    "    print(st, \"is a palindrome.\")\n",
    "else:\n",
    "    print(st, \"is not a palindrome.\")"
   ]
  },
  {
   "cell_type": "code",
   "execution_count": null,
   "id": "a3616084-4aa8-4731-9076-a2bc6a0608da",
   "metadata": {},
   "outputs": [],
   "source": []
  }
 ],
 "metadata": {
  "kernelspec": {
   "display_name": "Python [conda env:base] *",
   "language": "python",
   "name": "conda-base-py"
  },
  "language_info": {
   "codemirror_mode": {
    "name": "ipython",
    "version": 3
   },
   "file_extension": ".py",
   "mimetype": "text/x-python",
   "name": "python",
   "nbconvert_exporter": "python",
   "pygments_lexer": "ipython3",
   "version": "3.12.7"
  }
 },
 "nbformat": 4,
 "nbformat_minor": 5
}
