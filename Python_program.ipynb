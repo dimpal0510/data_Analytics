{
 "cells": [
  {
   "cell_type": "markdown",
   "id": "fec4bcb3-6e08-4668-8ad0-1c0dee60ac9f",
   "metadata": {},
   "source": [
    "# Write a Python program to check if a number is positive, negative or zero \n"
   ]
  },
  {
   "cell_type": "code",
   "execution_count": 14,
   "id": "60eb857e-2eee-40e5-a8c3-24e86aa852b7",
   "metadata": {},
   "outputs": [
    {
     "name": "stdin",
     "output_type": "stream",
     "text": [
      "Enter the Number 0\n"
     ]
    },
    {
     "name": "stdout",
     "output_type": "stream",
     "text": [
      "zero\n"
     ]
    }
   ],
   "source": [
    "num = float(input(\"Enter the Number\"))\n",
    "if num == 0:\n",
    "    print(\"zero\")\n",
    "elif num > 0:\n",
    "    print(\"The number is Positive\")\n",
    "else:\n",
    "    print(\"the number is nagetive\")"
   ]
  },
  {
   "cell_type": "markdown",
   "id": "434b3b33-d6a9-4e11-9490-62ebc2aebcfa",
   "metadata": {},
   "source": [
    "### Write a Python program to get the Factorial number of given numbers"
   ]
  },
  {
   "cell_type": "code",
   "execution_count": 19,
   "id": "15d9f627-5c2a-496c-a77b-8ebf74350048",
   "metadata": {},
   "outputs": [
    {
     "name": "stdin",
     "output_type": "stream",
     "text": [
      "Enter the number 5\n"
     ]
    },
    {
     "name": "stdout",
     "output_type": "stream",
     "text": [
      "The factorial of 5 is 120\n"
     ]
    }
   ],
   "source": [
    "num = int(input(\"Enter the number\"))\n",
    "\n",
    "fact = 1\n",
    "\n",
    "for i in range(1, num +1):\n",
    "    fact *= i\n",
    "\n",
    "print(f\"The factorial of {num} is {fact}\")\n",
    "    "
   ]
  },
  {
   "cell_type": "markdown",
   "id": "001a5c39-5f08-4ad3-b80a-d5f8d6a0247c",
   "metadata": {},
   "source": [
    "#### Write a Python program to get the Fibonacci series of given range. "
   ]
  },
  {
   "cell_type": "code",
   "execution_count": 29,
   "id": "7dd43890-b881-4c0e-8e5a-182e1d37ba17",
   "metadata": {},
   "outputs": [
    {
     "name": "stdout",
     "output_type": "stream",
     "text": [
      "55\n"
     ]
    }
   ],
   "source": [
    "def Fibo(n):\n",
    "\n",
    "    # Check if input is 0 then it will print incorrect input\n",
    "    if n < 0:\n",
    "        print(\"Incorrect input\")\n",
    "\n",
    "    elif n == 0:\n",
    "        return 0\n",
    "\n",
    "    elif n == 1 or n == 2:\n",
    "        return 1\n",
    "\n",
    "    else:\n",
    "        return Fibo(n-1) + Fibo(n-2)\n",
    "\n",
    "print(Fibo(10))"
   ]
  },
  {
   "cell_type": "markdown",
   "id": "d67db49e-4163-4ee8-ab3d-e147c8bfedb7",
   "metadata": {},
   "source": [
    "#### Write python program that swap two number with temp variable and without temp variable. "
   ]
  },
  {
   "cell_type": "code",
   "execution_count": 16,
   "id": "3c1ca47a-23a1-4b07-8f12-c62a15f1c01b",
   "metadata": {},
   "outputs": [
    {
     "name": "stdout",
     "output_type": "stream",
     "text": [
      "A : 20\n",
      "B : 10\n",
      "x : 40\n",
      "y : 40\n"
     ]
    }
   ],
   "source": [
    "# Without temp variable:\n",
    "a = 10\n",
    "b = 20\n",
    "a,b = b,a\n",
    "print(f\"A : {a}\")\n",
    "print(f\"B : {b}\")\n",
    "\n",
    "#with temp variable:\n",
    "\n",
    "x = 30\n",
    "y = 40\n",
    "temp = x\n",
    "x = y\n",
    "b = temp\n",
    "print(f\"x : {x}\")\n",
    "print(f\"y : {y}\")"
   ]
  },
  {
   "cell_type": "markdown",
   "id": "07e6a5a3-49e1-4f42-85e3-44a9da8325a8",
   "metadata": {},
   "source": [
    "#### Write a Python program to find whether a given number is even or odd, print out an appropriate message to the user."
   ]
  },
  {
   "cell_type": "code",
   "execution_count": 24,
   "id": "a455370e-1fdf-4c23-baa0-fe1b65f06c3c",
   "metadata": {},
   "outputs": [
    {
     "name": "stdin",
     "output_type": "stream",
     "text": [
      "Enter the number 5\n"
     ]
    },
    {
     "name": "stdout",
     "output_type": "stream",
     "text": [
      "The given number is odd\n"
     ]
    }
   ],
   "source": [
    "\n",
    "\n",
    "a = int(input(\"Enter the number\"))\n",
    "if a %2 ==0:\n",
    "    print(\"The given number is even\")\n",
    "elif a %2 !=0:\n",
    "    print(\"The given number is odd\")\n",
    "\n",
    "else:\n",
    "    (\"the given number is zero\")\n",
    "\n"
   ]
  },
  {
   "cell_type": "markdown",
   "id": "67a1b1fc-5786-4858-92ab-e705366e8db1",
   "metadata": {},
   "source": [
    "#### Write a Python program to test whether a passed letter is a vowel or not."
   ]
  },
  {
   "cell_type": "code",
   "execution_count": 55,
   "id": "bc01d4d9-1ed1-4a0f-a191-48213e8c2a0d",
   "metadata": {},
   "outputs": [
    {
     "name": "stdin",
     "output_type": "stream",
     "text": [
      "Enter the Letter : k\n"
     ]
    },
    {
     "name": "stdout",
     "output_type": "stream",
     "text": [
      "The given letter is consonent\n",
      "Consonant\n",
      "Vowel\n"
     ]
    }
   ],
   "source": [
    "\n",
    "\n",
    "x = str(input(\"Enter the Letter :\"))\n",
    "\n",
    "if (x == \"a\" or x == \"e\" or x == \"i\" or x == \"o\" or x == \"u\"):\n",
    "    print(\"the given letter is vowel\")\n",
    "else:\n",
    "    print(\"The given letter is consonent\")\n",
    "\n",
    "#using def function\n",
    "def vowOrCons(x): \n",
    "  \n",
    "    if (x == 'a' or x == 'e' or\n",
    "        x == 'i' or x == 'o' or x == 'u'): \n",
    "        print(\"Vowel\") \n",
    "    else: \n",
    "        print(\"Consonant\") \n",
    "  \n",
    "# Driver code \n",
    "vowOrCons('c') \n",
    "vowOrCons('e') \n"
   ]
  },
  {
   "cell_type": "markdown",
   "id": "b514830a-34c2-476f-be26-53197735b998",
   "metadata": {},
   "source": [
    "####  Write a Python program to sum of three given integers. However, if two values are equal sum will be zero. "
   ]
  },
  {
   "cell_type": "code",
   "execution_count": 77,
   "id": "29724ced-2b82-4261-b2ba-e6304ff8051a",
   "metadata": {},
   "outputs": [
    {
     "name": "stdin",
     "output_type": "stream",
     "text": [
      "Enter the first number :  5\n",
      "Enter the second number :  5\n",
      "Enter the third number :  5\n"
     ]
    },
    {
     "name": "stdout",
     "output_type": "stream",
     "text": [
      "The sum is Zero\n"
     ]
    }
   ],
   "source": [
    "a = int(input(\"Enter the first number : \"))\n",
    "b = int(input(\"Enter the second number : \"))\n",
    "c = int(input(\"Enter the third number : \"))\n",
    "\n",
    "if a == b or b == c or c == a:\n",
    "    print(\"The sum is Zero\")\n",
    "else:\n",
    "    sum = a+b+c\n",
    "    print(sum)"
   ]
  },
  {
   "cell_type": "markdown",
   "id": "0be6bf25-0878-4555-8a07-1348546e1de7",
   "metadata": {},
   "source": [
    "#### Write a Python program that will return true if the two given integer values are equal or their sum or difference is 5."
   ]
  },
  {
   "cell_type": "code",
   "execution_count": 87,
   "id": "036b8b7a-0200-4b36-bea6-044b0a19ca26",
   "metadata": {},
   "outputs": [
    {
     "name": "stdout",
     "output_type": "stream",
     "text": [
      "True\n",
      "True\n",
      "True\n",
      "False\n",
      "False\n"
     ]
    }
   ],
   "source": [
    " \n",
    "def testNumb(x, y):\n",
    "    if x == y or abs(x-y) == 5 or (x+y) == 5:\n",
    "        return True\n",
    "    else:\n",
    "        return False\n",
    "\n",
    "print(testNumb(7,2))\n",
    "print(testNumb(3,2))\n",
    "print(testNumb(2,2))\n",
    "print(testNumb(7,3))\n",
    "print(testNumb(10,12))"
   ]
  },
  {
   "cell_type": "markdown",
   "id": "ac6cfb7a-0805-47b7-a588-579babd85a52",
   "metadata": {},
   "source": [
    "#### Write a python program to sum of the first n positive integers."
   ]
  },
  {
   "cell_type": "code",
   "execution_count": 109,
   "id": "8e97849b-b280-495d-8c98-e0cb1047015e",
   "metadata": {},
   "outputs": [
    {
     "name": "stdout",
     "output_type": "stream",
     "text": [
      "The sum of First N positive integer =15\n"
     ]
    }
   ],
   "source": [
    "\n",
    "\n",
    "sum = 0\n",
    "for i in range(1,6):\n",
    "    sum += i\n",
    "#print(i,end = \" \")\n",
    "print(f\"The sum of First N positive integer ={sum}\")\n"
   ]
  },
  {
   "cell_type": "markdown",
   "id": "51f78e85-dfdc-4fa1-929e-c3e5a07995a1",
   "metadata": {},
   "source": [
    "#### Write a Python program to calculate the length of a string. "
   ]
  },
  {
   "cell_type": "code",
   "execution_count": 111,
   "id": "16d3ab90-2b85-4aae-bf1f-2ed08cbd05ea",
   "metadata": {},
   "outputs": [
    {
     "name": "stdout",
     "output_type": "stream",
     "text": [
      "6\n"
     ]
    }
   ],
   "source": [
    "\n",
    "\n",
    "a = \"dimple\"\n",
    "print(len(a))"
   ]
  },
  {
   "cell_type": "markdown",
   "id": "c1ecc9e6-b818-4656-9b34-a3d96274a14b",
   "metadata": {},
   "source": [
    "#### Write a Python program to count the number of characters (character frequency) in a string "
   ]
  },
  {
   "cell_type": "code",
   "execution_count": 115,
   "id": "ae831dd1-4158-4be0-ab3d-f7516580e7f7",
   "metadata": {},
   "outputs": [
    {
     "name": "stdout",
     "output_type": "stream",
     "text": [
      "{'D': 1, 'i': 1, 'm': 1, 'p': 1, 'l': 2, 'e': 2, ' ': 1, 'P': 1, 'a': 1, 't': 1}\n"
     ]
    }
   ],
   "source": [
    "\n",
    "name = \"Dimple Patel\"\n",
    "freq = {}\n",
    "\n",
    "for c in name:\n",
    "    if c in freq:\n",
    "        freq[c] += 1\n",
    "    else:\n",
    "        freq[c] = 1\n",
    "\n",
    "print(freq)"
   ]
  },
  {
   "cell_type": "markdown",
   "id": "986c1cb3-78aa-4d25-bfe6-a6fe34f491d9",
   "metadata": {},
   "source": [
    "#### Write a Python program to count occurrences of a substring in a string."
   ]
  },
  {
   "cell_type": "code",
   "execution_count": 121,
   "id": "ac7f1847-f28e-4e2a-a861-6935d824710e",
   "metadata": {},
   "outputs": [
    {
     "name": "stdout",
     "output_type": "stream",
     "text": [
      "5\n"
     ]
    }
   ],
   "source": [
    "\n",
    "\n",
    "s = \"hello hello hello hello hello\"\n",
    "sub = \"hello\"\n",
    "c = s.count(sub)\n",
    "print(c)"
   ]
  },
  {
   "cell_type": "markdown",
   "id": "a1d70978-fef8-4214-85ac-08528f59859a",
   "metadata": {},
   "source": [
    "#### Write a Python program to count the occurrences of each word in a given sentence."
   ]
  },
  {
   "cell_type": "code",
   "execution_count": 127,
   "id": "1eaabb2b-d413-41d3-9d7c-0a0a68acae32",
   "metadata": {},
   "outputs": [
    {
     "name": "stdout",
     "output_type": "stream",
     "text": [
      "{'My': 2, 'Name': 1, 'is': 2, 'Dimple': 1, 'Patel': 1, 'age': 1, '33': 1}\n"
     ]
    }
   ],
   "source": [
    "\n",
    "\n",
    "def word_count(str):\n",
    "    counts = dict()\n",
    "    \n",
    "    words = str.split()\n",
    "\n",
    "    for word in words:\n",
    "        if word in counts:\n",
    "            counts[word] += 1\n",
    "        else:\n",
    "            counts[word] = 1\n",
    "\n",
    "    return counts\n",
    "\n",
    "print( word_count('My Name is Dimple Patel My age is 33'))"
   ]
  },
  {
   "cell_type": "markdown",
   "id": "e5301e23-9059-438a-8c66-90b7eb529dc6",
   "metadata": {},
   "source": [
    "#### Write a Python program to get a single string from two given strings,separated by a space and swap the first two characters of each string. "
   ]
  },
  {
   "cell_type": "code",
   "execution_count": 13,
   "id": "a4c08968-e08a-4e6c-9072-6b2f896ee670",
   "metadata": {},
   "outputs": [
    {
     "name": "stdout",
     "output_type": "stream",
     "text": [
      "Pample Ditel\n"
     ]
    }
   ],
   "source": [
    "\n",
    "def swapStr(a, b):\n",
    "    a1 = b[:2] + a[2:]\n",
    "    b1 = a[:2] + b[2:]\n",
    "    return a1 + ' '+ b1\n",
    "\n",
    "print(swapStr('Dimple', 'Patel'))"
   ]
  },
  {
   "cell_type": "markdown",
   "id": "90ea43a8-4a35-4421-a7f2-c0a70c5310b2",
   "metadata": {},
   "source": [
    "#### Write a Python program to add 'in' at the end of a given string (length should be at least 3). If the given string already ends with 'ing' then add 'ly' instead if the string length of the given string is less than 3, leave it unchanged. "
   ]
  },
  {
   "cell_type": "code",
   "execution_count": 137,
   "id": "5e8aa787-f556-4dd0-8436-85c2059b28b5",
   "metadata": {},
   "outputs": [
    {
     "name": "stdout",
     "output_type": "stream",
     "text": [
      "ab\n",
      "abcing\n",
      "Stringly\n"
     ]
    }
   ],
   "source": [
    "\n",
    "def addStr(str1):\n",
    "    length = len(str1)\n",
    "    if length > 2:\n",
    "        if str1[-3:] == \"ing\":\n",
    "            str1 += \"ly\"\n",
    "        else:\n",
    "            str1 +=\"ing\"\n",
    "    return str1\n",
    "print(addStr('ab'))\n",
    "print(addStr(\"abc\"))\n",
    "print(addStr(\"String\"))\n",
    "        "
   ]
  },
  {
   "cell_type": "markdown",
   "id": "a9140d73-9c1e-4a32-bdc5-42f065ff0864",
   "metadata": {},
   "source": [
    "#### Write a Python function to reverses a string if its length is a multiple of 4. "
   ]
  },
  {
   "cell_type": "code",
   "execution_count": 151,
   "id": "02d24a9c-c326-49fa-86ec-d525e9c4620f",
   "metadata": {},
   "outputs": [
    {
     "name": "stdout",
     "output_type": "stream",
     "text": [
      "d c b a\n",
      "s r q p\n"
     ]
    }
   ],
   "source": [
    "\n",
    "def revString(str1):\n",
    "    if len(str1)%4 == 0:\n",
    "        return ' '.join(reversed(str1))\n",
    "    return str1\n",
    "\n",
    "print(revString(\"abcd\"))\n",
    "print(revString(\"pqrs\"))\n",
    "      "
   ]
  },
  {
   "cell_type": "markdown",
   "id": "a3aa0575-9b3c-4893-86e6-019287241fb8",
   "metadata": {},
   "source": [
    "#### Write a Python program to get a string made of the first 2 and the last 2 chars from a given a string. If the string length is less than 2, return instead of the empty string. "
   ]
  },
  {
   "cell_type": "code",
   "execution_count": 157,
   "id": "1aa3ee90-5df7-47c1-b0bd-557ce6fd9c50",
   "metadata": {},
   "outputs": [
    {
     "name": "stdout",
     "output_type": "stream",
     "text": [
      "Pyam\n",
      "\n",
      "pypy\n"
     ]
    }
   ],
   "source": [
    "\n",
    "def stringEnds(str):\n",
    "    if len(str) < 2:\n",
    "        return ' '\n",
    "\n",
    "    return str[0:2] + str[-2:]\n",
    "\n",
    "print(stringEnds('Python Program'))  \n",
    "print(stringEnds('P'))          \n",
    "print(stringEnds('py'))           "
   ]
  },
  {
   "cell_type": "markdown",
   "id": "cacc4ab1-e184-4025-8b01-9173f190bb19",
   "metadata": {},
   "source": [
    "#### Write a Python function to insert a string in the middle of a string. "
   ]
  },
  {
   "cell_type": "code",
   "execution_count": 163,
   "id": "b27d50ba-17de-4ab4-b28f-2b6f1bf06d51",
   "metadata": {},
   "outputs": [
    {
     "name": "stdout",
     "output_type": "stream",
     "text": [
      "Hello, Dimple Patel\n"
     ]
    }
   ],
   "source": [
    "\n",
    "\n",
    "str1 = \"Hello, \"\n",
    "str2 = \"Patel\"\n",
    "insertstr = \"Dimple\"\n",
    "new_string = f\"{str1}{insertstr} {str2}\"\n",
    "print(new_string)"
   ]
  },
  {
   "cell_type": "code",
   "execution_count": null,
   "id": "ad056765-5464-4026-a35e-3bfd9245b2b4",
   "metadata": {},
   "outputs": [],
   "source": []
  }
 ],
 "metadata": {
  "kernelspec": {
   "display_name": "Python [conda env:base] *",
   "language": "python",
   "name": "conda-base-py"
  },
  "language_info": {
   "codemirror_mode": {
    "name": "ipython",
    "version": 3
   },
   "file_extension": ".py",
   "mimetype": "text/x-python",
   "name": "python",
   "nbconvert_exporter": "python",
   "pygments_lexer": "ipython3",
   "version": "3.12.7"
  }
 },
 "nbformat": 4,
 "nbformat_minor": 5
}
