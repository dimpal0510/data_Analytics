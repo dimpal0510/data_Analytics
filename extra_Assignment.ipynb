{
 "cells": [
  {
   "cell_type": "code",
   "execution_count": 1,
   "id": "2c8b75b1-fa1a-4f79-91d8-1f44ad451b6a",
   "metadata": {},
   "outputs": [],
   "source": [
    "# create a function in python that accepts two parameters. The first should be the full price of an item as an integer.\n",
    "# The second should be the discount percentage as an integer."
   ]
  },
  {
   "cell_type": "code",
   "execution_count": null,
   "id": "a728319e-43d0-4cd1-805b-e62a59d28fa2",
   "metadata": {},
   "outputs": [],
   "source": []
  },
  {
   "cell_type": "code",
   "execution_count": null,
   "id": "c041e0d5-dd7d-4871-aece-ed2881fbe463",
   "metadata": {},
   "outputs": [],
   "source": []
  },
  {
   "cell_type": "code",
   "execution_count": null,
   "id": "8c8c363d-f75e-4f0e-9cea-3832afb947f5",
   "metadata": {},
   "outputs": [],
   "source": []
  }
 ],
 "metadata": {
  "kernelspec": {
   "display_name": "Python 3 (ipykernel)",
   "language": "python",
   "name": "python3"
  },
  "language_info": {
   "codemirror_mode": {
    "name": "ipython",
    "version": 3
   },
   "file_extension": ".py",
   "mimetype": "text/x-python",
   "name": "python",
   "nbconvert_exporter": "python",
   "pygments_lexer": "ipython3",
   "version": "3.12.7"
  }
 },
 "nbformat": 4,
 "nbformat_minor": 5
}
