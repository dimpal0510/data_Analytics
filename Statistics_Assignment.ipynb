{
 "cells": [
  {
   "cell_type": "markdown",
   "id": "5a857d8f-3f9d-41eb-9352-4336de04f4fa",
   "metadata": {},
   "source": [
    "# Module 1. Introduction to Statistics  \n",
    "### Question 1. There is an assumption that there is no significant difference between boys and girls with respect to intelligence. Tests are conducted on two groups and the following are the observations "
   ]
  },
  {
   "cell_type": "markdown",
   "id": "0e2153a1-9dee-4303-ab09-fe5a4f7c4f75",
   "metadata": {},
   "source": [
    "#### G/B Mean Standard_Deviation Size \n",
    "#### Girls 89   4                 50 \n",
    "#### Boys  82   9                 120  \n",
    "### Validate the claim with 5% LoS (Level of Significance). "
   ]
  },
  {
   "cell_type": "code",
   "execution_count": 1,
   "id": "7fceb669-c042-4963-aa77-d25831d747f9",
   "metadata": {},
   "outputs": [
    {
     "name": "stdout",
     "output_type": "stream",
     "text": [
      "--- Statistical Test Results ---\n",
      "Z-statistic: 7.0176\n",
      "P-value: 0.000000000002258\n",
      "\n",
      "Conclusion (5.0% Level of Significance):\n",
      "Reject the null hypothesis. There is a significant difference.\n"
     ]
    }
   ],
   "source": [
    "import numpy as np\n",
    "from scipy import stats\n",
    "\n",
    "def two_sample_z_test(mean1, std1, n1, mean2, std2, n2, los):\n",
    "   \n",
    "    standard_error = np.sqrt((std1**2 / n1) + (std2**2 / n2))\n",
    "\n",
    "    z_statistic = (mean1 - mean2) / standard_error\n",
    "\n",
    "    p_value = 2 * stats.norm.cdf(-np.abs(z_statistic))\n",
    "\n",
    "    if p_value < los:\n",
    "        conclusion = \"Reject the null hypothesis. There is a significant difference.\"\n",
    "    else:\n",
    "        conclusion = \"Fail to reject the null hypothesis. There is no significant difference.\"\n",
    "\n",
    "    return z_statistic, p_value, conclusion\n",
    "\n",
    "# Data for Girls (Group 1)\n",
    "mean_girls = 89\n",
    "std_girls = 4\n",
    "n_girls = 50\n",
    "\n",
    "# Data for Boys (Group 2)\n",
    "mean_boys = 82\n",
    "std_boys = 9\n",
    "n_boys = 120\n",
    "\n",
    "# Level of Significance\n",
    "level_of_significance = 0.05\n",
    "\n",
    "# --- Run the Test and Print Results ---\n",
    "z_stat, p_val, conclusion = two_sample_z_test(\n",
    "    mean_girls, std_girls, n_girls,\n",
    "    mean_boys, std_boys, n_boys,\n",
    "    level_of_significance\n",
    ")\n",
    "\n",
    "print(\"--- Statistical Test Results ---\")\n",
    "print(f\"Z-statistic: {z_stat:.4f}\")\n",
    "print(f\"P-value: {p_val:.15f}\")\n",
    "print(f\"\\nConclusion ({level_of_significance*100}% Level of Significance):\")\n",
    "print(conclusion)\n"
   ]
  },
  {
   "cell_type": "markdown",
   "id": "40876d4d-a4e0-4bc4-bfec-01e0499634e2",
   "metadata": {},
   "source": [
    "## Question 2. Analyze the below data and tell whether you can conclude that smoking causes cancer or not? "
   ]
  },
  {
   "cell_type": "code",
   "execution_count": 12,
   "id": "da826bf7-e43b-4571-8443-3749c5cc6dfe",
   "metadata": {},
   "outputs": [
    {
     "name": "stdout",
     "output_type": "stream",
     "text": [
      "--- Chi-Square Test Results ---\n",
      "Chi-Square Statistic: 23.1378\n",
      "P-value: 0.000001507985465\n",
      "Degrees of Freedom: 1\n",
      "\n",
      "Observed Frequencies:\n",
      "[[220 230]\n",
      " [350 640]]\n",
      "\n",
      "Expected Frequencies:\n",
      "[[178.12 271.88]\n",
      " [391.88 598.12]]\n",
      "\n",
      "Comparing p-value with Level of Significance (0.05):\n",
      "Since the p-value is less than the level of significance, we reject the null hypothesis.\n",
      "Conclusion: There is a statistically significant association between smoking and cancer.\n"
     ]
    },
    {
     "data": {
      "text/plain": [
       "'Since the p-value is less than the level of significance, we reject the null hypothesis.'"
      ]
     },
     "execution_count": 12,
     "metadata": {},
     "output_type": "execute_result"
    }
   ],
   "source": [
    "import numpy as np\n",
    "from scipy.stats import chi2_contingency\n",
    "\n",
    "def chi_square_test(data, los=0.05):\n",
    "    \"\"\"\n",
    "    Performs a Chi-Square test for independence on a contingency table.\n",
    "\n",
    "    Args:\n",
    "        data (list of lists): The observed frequency data in a contingency table.\n",
    "        los (float): The level of significance (e.g., 0.05 for 5%).\n",
    "\n",
    "    Returns:\n",
    "        str: A conclusion based on the test results.\n",
    "    \"\"\"\n",
    "    # The null hypothesis (H0) is that smoking and cancer are independent (no association).\n",
    "    # The alternative hypothesis (Ha) is that smoking and cancer are dependent (there is an association).\n",
    "\n",
    "    # Convert the list of lists to a numpy array for chi2_contingency\n",
    "    observed_table = np.array(data)\n",
    "\n",
    "    # Perform the Chi-Square test\n",
    "    chi2_stat, p_value, degrees_of_freedom, expected_table = chi2_contingency(observed_table)\n",
    "\n",
    "    print(\"--- Chi-Square Test Results ---\")\n",
    "    print(f\"Chi-Square Statistic: {chi2_stat:.4f}\")\n",
    "    print(f\"P-value: {p_value:.15f}\")\n",
    "    print(f\"Degrees of Freedom: {degrees_of_freedom}\")\n",
    "    print(\"\\nObserved Frequencies:\")\n",
    "    print(observed_table)\n",
    "    print(\"\\nExpected Frequencies:\")\n",
    "    # Round the expected values for easier viewing\n",
    "    print(np.round(expected_table, 2))\n",
    "\n",
    "    # Compare the p-value to the level of significance to make a conclusion.\n",
    "    print(f\"\\nComparing p-value with Level of Significance ({los}):\")\n",
    "    if p_value < los:\n",
    "        conclusion = \"Since the p-value is less than the level of significance, we reject the null hypothesis.\"\n",
    "        print(conclusion)\n",
    "        print(\"Conclusion: There is a statistically significant association between smoking and cancer.\")\n",
    "    else:\n",
    "        conclusion = \"Since the p-value is greater than the level of significance, we fail to reject the null hypothesis.\"\n",
    "        print(conclusion)\n",
    "        print(\"Conclusion: There is no statistically significant association between smoking and cancer.\")\n",
    "\n",
    "    return conclusion\n",
    "\n",
    "# --- Provided Data ---\n",
    "# The contingency table with observed frequencies\n",
    "# [[Smokers with Cancer, Smokers without Cancer],\n",
    "#  [Non-Smokers with Cancer, Non-Smokers without Cancer]]\n",
    "observed_data = [\n",
    "    [220, 230], # Smokers\n",
    "    [350, 640]  # Non-Smokers\n",
    "]\n",
    "\n",
    "# Note: The totals from the user query are inconsistent with the data\n",
    "# The provided data is:\n",
    "# Smokers: 220 + 230 = 450 (not 550)\n",
    "# Non-Smokers: 350 + 640 = 990\n",
    "# Cancer: 220 + 350 = 570 (not 680)\n",
    "# Without Cancer: 230 + 640 = 870 (not 910)\n",
    "# Total: 450 + 990 = 1440\n",
    "# The chi-square test will use the 2x2 table provided, ignoring the inconsistent totals.\n",
    "# Let's use the provided 2x2 table as the observed data.\n",
    "\n",
    "# Level of Significance\n",
    "level_of_significance = 0.05\n",
    "\n",
    "# --- Run the Test and Print Results ---\n",
    "chi_square_test(observed_data, level_of_significance)\n"
   ]
  },
  {
   "cell_type": "code",
   "execution_count": null,
   "id": "b02b7953-42d5-4096-af64-23222ef32196",
   "metadata": {},
   "outputs": [],
   "source": []
  }
 ],
 "metadata": {
  "kernelspec": {
   "display_name": "Python 3 (ipykernel)",
   "language": "python",
   "name": "python3"
  },
  "language_info": {
   "codemirror_mode": {
    "name": "ipython",
    "version": 3
   },
   "file_extension": ".py",
   "mimetype": "text/x-python",
   "name": "python",
   "nbconvert_exporter": "python",
   "pygments_lexer": "ipython3",
   "version": "3.12.7"
  }
 },
 "nbformat": 4,
 "nbformat_minor": 5
}
