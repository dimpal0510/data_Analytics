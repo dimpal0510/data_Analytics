{
 "cells": [
  {
   "cell_type": "markdown",
   "id": "b83529f5-007e-4259-a6c1-4194b8d5dbb5",
   "metadata": {},
   "source": [
    "#FilterFalse()"
   ]
  },
  {
   "cell_type": "code",
   "execution_count": 5,
   "id": "068f6924-edd8-4923-b42d-08db9f58002d",
   "metadata": {},
   "outputs": [],
   "source": [
    "from itertools import starmap"
   ]
  },
  {
   "cell_type": "code",
   "execution_count": 9,
   "id": "ae2a85f9-6e79-487e-9c38-038b0993b2bd",
   "metadata": {},
   "outputs": [
    {
     "name": "stdout",
     "output_type": "stream",
     "text": [
      "[2, 12, 30, 56]\n"
     ]
    }
   ],
   "source": [
    "data = [(1,2),(3,4),(5,6),(7,8)]\n",
    "result = list(starmap(lambda x,y : x * y, data))\n",
    "print(result)"
   ]
  },
  {
   "cell_type": "code",
   "execution_count": 23,
   "id": "2f818071-f9c3-4419-b401-4bcdf8acba28",
   "metadata": {},
   "outputs": [
    {
     "name": "stdout",
     "output_type": "stream",
     "text": [
      "[3, 5, 7, 3, 5, 7]\n"
     ]
    }
   ],
   "source": [
    "from itertools import filterfalse\n",
    "data = [2,3,4,5,6,7,8,12,22,3,34,5,6,7]\n",
    "result = list(filterfalse(lambda x : x%2 == 0, data))\n",
    "\n",
    "print(result)"
   ]
  },
  {
   "cell_type": "code",
   "execution_count": 15,
   "id": "430f11dd-a15d-4677-a40d-e0ce42772545",
   "metadata": {},
   "outputs": [
    {
     "name": "stdout",
     "output_type": "stream",
     "text": [
      "[3, 7, 11, 15]\n"
     ]
    }
   ],
   "source": [
    "data = [(1,2),(3,4),(5,6),(7,8)]\n",
    "result = list(starmap(lambda x,y : x + y, data))\n",
    "print(result)"
   ]
  },
  {
   "cell_type": "code",
   "execution_count": 25,
   "id": "05f2a21d-7eb1-417d-af17-10f07fb39bee",
   "metadata": {},
   "outputs": [
    {
     "name": "stdout",
     "output_type": "stream",
     "text": [
      "[2.0, 1.4, 1.5, 1.25]\n"
     ]
    }
   ],
   "source": [
    "data = [(4,2),(7,5),(9,6),(10,8)]\n",
    "result = list(starmap(lambda x,y : x / y, data))\n",
    "print(result)"
   ]
  },
  {
   "cell_type": "code",
   "execution_count": 29,
   "id": "49e4b65e-bf74-4a70-8e1e-fad9cb315ad4",
   "metadata": {},
   "outputs": [
    {
     "name": "stdout",
     "output_type": "stream",
     "text": [
      "[2, 4, 6, 8, 12, 22, 34, 6]\n"
     ]
    }
   ],
   "source": [
    "from itertools import filterfalse\n",
    "data = [2,3,4,5,6,7,8,12,22,3,34,5,6,7]\n",
    "result = list(filterfalse(lambda x : x%2 == 1, data))\n",
    "\n",
    "print(result)"
   ]
  },
  {
   "cell_type": "markdown",
   "id": "faafe180-eb1e-416b-b9d8-e33a3a7d1e3d",
   "metadata": {},
   "source": [
    "# product"
   ]
  },
  {
   "cell_type": "code",
   "execution_count": null,
   "id": "efb70994-e432-4f5e-9507-6224fb4f115f",
   "metadata": {},
   "outputs": [],
   "source": []
  }
 ],
 "metadata": {
  "kernelspec": {
   "display_name": "Python [conda env:base] *",
   "language": "python",
   "name": "conda-base-py"
  },
  "language_info": {
   "codemirror_mode": {
    "name": "ipython",
    "version": 3
   },
   "file_extension": ".py",
   "mimetype": "text/x-python",
   "name": "python",
   "nbconvert_exporter": "python",
   "pygments_lexer": "ipython3",
   "version": "3.12.7"
  }
 },
 "nbformat": 4,
 "nbformat_minor": 5
}
