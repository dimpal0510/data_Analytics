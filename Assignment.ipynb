{
 "cells": [
  {
   "cell_type": "code",
   "execution_count": 9,
   "id": "8b1ecd0a-2be8-4f34-aab0-c1ae5fcfd00e",
   "metadata": {},
   "outputs": [
    {
     "name": "stdin",
     "output_type": "stream",
     "text": [
      "Enter the first Numbere : 12\n",
      "Enter the second Number : 11\n",
      "Enter the third Number : 10\n"
     ]
    },
    {
     "name": "stdout",
     "output_type": "stream",
     "text": [
      "A is greater\n"
     ]
    }
   ],
   "source": [
    "a = int(input(\"Enter the first Numbere :\"))\n",
    "b = int(input(\"Enter the second Number :\"))\n",
    "c = int(input(\"Enter the third Number :\"))\n",
    "\n",
    "if a>b:\n",
    "    if a>c:\n",
    "        print(\"A is greater\")\n",
    "    else:\n",
    "        print(\"C is greater\")\n",
    "\n",
    "else:\n",
    "    if b>c:\n",
    "        print(\"B is greater\")\n",
    "    else:\n",
    "        print(\"C is greatest\")\n",
    "        "
   ]
  },
  {
   "cell_type": "code",
   "execution_count": 15,
   "id": "eb615b09-eca2-458f-9156-ada0743a0ccd",
   "metadata": {},
   "outputs": [
    {
     "name": "stdin",
     "output_type": "stream",
     "text": [
      "Enter youe Name : Dimple\n",
      "Enter your Age :  34\n"
     ]
    },
    {
     "name": "stdout",
     "output_type": "stream",
     "text": [
      "your name is Dimple and your age is 34\n"
     ]
    }
   ],
   "source": [
    "name = str(input(\"Enter youe Name :\"))\n",
    "age = int(input(\"Enter your Age : \"))\n",
    "\n",
    "print(\"your name is {} and your age is {}\".format(name, age))"
   ]
  },
  {
   "cell_type": "code",
   "execution_count": 17,
   "id": "f86948d7-aaec-4573-bd36-8235037ca01c",
   "metadata": {},
   "outputs": [
    {
     "data": {
      "text/plain": [
       "range(1, 6)"
      ]
     },
     "execution_count": 17,
     "metadata": {},
     "output_type": "execute_result"
    }
   ],
   "source": [
    "range(1,6)"
   ]
  },
  {
   "cell_type": "code",
   "execution_count": 23,
   "id": "400520e4-08a5-4ec7-8df5-ab212b63e31c",
   "metadata": {},
   "outputs": [
    {
     "data": {
      "text/plain": [
       "range(1, 4)"
      ]
     },
     "execution_count": 23,
     "metadata": {},
     "output_type": "execute_result"
    }
   ],
   "source": [
    "range(1,4)"
   ]
  },
  {
   "cell_type": "code",
   "execution_count": 35,
   "id": "4db7ae35-2e1b-49ec-af59-99c831580316",
   "metadata": {},
   "outputs": [
    {
     "name": "stdout",
     "output_type": "stream",
     "text": [
      "0 1 2 3 4 5 "
     ]
    }
   ],
   "source": [
    "for i in range(6):\n",
    "    print(i, end=\" \")"
   ]
  },
  {
   "cell_type": "code",
   "execution_count": 64,
   "id": "2d9cdde6-02ff-4855-97f3-d9b18d93eb43",
   "metadata": {},
   "outputs": [
    {
     "name": "stdout",
     "output_type": "stream",
     "text": [
      "5 sum = 15\n"
     ]
    }
   ],
   "source": [
    "sum = 0\n",
    "for i in range(1,6):\n",
    "    sum += i\n",
    "print(i,end = \" \")\n",
    "print(f\"sum = {sum}\")"
   ]
  },
  {
   "cell_type": "code",
   "execution_count": 72,
   "id": "0c75500a-e3cf-4eba-bc94-d59c76075bb9",
   "metadata": {},
   "outputs": [
    {
     "name": "stdin",
     "output_type": "stream",
     "text": [
      "Enter the Number 4\n",
      "Enter the Number 2\n",
      "Enter the Number 3\n",
      "Enter the Number 5\n",
      "Enter the Number 6\n"
     ]
    },
    {
     "name": "stdout",
     "output_type": "stream",
     "text": [
      "sum = 20\n"
     ]
    }
   ],
   "source": [
    "sum = 0\n",
    "for i in range(1,6):\n",
    "    num = int(input(\"Enter the Number\"))\n",
    "    sum += num\n",
    "\n",
    "print(f\"sum = {sum}\")"
   ]
  },
  {
   "cell_type": "code",
   "execution_count": 76,
   "id": "37ec256c-adc2-43c1-b745-2d4c19094566",
   "metadata": {},
   "outputs": [
    {
     "name": "stdin",
     "output_type": "stream",
     "text": [
      "Enter Marks 78\n"
     ]
    },
    {
     "name": "stdout",
     "output_type": "stream",
     "text": [
      "A grade\n"
     ]
    },
    {
     "name": "stdin",
     "output_type": "stream",
     "text": [
      "Enter Marks 99\n"
     ]
    },
    {
     "name": "stdout",
     "output_type": "stream",
     "text": [
      "A grade\n"
     ]
    },
    {
     "name": "stdin",
     "output_type": "stream",
     "text": [
      "Enter Marks 65\n"
     ]
    },
    {
     "name": "stdout",
     "output_type": "stream",
     "text": [
      "B grade\n"
     ]
    },
    {
     "name": "stdin",
     "output_type": "stream",
     "text": [
      "Enter Marks 42\n"
     ]
    },
    {
     "name": "stdout",
     "output_type": "stream",
     "text": [
      "B grade\n"
     ]
    },
    {
     "name": "stdin",
     "output_type": "stream",
     "text": [
      "Enter Marks 54\n"
     ]
    },
    {
     "name": "stdout",
     "output_type": "stream",
     "text": [
      "B grade\n"
     ]
    }
   ],
   "source": [
    "for i in range(1,6):\n",
    "    marks = int(input(\"Enter Marks\"))\n",
    "    if marks > 75:\n",
    "        print(\"A grade\")\n",
    "    else: \n",
    "        print(\"B grade\")"
   ]
  },
  {
   "cell_type": "code",
   "execution_count": 84,
   "id": "337e2f4c-a069-464d-99c6-6f00115cc9f2",
   "metadata": {},
   "outputs": [
    {
     "name": "stdin",
     "output_type": "stream",
     "text": [
      "Enter your Marks 75\n",
      "Enter your Marks 78\n",
      "Enter your Marks 74\n",
      "Enter your Marks 71\n",
      "Enter your Marks 72\n"
     ]
    },
    {
     "name": "stdout",
     "output_type": "stream",
     "text": [
      "370\n"
     ]
    }
   ],
   "source": [
    "sum = 0\n",
    "for i in range(1,6):\n",
    "    marks = int(input(\"Enter your Marks\"))\n",
    "    if marks > 70:\n",
    "     sum += marks\n",
    "\n",
    "print(sum)\n"
   ]
  },
  {
   "cell_type": "code",
   "execution_count": 86,
   "id": "d48b1311-9ef1-4126-9a94-0af2aeb4894d",
   "metadata": {},
   "outputs": [
    {
     "name": "stdin",
     "output_type": "stream",
     "text": [
      "Enter a number :  1\n",
      "Enter a number :  2\n",
      "Enter a number :  3\n",
      "Enter a number :  4\n",
      "Enter a number :  5\n"
     ]
    },
    {
     "name": "stdout",
     "output_type": "stream",
     "text": [
      "even sum = 6\n",
      "odd sum = 9\n"
     ]
    }
   ],
   "source": [
    "even_sum = 0 \n",
    "odd_sum = 0 \n",
    "\n",
    "for i in range(1,6):\n",
    "    num = int(input(\"Enter a number : \"))\n",
    "    if num%2 == 0:\n",
    "        even_sum += num \n",
    "    else:\n",
    "        odd_sum += num \n",
    "\n",
    "print(f\"even sum = {even_sum}\")\n",
    "print(f\"odd sum = {odd_sum}\")"
   ]
  },
  {
   "cell_type": "code",
   "execution_count": 94,
   "id": "9400dd4a-4069-4b43-ba5e-13124c2f340f",
   "metadata": {},
   "outputs": [
    {
     "name": "stdout",
     "output_type": "stream",
     "text": [
      "10 9 8 7 6 5 4 3 2 1 "
     ]
    }
   ],
   "source": [
    "for i in range(10,0,-1):\n",
    "    print(i , end=\" \")"
   ]
  },
  {
   "cell_type": "code",
   "execution_count": 96,
   "id": "50141ff8-021d-4ae8-b303-91f21fdeb911",
   "metadata": {},
   "outputs": [
    {
     "name": "stdout",
     "output_type": "stream",
     "text": [
      "1 3 5 7 9 "
     ]
    }
   ],
   "source": [
    "for i in range(1,10,2):\n",
    "    print(i , end = \" \")"
   ]
  },
  {
   "cell_type": "code",
   "execution_count": 100,
   "id": "d98cbe04-face-400b-bc9d-56638b45e994",
   "metadata": {},
   "outputs": [
    {
     "name": "stdout",
     "output_type": "stream",
     "text": [
      "1 2 3 4 5 6 7 8 9 "
     ]
    }
   ],
   "source": [
    "for i in range(1,10,1):\n",
    "    print(i , end = \" \")"
   ]
  },
  {
   "cell_type": "code",
   "execution_count": 102,
   "id": "fa1d915f-e061-4272-8abe-2f54704669b4",
   "metadata": {},
   "outputs": [
    {
     "name": "stdout",
     "output_type": "stream",
     "text": [
      "1 2 3 4 5 "
     ]
    }
   ],
   "source": [
    "for row in range(1,6):\n",
    "    print(row, end = \" \")"
   ]
  },
  {
   "cell_type": "code",
   "execution_count": 108,
   "id": "ae7c8db4-959b-474f-900f-c437cd2f4d2e",
   "metadata": {},
   "outputs": [
    {
     "name": "stdout",
     "output_type": "stream",
     "text": [
      "Hello Hello Hello Hello Hello Hello "
     ]
    }
   ],
   "source": [
    "for row in range(6):\n",
    "        print(\"Hello\", end =\" \")"
   ]
  },
  {
   "cell_type": "code",
   "execution_count": 110,
   "id": "d2010bd5-6e56-458a-8926-aa7f7d4dc25d",
   "metadata": {},
   "outputs": [
    {
     "name": "stdout",
     "output_type": "stream",
     "text": [
      "1\n",
      "2\n",
      "3\n",
      "4\n",
      "5\n",
      "6\n"
     ]
    }
   ],
   "source": [
    "for i in range(1,7):\n",
    "    print(i)"
   ]
  },
  {
   "cell_type": "code",
   "execution_count": 116,
   "id": "869a4550-5d1a-4947-b09f-2b20a4f4656c",
   "metadata": {},
   "outputs": [
    {
     "name": "stdout",
     "output_type": "stream",
     "text": [
      "1 3 5 7 9 11 13 "
     ]
    }
   ],
   "source": [
    "for i in range(1,15,2):\n",
    "    print(i , end = \" \")"
   ]
  },
  {
   "cell_type": "code",
   "execution_count": 118,
   "id": "8b210161-de63-4b36-be80-a99a91c89f6e",
   "metadata": {},
   "outputs": [
    {
     "name": "stdout",
     "output_type": "stream",
     "text": [
      "1 hello\n",
      "2 hello\n",
      "3 hello\n",
      "4 hello\n",
      "5 hello\n"
     ]
    }
   ],
   "source": [
    "for i in range(1,6):\n",
    "    print(f\"{i}\", \"hello\")"
   ]
  },
  {
   "cell_type": "code",
   "execution_count": 124,
   "id": "acf22df7-3da8-4225-818d-717f0ea2421f",
   "metadata": {},
   "outputs": [
    {
     "name": "stdin",
     "output_type": "stream",
     "text": [
      "Enter your Number 12\n"
     ]
    },
    {
     "name": "stdout",
     "output_type": "stream",
     "text": [
      "12\n"
     ]
    },
    {
     "name": "stdin",
     "output_type": "stream",
     "text": [
      "Enter your Number 14\n"
     ]
    },
    {
     "name": "stdout",
     "output_type": "stream",
     "text": [
      "14\n"
     ]
    },
    {
     "name": "stdin",
     "output_type": "stream",
     "text": [
      "Enter your Number 15\n"
     ]
    },
    {
     "name": "stdout",
     "output_type": "stream",
     "text": [
      "15\n"
     ]
    },
    {
     "name": "stdin",
     "output_type": "stream",
     "text": [
      "Enter your Number 16\n"
     ]
    },
    {
     "name": "stdout",
     "output_type": "stream",
     "text": [
      "16\n"
     ]
    },
    {
     "name": "stdin",
     "output_type": "stream",
     "text": [
      "Enter your Number 17\n"
     ]
    },
    {
     "name": "stdout",
     "output_type": "stream",
     "text": [
      "17\n"
     ]
    }
   ],
   "source": [
    "for i in range(1,6):\n",
    "    num = int(input(\"Enter your Number\"))\n",
    "    print(num)"
   ]
  },
  {
   "cell_type": "code",
   "execution_count": 1,
   "id": "364f1b61-94e5-4880-bfd3-230f3672b65e",
   "metadata": {},
   "outputs": [
    {
     "name": "stdin",
     "output_type": "stream",
     "text": [
      "Enter your name Dimple\n",
      "Enter your name AArohi\n",
      "Enter your name Dhyanam\n"
     ]
    },
    {
     "name": "stdout",
     "output_type": "stream",
     "text": [
      "Dhyanam\n"
     ]
    }
   ],
   "source": [
    "for i in range(1,4):\n",
    "    name = input(\"Enter your name\")\n",
    "\n",
    "print(name)"
   ]
  },
  {
   "cell_type": "code",
   "execution_count": 11,
   "id": "2536d301-60c1-4b87-9dd9-c3abde8e81b6",
   "metadata": {},
   "outputs": [
    {
     "name": "stdin",
     "output_type": "stream",
     "text": [
      "Enter the number : 12\n"
     ]
    },
    {
     "name": "stdout",
     "output_type": "stream",
     "text": [
      "Even Number\n"
     ]
    },
    {
     "name": "stdin",
     "output_type": "stream",
     "text": [
      "Enter the number : 11\n"
     ]
    },
    {
     "name": "stdout",
     "output_type": "stream",
     "text": [
      "Odd number\n"
     ]
    },
    {
     "name": "stdin",
     "output_type": "stream",
     "text": [
      "Enter the number : 10\n"
     ]
    },
    {
     "name": "stdout",
     "output_type": "stream",
     "text": [
      "Even Number\n"
     ]
    },
    {
     "name": "stdin",
     "output_type": "stream",
     "text": [
      "Enter the number : 9\n"
     ]
    },
    {
     "name": "stdout",
     "output_type": "stream",
     "text": [
      "Odd number\n"
     ]
    },
    {
     "name": "stdin",
     "output_type": "stream",
     "text": [
      "Enter the number : 8\n"
     ]
    },
    {
     "name": "stdout",
     "output_type": "stream",
     "text": [
      "Even Number\n"
     ]
    }
   ],
   "source": [
    "for i in range(1,6):\n",
    "    num = int(input(\"Enter the number :\"))\n",
    "    if num %2 == 0:\n",
    "          print(\"Even Number\")\n",
    "    else:\n",
    "          print(\"Odd number\")\n",
    "          "
   ]
  },
  {
   "cell_type": "code",
   "execution_count": 15,
   "id": "f98cd0f9-c671-43d6-ab34-6e6470f6b0d8",
   "metadata": {},
   "outputs": [
    {
     "name": "stdout",
     "output_type": "stream",
     "text": [
      "1 2 3 4 5 6 7 8 9 10 "
     ]
    }
   ],
   "source": [
    "for num in range(1,11):\n",
    "    print(num , end = \" \")"
   ]
  },
  {
   "cell_type": "code",
   "execution_count": 33,
   "id": "236e4546-a6ec-4e84-8661-b7c9ea0ea0e3",
   "metadata": {},
   "outputs": [
    {
     "name": "stdout",
     "output_type": "stream",
     "text": [
      "c\n",
      "c++\n",
      "java\n"
     ]
    }
   ],
   "source": [
    "lang = ['c','c++','java']\n",
    "\n",
    "for item in lang:\n",
    "         print(item)"
   ]
  },
  {
   "cell_type": "code",
   "execution_count": 29,
   "id": "22ec2de6-acb8-46a7-aebf-bfe062ade513",
   "metadata": {},
   "outputs": [
    {
     "name": "stdout",
     "output_type": "stream",
     "text": [
      "C\n",
      "C++\n",
      "JAVA\n"
     ]
    }
   ],
   "source": [
    "lang=['C','C++','JAVA']\n",
    "\n",
    "for item in lang:\n",
    "   print(item)"
   ]
  },
  {
   "cell_type": "code",
   "execution_count": 35,
   "id": "80004983-8d76-4b09-8312-a100cd0a2dda",
   "metadata": {},
   "outputs": [
    {
     "name": "stdout",
     "output_type": "stream",
     "text": [
      "1 2 3 4 5 6 7 8 9 10 \n"
     ]
    }
   ],
   "source": [
    "for i in range(1,11):\n",
    "    print(i , end = \" \")\n",
    "\n",
    "print()"
   ]
  },
  {
   "cell_type": "code",
   "execution_count": 39,
   "id": "5f342ca2-268f-4b76-b243-ca322e2a3336",
   "metadata": {},
   "outputs": [
    {
     "name": "stdout",
     "output_type": "stream",
     "text": [
      "0 1 2 3 4 5 \n"
     ]
    }
   ],
   "source": [
    "for i in range(6):\n",
    "    print(i, end = \" \")\n",
    "\n",
    "print()"
   ]
  },
  {
   "cell_type": "code",
   "execution_count": 41,
   "id": "64ca7313-6c17-46f0-a29b-5e12bec89f6e",
   "metadata": {},
   "outputs": [
    {
     "name": "stdout",
     "output_type": "stream",
     "text": [
      "1 3 5 7 9 "
     ]
    }
   ],
   "source": [
    "for i in range(1,11,2):\n",
    "    print(i , end = \" \")"
   ]
  },
  {
   "cell_type": "code",
   "execution_count": 43,
   "id": "6d11d530-7ddd-43d2-89bc-5b6a7acc549b",
   "metadata": {},
   "outputs": [
    {
     "name": "stdout",
     "output_type": "stream",
     "text": [
      "10 9 8 7 6 5 4 3 2 "
     ]
    }
   ],
   "source": [
    "for i in range(10,1,-1):\n",
    "    print(i , end = \" \")"
   ]
  },
  {
   "cell_type": "code",
   "execution_count": 53,
   "id": "c7bb0044-32c1-4e43-88db-a8322377094b",
   "metadata": {},
   "outputs": [
    {
     "name": "stdin",
     "output_type": "stream",
     "text": [
      "Enter the number you want factorial value 14\n"
     ]
    },
    {
     "name": "stdout",
     "output_type": "stream",
     "text": [
      "the factorial value of 14 is 87178291200\n"
     ]
    }
   ],
   "source": [
    "f = 1\n",
    "\n",
    "num = int(input(\"Enter the number you want factorial value\"))\n",
    "for i in range(1, num+1):\n",
    "    f*=i\n",
    "\n",
    "print(f\"the factorial value of {num} is {f}\")\n",
    "    "
   ]
  },
  {
   "cell_type": "code",
   "execution_count": 63,
   "id": "4e89a31d-c037-4328-a7a7-4afc8b1cd3d2",
   "metadata": {},
   "outputs": [
    {
     "name": "stdout",
     "output_type": "stream",
     "text": [
      "python advance\n",
      "python popular\n",
      "java advance\n",
      "java popular\n"
     ]
    }
   ],
   "source": [
    "lag = [\"python\", \"java\"]\n",
    "feature = [\"advance\" , \"popular\"]\n",
    "\n",
    "for a in lag:\n",
    "    for b in feature:\n",
    "        print(a,b)\n",
    "        "
   ]
  },
  {
   "cell_type": "code",
   "execution_count": 77,
   "id": "ce0cdfac-dd48-4694-926d-251fb01f59ea",
   "metadata": {},
   "outputs": [
    {
     "name": "stdin",
     "output_type": "stream",
     "text": [
      "Enter the number : 23\n"
     ]
    },
    {
     "name": "stdout",
     "output_type": "stream",
     "text": [
      "Prime Number\n"
     ]
    }
   ],
   "source": [
    "num = int(input(\"Enter the number :\"))\n",
    "flag = True\n",
    "for i in range(2,num):\n",
    "    if num%i == 0:\n",
    "        flag = False\n",
    "        break\n",
    "    else:\n",
    "        flag = True\n",
    "\n",
    "if flag:\n",
    "    print(\"Prime Number\")\n",
    "\n",
    "else:\n",
    "    print(\"Not a prime Number\")"
   ]
  },
  {
   "cell_type": "code",
   "execution_count": 69,
   "id": "1024d7a4-58a6-4133-ade5-481e75d964a1",
   "metadata": {},
   "outputs": [
    {
     "name": "stdin",
     "output_type": "stream",
     "text": [
      "Enter a number :  12\n"
     ]
    },
    {
     "name": "stdout",
     "output_type": "stream",
     "text": [
      "not a prime number\n"
     ]
    }
   ],
   "source": [
    "num = int(input(\"Enter a number : \"))#20  5 \n",
    "flag = True \n",
    "\n",
    "for i in range(2,num):\n",
    "    if num%i == 0:\n",
    "        flag = False\n",
    "        break\n",
    "    else:\n",
    "        flag = True\n",
    "\n",
    "if flag:\n",
    "    print(\"prime number\")\n",
    "else:\n",
    "    print(\"not a prime number\")"
   ]
  },
  {
   "cell_type": "code",
   "execution_count": 85,
   "id": "eb990239-0dcb-4e74-91c8-5f9334268bcf",
   "metadata": {},
   "outputs": [
    {
     "name": "stdout",
     "output_type": "stream",
     "text": [
      " *   *   *   *   *  \n",
      " *   *   *   *   *  \n",
      " *   *   *   *   *  \n",
      " *   *   *   *   *  \n",
      " *   *   *   *   *  \n"
     ]
    }
   ],
   "source": [
    "for row in range(1,6):\n",
    "    for col in range(1,6):\n",
    "        print(\" * \", end = \" \")\n",
    "    print()"
   ]
  },
  {
   "cell_type": "code",
   "execution_count": 93,
   "id": "7920ca4e-23b0-4392-8435-178f4dcef678",
   "metadata": {},
   "outputs": [
    {
     "name": "stdout",
     "output_type": "stream",
     "text": [
      " *   *   *   *   *  \n",
      " *   *   *   *   *  \n",
      " *   *   $   *   *  \n",
      " *   *   *   *   *  \n",
      " *   *   *   *   *  \n"
     ]
    }
   ],
   "source": [
    "for row in range(1,6):\n",
    "    for col in range(1,6):\n",
    "        if row == 3 and col == 3:\n",
    "            print(\" $ \", end = \" \")\n",
    "        else:\n",
    "            print(\" * \", end = \" \")\n",
    "    print()"
   ]
  },
  {
   "cell_type": "code",
   "execution_count": 95,
   "id": "4875c6bb-28cd-4f5e-a4b9-805dee631661",
   "metadata": {},
   "outputs": [
    {
     "name": "stdout",
     "output_type": "stream",
     "text": [
      " *  \n",
      " *   *  \n",
      " *   *   *  \n",
      " *   *   *   *  \n",
      " *   *   *   *   *  \n"
     ]
    }
   ],
   "source": [
    "for row in range(1,6):\n",
    "    for col in range(1,row+1):\n",
    "        print(\" * \", end = \" \")\n",
    "    print()"
   ]
  },
  {
   "cell_type": "code",
   "execution_count": 101,
   "id": "e1310707-1dff-423b-a0a5-aa36b5e15ce0",
   "metadata": {},
   "outputs": [
    {
     "name": "stdout",
     "output_type": "stream",
     "text": [
      "1 \n",
      "1 2 \n",
      "1 2 3 \n",
      "1 2 3 4 \n",
      "1 2 3 4 5 \n"
     ]
    }
   ],
   "source": [
    "for row in range(1,6):\n",
    "    for col in range(1,row+1):\n",
    "        print(col,end=\" \")\n",
    "    print()"
   ]
  },
  {
   "cell_type": "code",
   "execution_count": 105,
   "id": "fd69d16d-0922-4b76-83e7-f428979ce62f",
   "metadata": {},
   "outputs": [
    {
     "name": "stdout",
     "output_type": "stream",
     "text": [
      "1 \n",
      "2 2 \n",
      "3 3 3 \n",
      "4 4 4 4 \n",
      "5 5 5 5 5 \n"
     ]
    }
   ],
   "source": [
    "for row in range(1,6):\n",
    "    for col in range(1,row+1):\n",
    "        print(row, end = \" \")\n",
    "    print()"
   ]
  },
  {
   "cell_type": "code",
   "execution_count": 144,
   "id": "0d95797c-8cfe-4060-b2a4-5d4f1f1d2df0",
   "metadata": {},
   "outputs": [
    {
     "name": "stdout",
     "output_type": "stream",
     "text": [
      "1 \n",
      "2 2 \n",
      "3 3 3 \n",
      "4 4 4 4 \n",
      "5 5 5 5 5 \n"
     ]
    }
   ],
   "source": [
    "for row in range(1,6):\n",
    "    for col in range(1,row+1):\n",
    "        print(row, end = \" \")\n",
    "    print()"
   ]
  },
  {
   "cell_type": "code",
   "execution_count": 3,
   "id": "de268f9d-b1ff-47b0-b47b-7bb8d2b23643",
   "metadata": {},
   "outputs": [
    {
     "name": "stdout",
     "output_type": "stream",
     "text": [
      "1 \n",
      "2 2 \n",
      "3 3 3 \n",
      "4 4 4 4 \n",
      "5 5 5 5 5 \n"
     ]
    }
   ],
   "source": [
    "for col in range(1,6):\n",
    "    for row in range(1,col+1):\n",
    "        print(col, end = \" \")\n",
    "    print()"
   ]
  },
  {
   "cell_type": "code",
   "execution_count": 1,
   "id": "d7b6e57d-f084-4d68-9b2d-65c9f078267b",
   "metadata": {},
   "outputs": [
    {
     "name": "stdout",
     "output_type": "stream",
     "text": [
      "50 degree fahrenheit is equals to 10.0 degrees celsius\n"
     ]
    }
   ],
   "source": [
    "def fahrenheit_to_celsius(fahrenheit):\n",
    "\n",
    "    celsius = (fahrenheit - 32)* (5/9)\n",
    "    return celsius\n",
    "\n",
    "far_temp = 50\n",
    "cel_temp = fahrenheit_to_celsius(far_temp)\n",
    "print(f\"{far_temp} degree fahrenheit is equals to {cel_temp} degrees celsius\")\n"
   ]
  },
  {
   "cell_type": "code",
   "execution_count": 3,
   "id": "55816235-3ab9-4e35-b35c-82068a44ed75",
   "metadata": {},
   "outputs": [
    {
     "name": "stdout",
     "output_type": "stream",
     "text": [
      "10 degrees Celsius is equal to 50.0 degrees Farenheit\n"
     ]
    }
   ],
   "source": [
    "def celsius_to_fahrenheit(celsius):\n",
    "    \n",
    "    fahrenheit = (celsius * 9/5) + 32 \n",
    "    return fahrenheit \n",
    "\n",
    "cel_temp = 10\n",
    "far_temp = celsius_to_fahrenheit(cel_temp) \n",
    "print(f\"{cel_temp} degrees Celsius is equal to {far_temp} degrees Farenheit\") "
   ]
  },
  {
   "cell_type": "code",
   "execution_count": 1,
   "id": "7248a76d-8cb7-485a-8117-8ab1043a34d6",
   "metadata": {},
   "outputs": [
    {
     "name": "stdout",
     "output_type": "stream",
     "text": [
      "Python Exercises \n",
      "Java Exercise\n"
     ]
    }
   ],
   "source": [
    "# Write a Python program to append text to a file and display the text. \n",
    "\n",
    "def fileRead(fname):\n",
    "    from itertools import islice\n",
    "    with open(fname, \"w\") as myfile:\n",
    "        myfile.write(\"Python Exercises \\n\")\n",
    "        myfile.write(\"Java Exercise\")\n",
    "\n",
    "    file = open(fname)\n",
    "    print(file.read())\n",
    "\n",
    "fileRead(\"abc.txt\")\n",
    "\n"
   ]
  },
  {
   "cell_type": "code",
   "execution_count": null,
   "id": "a019e8c8-cb27-4892-9058-b01000a4b0d2",
   "metadata": {},
   "outputs": [],
   "source": []
  }
 ],
 "metadata": {
  "kernelspec": {
   "display_name": "Python [conda env:base] *",
   "language": "python",
   "name": "conda-base-py"
  },
  "language_info": {
   "codemirror_mode": {
    "name": "ipython",
    "version": 3
   },
   "file_extension": ".py",
   "mimetype": "text/x-python",
   "name": "python",
   "nbconvert_exporter": "python",
   "pygments_lexer": "ipython3",
   "version": "3.12.7"
  }
 },
 "nbformat": 4,
 "nbformat_minor": 5
}
