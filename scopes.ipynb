{
 "cells": [
  {
   "cell_type": "code",
   "execution_count": 1,
   "id": "a70336c0-0c6b-4082-b429-29b71b5b496b",
   "metadata": {},
   "outputs": [],
   "source": [
    "#input :keyborad\n",
    "#scopes\n",
    "#namespace\n",
    "#variables\n",
    "\n",
    "#pass\n",
    "#continue\n",
    "#break"
   ]
  },
  {
   "cell_type": "code",
   "execution_count": 5,
   "id": "e99658d6-d10b-4c8c-9a6e-6eb6d9cfb4e2",
   "metadata": {},
   "outputs": [
    {
     "name": "stdout",
     "output_type": "stream",
     "text": [
      "Ram\n"
     ]
    },
    {
     "name": "stdin",
     "output_type": "stream",
     "text": [
      "Enter the Number : 9\n"
     ]
    },
    {
     "name": "stdout",
     "output_type": "stream",
     "text": [
      "1 2 3 4 5 "
     ]
    }
   ],
   "source": [
    "name = \"Ram\"\n",
    "\n",
    "def additionNumbers():\n",
    "    num = 0\n",
    "    i = 1\n",
    "    num = int(input(\"Enter the Number :\"))\n",
    "    while(i<=num):\n",
    "        print(i, end = \" \")\n",
    "        if (i== 5):\n",
    "            break\n",
    "        i = i+1\n",
    "\n",
    "print(name)\n",
    "additionNumbers()"
   ]
  },
  {
   "cell_type": "code",
   "execution_count": 23,
   "id": "bb3d2357-5c34-4952-ae79-561deb438c31",
   "metadata": {},
   "outputs": [
    {
     "name": "stdout",
     "output_type": "stream",
     "text": [
      "1\n",
      "3\n",
      "5\n",
      "7\n"
     ]
    }
   ],
   "source": [
    "for i in range(1, 20):\n",
    "    if i%2==0:\n",
    "        continue\n",
    "    if i>7:\n",
    "        break\n",
    "    print(i)"
   ]
  },
  {
   "cell_type": "code",
   "execution_count": null,
   "id": "e1f99977-4799-42db-a820-a39c680930cc",
   "metadata": {},
   "outputs": [],
   "source": []
  }
 ],
 "metadata": {
  "kernelspec": {
   "display_name": "Python [conda env:base] *",
   "language": "python",
   "name": "conda-base-py"
  },
  "language_info": {
   "codemirror_mode": {
    "name": "ipython",
    "version": 3
   },
   "file_extension": ".py",
   "mimetype": "text/x-python",
   "name": "python",
   "nbconvert_exporter": "python",
   "pygments_lexer": "ipython3",
   "version": "3.12.7"
  }
 },
 "nbformat": 4,
 "nbformat_minor": 5
}
