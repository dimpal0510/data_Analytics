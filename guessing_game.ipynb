{
 "cells": [
  {
   "cell_type": "code",
   "execution_count": 9,
   "id": "c4acfd18-fa08-4271-9c1e-75ec906132ee",
   "metadata": {},
   "outputs": [
    {
     "name": "stdin",
     "output_type": "stream",
     "text": [
      "Enter the lower limit : 10\n",
      "Enter the upper Limit : 30\n",
      "Guess the Number : 15\n"
     ]
    },
    {
     "name": "stdout",
     "output_type": "stream",
     "text": [
      "You have Entered lower value : try again\n"
     ]
    },
    {
     "name": "stdin",
     "output_type": "stream",
     "text": [
      "Guess the Number : 17\n"
     ]
    },
    {
     "name": "stdout",
     "output_type": "stream",
     "text": [
      "You have Entered lower value : try again\n"
     ]
    },
    {
     "name": "stdin",
     "output_type": "stream",
     "text": [
      "Guess the Number : 20\n"
     ]
    },
    {
     "name": "stdout",
     "output_type": "stream",
     "text": [
      "You have Entered lower value : try again\n"
     ]
    },
    {
     "name": "stdin",
     "output_type": "stream",
     "text": [
      "Guess the Number : 25\n"
     ]
    },
    {
     "name": "stdout",
     "output_type": "stream",
     "text": [
      "you are winner\n"
     ]
    }
   ],
   "source": [
    "import random\n",
    "\n",
    "l1 = int(input(\"Enter the lower limit :\"))\n",
    "u1 = int(input(\"Enter the upper Limit :\"))\n",
    "\n",
    "random_number = random.randint(l1, u1)\n",
    "\n",
    "chances = 1\n",
    "while(chances <=5):\n",
    "    guess = int(input(\"Guess the Number :\"))\n",
    "    if(random_number == guess):\n",
    "        print(\"you are winner\")\n",
    "        break\n",
    "    elif(random_number > guess):\n",
    "        print(\"You have Entered lower value : try again\")\n",
    "        chances = chances + 1\n",
    "    elif(random_number < guess):\n",
    "        print(\"You have Entered higher value :try again\")\n",
    "        chances = chances + 1\n",
    "    else:\n",
    "        print(\"Invalid Input\")\n",
    "\n",
    "if(chances == 6):\n",
    "    print(\"better luck next time\")\n",
    "    print(f\"the actual number is {random_number}\")"
   ]
  },
  {
   "cell_type": "code",
   "execution_count": 7,
   "id": "b017fc9a-0c9e-473f-86f9-49659ac7c397",
   "metadata": {},
   "outputs": [
    {
     "name": "stdout",
     "output_type": "stream",
     "text": [
      "2002 2009 2016 2023 2037 2044 2051 2058 2072 2079 2086 2093 2107 2114 2121 2128 2142 2149 2156 2163 2177 2184 2191 2198 2212 2219 2226 2233 2247 2254 2261 2268 2282 2289 2296 2303 2317 2324 2331 2338 2352 2359 2366 2373 2387 2394 2401 2408 2422 2429 2436 2443 2457 2464 2471 2478 2492 2499 2506 2513 2527 2534 2541 2548 2562 2569 2576 2583 2597 2604 2611 2618 2632 2639 2646 2653 2667 2674 2681 2688 2702 2709 2716 2723 2737 2744 2751 2758 2772 2779 2786 2793 2807 2814 2821 2828 2842 2849 2856 2863 2877 2884 2891 2898 2912 2919 2926 2933 2947 2954 2961 2968 2982 2989 2996 3003 3017 3024 3031 3038 3052 3059 3066 3073 3087 3094 3101 3108 3122 3129 3136 3143 3157 3164 3171 3178 3192 3199 "
     ]
    }
   ],
   "source": [
    "for i in range(2000, 3201):\n",
    "    if i%7 == 0 and i%5 != 0:\n",
    "        print(i, end = \" \")"
   ]
  },
  {
   "cell_type": "code",
   "execution_count": 19,
   "id": "b908a680-76d5-451f-847c-9596c630dae5",
   "metadata": {},
   "outputs": [
    {
     "name": "stdin",
     "output_type": "stream",
     "text": [
      "Enter number which factorial value you want to find :  10\n"
     ]
    },
    {
     "name": "stdout",
     "output_type": "stream",
     "text": [
      "factorial value of 10 is 3628800\n"
     ]
    }
   ],
   "source": [
    "#Find the factorial Number \n",
    "\n",
    "f = 1\n",
    "\n",
    "num = int(input(\"Enter number which factorial value you want to find : \"))\n",
    "for i in range(1,num+1):\n",
    "    f = f * i\n",
    "\n",
    "print(f\"factorial value of {num} is {f}\")"
   ]
  },
  {
   "cell_type": "code",
   "execution_count": 37,
   "id": "4604a112-0b5b-4f07-b39d-c388119066fa",
   "metadata": {},
   "outputs": [
    {
     "name": "stdin",
     "output_type": "stream",
     "text": [
      "Enter the numbers : 1,2,3,4,5,6,7\n"
     ]
    },
    {
     "name": "stdout",
     "output_type": "stream",
     "text": [
      "['1', '2', '3', '4', '5', '6', '7']\n",
      "('1', '2', '3', '4', '5', '6', '7')\n"
     ]
    }
   ],
   "source": [
    "#write a program which accept a sequence of comma seprated numbers from console and generate a list and a tuple which contains every numbers.\n",
    "a = input(\"Enter the numbers :\")\n",
    "a = a.split(\",\")\n",
    "\n",
    "print(list(a))\n",
    "print(tuple(a))"
   ]
  },
  {
   "cell_type": "code",
   "execution_count": 3,
   "id": "aebea0df-c701-4683-b884-7839cd129085",
   "metadata": {},
   "outputs": [
    {
     "name": "stdin",
     "output_type": "stream",
     "text": [
      "Enter the first Number : 10\n",
      "Enter the second Number : 20\n",
      "Enter your choice : 15\n"
     ]
    },
    {
     "name": "stdout",
     "output_type": "stream",
     "text": [
      "wrong choice\n",
      "the right choice is 10\n"
     ]
    }
   ],
   "source": [
    "import random\n",
    "\n",
    "a = int(input(\"Enter the first Number :\"))\n",
    "b = int(input(\"Enter the second Number :\"))\n",
    "\n",
    "c = random.randint(a , b)\n",
    "\n",
    "d = int(input(\"Enter your choice :\"))\n",
    "\n",
    "if c == d:\n",
    "    print(\"you have right choice \")\n",
    "\n",
    "else:\n",
    "    print(\"wrong choice\")\n",
    "    print(f\"the right choice is {c}\")"
   ]
  },
  {
   "cell_type": "markdown",
   "id": "b4eadbc8-7e5c-4ea6-9330-f7ac244fd837",
   "metadata": {},
   "source": []
  },
  {
   "cell_type": "code",
   "execution_count": 6,
   "id": "1dc71169-b2c9-40d7-96dd-42f0523a4c53",
   "metadata": {},
   "outputs": [
    {
     "name": "stdout",
     "output_type": "stream",
     "text": [
      "2 4 6 8 10 12 14 16 18 20 "
     ]
    }
   ],
   "source": [
    "i = 2\n",
    "\n",
    "while(i <=20):\n",
    "    if(i%2==0):\n",
    "        print(i, end=\" \")\n",
    "    i = i+1"
   ]
  },
  {
   "cell_type": "code",
   "execution_count": 10,
   "id": "3ab38993-c583-4b7d-8bca-e81ba03683bd",
   "metadata": {},
   "outputs": [
    {
     "name": "stdin",
     "output_type": "stream",
     "text": [
      "Enter yoyr favourite number : 3\n"
     ]
    },
    {
     "name": "stdout",
     "output_type": "stream",
     "text": [
      "your number is in list\n"
     ]
    }
   ],
   "source": [
    "ls = [2,3,4,5,6,7,8,9]\n",
    "\n",
    "ls1 = int(input(\"Enter yoyr favourite number :\"))\n",
    "\n",
    "if ls1 in ls:\n",
    "    print(\"your number is in list\")\n",
    "\n",
    "else:\n",
    "    print(\"try again\")"
   ]
  },
  {
   "cell_type": "code",
   "execution_count": 12,
   "id": "5b3c55dc-ddc4-4726-8342-db99c2c6508b",
   "metadata": {},
   "outputs": [
    {
     "name": "stdin",
     "output_type": "stream",
     "text": [
      "guess a number between 1 and 10:  5\n"
     ]
    },
    {
     "name": "stdout",
     "output_type": "stream",
     "text": [
      "nope, sorry. try again!\n"
     ]
    },
    {
     "name": "stdin",
     "output_type": "stream",
     "text": [
      "guess a number between 1 and 10:  6\n"
     ]
    },
    {
     "name": "stdout",
     "output_type": "stream",
     "text": [
      "nope, sorry. try again!\n"
     ]
    },
    {
     "name": "stdin",
     "output_type": "stream",
     "text": [
      "guess a number between 1 and 10:  7\n"
     ]
    },
    {
     "name": "stdout",
     "output_type": "stream",
     "text": [
      "nope, sorry. try again!\n"
     ]
    },
    {
     "name": "stdin",
     "output_type": "stream",
     "text": [
      "guess a number between 1 and 10:  2\n"
     ]
    },
    {
     "name": "stdout",
     "output_type": "stream",
     "text": [
      "nope, sorry. try again!\n"
     ]
    },
    {
     "name": "stdin",
     "output_type": "stream",
     "text": [
      "guess a number between 1 and 10:  8\n"
     ]
    },
    {
     "name": "stdout",
     "output_type": "stream",
     "text": [
      "nope, sorry. try again!\n"
     ]
    },
    {
     "name": "stdin",
     "output_type": "stream",
     "text": [
      "guess a number between 1 and 10:  9\n"
     ]
    },
    {
     "name": "stdout",
     "output_type": "stream",
     "text": [
      "congratulations! you won!\n"
     ]
    }
   ],
   "source": [
    "import random\n",
    "    \n",
    "num = random.randint(1, 10)\n",
    "guess = None\n",
    "    \n",
    "while guess != num:\n",
    "    guess = input(\"guess a number between 1 and 10: \")\n",
    "    guess = int(guess)\n",
    "    \n",
    "    if guess == num:\n",
    "        print(\"congratulations! you won!\")\n",
    "        break\n",
    "    else:\n",
    "        print(\"nope, sorry. try again!\")"
   ]
  },
  {
   "cell_type": "code",
   "execution_count": 14,
   "id": "86fc4c60-835c-4058-8497-97b477de9668",
   "metadata": {},
   "outputs": [
    {
     "name": "stdin",
     "output_type": "stream",
     "text": [
      "Enter the lower limit : 10\n",
      "Enter the upper Limit : 15\n",
      "Guess the Number : 12\n"
     ]
    },
    {
     "name": "stdout",
     "output_type": "stream",
     "text": [
      "You have Entered lower value : try again\n"
     ]
    },
    {
     "name": "stdin",
     "output_type": "stream",
     "text": [
      "Guess the Number : 14\n"
     ]
    },
    {
     "name": "stdout",
     "output_type": "stream",
     "text": [
      "You have Entered higher value :try again\n"
     ]
    },
    {
     "name": "stdin",
     "output_type": "stream",
     "text": [
      "Guess the Number : 16\n"
     ]
    },
    {
     "name": "stdout",
     "output_type": "stream",
     "text": [
      "You have Entered higher value :try again\n"
     ]
    },
    {
     "name": "stdin",
     "output_type": "stream",
     "text": [
      "Guess the Number : 11\n"
     ]
    },
    {
     "name": "stdout",
     "output_type": "stream",
     "text": [
      "You have Entered lower value : try again\n"
     ]
    },
    {
     "name": "stdin",
     "output_type": "stream",
     "text": [
      "Guess the Number : 12\n"
     ]
    },
    {
     "name": "stdout",
     "output_type": "stream",
     "text": [
      "You have Entered lower value : try again\n",
      "better luck next time\n",
      "the actual number is 13\n"
     ]
    }
   ],
   "source": [
    "import random\n",
    "\n",
    "l1 = int(input(\"Enter the lower limit :\"))\n",
    "u1 = int(input(\"Enter the upper Limit :\"))\n",
    "\n",
    "random_number = random.randint(l1, u1)\n",
    "\n",
    "chances = 1\n",
    "while(chances <=5):\n",
    "    guess = int(input(\"Guess the Number :\"))\n",
    "    if(random_number == guess):\n",
    "        print(\"you are winner\")\n",
    "        break\n",
    "    elif(random_number > guess):\n",
    "        print(\"You have Entered lower value : try again\")\n",
    "        chances = chances + 1\n",
    "    elif(random_number < guess):\n",
    "        print(\"You have Entered higher value :try again\")\n",
    "        chances = chances + 1\n",
    "    else:\n",
    "        print(\"Invalid Input\")\n",
    "\n",
    "if(chances == 6):\n",
    "    print(\"better luck next time\")\n",
    "    print(f\"the actual number is {random_number}\")"
   ]
  },
  {
   "cell_type": "code",
   "execution_count": null,
   "id": "659ce115-73ac-4ee6-a470-8aa594265620",
   "metadata": {},
   "outputs": [],
   "source": []
  }
 ],
 "metadata": {
  "kernelspec": {
   "display_name": "Python [conda env:base] *",
   "language": "python",
   "name": "conda-base-py"
  },
  "language_info": {
   "codemirror_mode": {
    "name": "ipython",
    "version": 3
   },
   "file_extension": ".py",
   "mimetype": "text/x-python",
   "name": "python",
   "nbconvert_exporter": "python",
   "pygments_lexer": "ipython3",
   "version": "3.12.7"
  }
 },
 "nbformat": 4,
 "nbformat_minor": 5
}
